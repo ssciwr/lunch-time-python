{
 "cells": [
  {
   "cell_type": "markdown",
   "id": "0",
   "metadata": {
    "slideshow": {
     "slide_type": "slide"
    }
   },
   "source": [
    "# Lunchtime Python #3: Click"
   ]
  },
  {
   "cell_type": "markdown",
   "id": "1",
   "metadata": {
    "slideshow": {
     "slide_type": "fragment"
    }
   },
   "source": [
    "Presenter: Dominic Kempf, Scientific Software Center"
   ]
  },
  {
   "cell_type": "markdown",
   "id": "2",
   "metadata": {
    "slideshow": {
     "slide_type": "fragment"
    }
   },
   "source": [
    "[Click](https://click.palletsprojects.com/en/8.0.x/) is a Python package for creating beautiful command line interfaces in a composable way with as little code as necessary."
   ]
  },
  {
   "cell_type": "markdown",
   "id": "3",
   "metadata": {
    "slideshow": {
     "slide_type": "slide"
    }
   },
   "source": [
    "## Command Line Interfaces: Why?"
   ]
  },
  {
   "cell_type": "markdown",
   "id": "4",
   "metadata": {
    "slideshow": {
     "slide_type": "fragment"
    }
   },
   "source": [
    "Natural evolution of a piece of research software in Python:\n",
    "* Starts on a Jupyter notebook playground\n",
    "* At some point freezes into a script for long term use\n",
    "* (Automated) Application to a wider range of usage scenarios"
   ]
  },
  {
   "cell_type": "markdown",
   "id": "5",
   "metadata": {
    "slideshow": {
     "slide_type": "slide"
    }
   },
   "source": [
    "For the last step, good Command Line Interface (CLI) is very helpful. Important aspects:\n",
    "\n",
    "* Easy addition into existing code\n",
    "* Few lines of code to ease maintenance and focus on the scientific part\n",
    "* Good help text generation"
   ]
  },
  {
   "cell_type": "markdown",
   "id": "6",
   "metadata": {
    "slideshow": {
     "slide_type": "slide"
    }
   },
   "source": [
    "## How not to do it\n",
    "\n",
    "We get access to command line arguments similar to C through `sys.argv`:"
   ]
  },
  {
   "cell_type": "markdown",
   "id": "7",
   "metadata": {
    "slideshow": {
     "slide_type": "fragment"
    }
   },
   "source": [
    "```python\n",
    "# DON'T DO THIS!\n",
    "import sys\n",
    "\n",
    "inputfile = sys.argv[1]\n",
    "print(f\"Calculating statistics from {inputfile}\")\n",
    "```"
   ]
  },
  {
   "cell_type": "markdown",
   "id": "8",
   "metadata": {
    "slideshow": {
     "slide_type": "fragment"
    }
   },
   "source": [
    "Why is this bad?\n",
    "* No help text generation\n",
    "* No validation of arguments\n",
    "* Prone to errors in argument indexing\n",
    "* Logic for non-string and optional arguments becomes quickly unwieldy"
   ]
  },
  {
   "cell_type": "markdown",
   "id": "9",
   "metadata": {
    "slideshow": {
     "slide_type": "fragment"
    }
   },
   "source": [
    "The standard libraries `argparse` and `optparse` are better options, but there is even better."
   ]
  },
  {
   "cell_type": "markdown",
   "id": "10",
   "metadata": {
    "slideshow": {
     "slide_type": "slide"
    }
   },
   "source": [
    "## Click: A beautiful, opinionated approach"
   ]
  },
  {
   "cell_type": "markdown",
   "id": "11",
   "metadata": {
    "slideshow": {
     "slide_type": "fragment"
    }
   },
   "source": [
    "```python\n",
    "import click\n",
    "\n",
    "@click.command()\n",
    "@click.argument(\"inputfile\", type=click.Path(exists=True))\n",
    "def stats(inputfile):\n",
    "    \"\"\"Read data from the given INPUTFILE and calculate useful statistics\"\"\"\n",
    "    click.echo(f\"Calculating statistics from {inputfile}\")\n",
    "\n",
    "# This allows use of this Python file both for imports and for the CLI\n",
    "if __name__ == \"__main__\":\n",
    "    stats()\n",
    "```"
   ]
  },
  {
   "cell_type": "markdown",
   "id": "12",
   "metadata": {
    "slideshow": {
     "slide_type": "slide"
    }
   },
   "source": [
    "## Arguments vs. Options"
   ]
  },
  {
   "cell_type": "markdown",
   "id": "13",
   "metadata": {
    "slideshow": {
     "slide_type": "fragment"
    }
   },
   "source": [
    "Arguments are positional and only too a small extent optional or defaultable. Use them only for absolute essential, self-explanatory input. To customize your script's behavious *options* are the better choice:"
   ]
  },
  {
   "cell_type": "markdown",
   "id": "14",
   "metadata": {
    "slideshow": {
     "slide_type": "fragment"
    }
   },
   "source": [
    "```python\n",
    "import click\n",
    "\n",
    "@click.command()\n",
    "@click.option(\n",
    "    \"--input\",\n",
    "    type=click.Path(exists=True),\n",
    "    default=\"input.txt\",\n",
    "    help=\"The data file to read from\",\n",
    ")\n",
    "@click.option(\n",
    "    \"--verbose/--no-verbose\", type=bool, help=\"Whether to output intermediate results\"\n",
    ")\n",
    "def stats(verbose, input):\n",
    "    \"\"\"Read data and calculate useful statistics\"\"\"\n",
    "    if verbose:\n",
    "        click.echo(\"Started the CLI script\")\n",
    "    click.echo(f\"Calculating statistics from {input}\")\n",
    "\n",
    "if __name__ == \"__main__\":\n",
    "    stats()\n",
    "```"
   ]
  },
  {
   "cell_type": "markdown",
   "id": "15",
   "metadata": {
    "slideshow": {
     "slide_type": "slide"
    }
   },
   "source": [
    "## Composability of commands\n",
    "\n",
    "Add subcommand structure by reusing previously defined commands:"
   ]
  },
  {
   "cell_type": "markdown",
   "id": "16",
   "metadata": {
    "slideshow": {
     "slide_type": "fragment"
    }
   },
   "source": [
    "```python\n",
    "@click.group()\n",
    "def main():\n",
    "    pass\n",
    "\n",
    "@click.command()\n",
    "def preprocess():\n",
    "    click.echo(\"Apply preprocessing\")\n",
    "\n",
    "main.add_command(stats)\n",
    "main.add_command(preprocess)\n",
    "\n",
    "if __name__ == \"__main__\":\n",
    "    main()\n",
    "```"
   ]
  },
  {
   "cell_type": "markdown",
   "id": "17",
   "metadata": {
    "slideshow": {
     "slide_type": "fragment"
    }
   },
   "source": [
    "This mechanism is very powerful: arbitrary nesting, runtime extension e.g. through plugins etc."
   ]
  },
  {
   "cell_type": "markdown",
   "id": "18",
   "metadata": {
    "slideshow": {
     "slide_type": "slide"
    }
   },
   "source": [
    "## Setuptools integration\n",
    "\n",
    "As software becomes more mature, it is also advisable to package and distribute it as a Python package. Click easily integrates with `setuptools` as well using the entrypoints mechanism:"
   ]
  },
  {
   "cell_type": "markdown",
   "id": "19",
   "metadata": {
    "slideshow": {
     "slide_type": "fragment"
    }
   },
   "source": [
    "```python\n",
    "# In setup.py\n",
    "setup(entry_points={\"console_scripts\": [\"myscript = mypackage.mymodule:myclifunction\"]})\n",
    "```"
   ]
  },
  {
   "cell_type": "markdown",
   "id": "20",
   "metadata": {
    "slideshow": {
     "slide_type": "fragment"
    }
   },
   "source": [
    "```python\n",
    "# In setup.cfg\n",
    "[options.entry_points]\n",
    "console_scripts =\n",
    "    myscript = mypackage.mymodule:myclifunction\n",
    "```"
   ]
  },
  {
   "cell_type": "markdown",
   "id": "21",
   "metadata": {
    "slideshow": {
     "slide_type": "slide"
    }
   },
   "source": [
    "## Further information about click"
   ]
  },
  {
   "cell_type": "markdown",
   "id": "22",
   "metadata": {
    "slideshow": {
     "slide_type": "fragment"
    }
   },
   "source": [
    "Today's presentation can be found on the Lunch Time Python website: [https://ssciwr.github.io/lunch-time-python/](https://ssciwr.github.io/lunch-time-python/)"
   ]
  },
  {
   "cell_type": "markdown",
   "id": "23",
   "metadata": {
    "slideshow": {
     "slide_type": "fragment"
    }
   },
   "source": [
    "For further information, see also the (very good) [Click documentation](https://click.palletsprojects.com)    "
   ]
  },
  {
   "cell_type": "markdown",
   "id": "24",
   "metadata": {
    "slideshow": {
     "slide_type": "fragment"
    }
   },
   "source": [
    "For questions to the Scientific Software Center, please write us to [ssc@iwr.uni-heidelberg.de](mailto:ssc@iwr.uni-heidelberg.de)"
   ]
  },
  {
   "cell_type": "markdown",
   "id": "25",
   "metadata": {
    "slideshow": {
     "slide_type": "slide"
    }
   },
   "source": [
    "## Lunch Time Python Session #4\n",
    "\n",
    "Library options, please vote now:\n",
    "\n",
    "* [itertools](https://docs.python.org/3/library/itertools.html) is a standard library that implements a number of iterator building blocks inspired by functional programming languages.\n",
    "* [pytest](https://docs.pytest.org/en/6.2.x/) The pytest framework makes it easy to write small tests, yet scales to support complex functional testing for applications and libraries.\n",
    "* [matplotlib](https://matplotlib.org/) Matplotlib is a comprehensive library for creating static, animated, and interactive visualizations in Python"
   ]
  }
 ],
 "metadata": {
  "celltoolbar": "Slideshow",
  "kernelspec": {
   "display_name": "Python 3",
   "language": "python",
   "name": "python3"
  },
  "language_info": {
   "codemirror_mode": {
    "name": "ipython",
    "version": 3
   },
   "file_extension": ".py",
   "mimetype": "text/x-python",
   "name": "python",
   "nbconvert_exporter": "python",
   "pygments_lexer": "ipython3",
   "version": "3.9.7"
  }
 },
 "nbformat": 4,
 "nbformat_minor": 5
}
