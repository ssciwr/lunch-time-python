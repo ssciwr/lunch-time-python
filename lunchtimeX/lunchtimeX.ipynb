{
 "cells": [
  {
   "cell_type": "markdown",
   "id": "f6779729",
   "metadata": {
    "slideshow": {
     "slide_type": "slide"
    }
   },
   "source": [
    "# Lunch Time Python\n",
    "\n",
    "## Lunch X: Fun with bools\n",
    "\n",
    "\n",
    "\n",
    "*Press `Spacebar` to go to the next slide (or `?` to see all navigation shortcuts)*\n",
    "\n",
    "[Lunch Time Python](https://ssciwr.github.io/lunch-time-python/), [Scientific Software Center](https://ssc.iwr.uni-heidelberg.de), [Heidelberg University](https://www.uni-heidelberg.de/)"
   ]
  },
  {
   "cell_type": "markdown",
   "id": "6a145d9d",
   "metadata": {
    "slideshow": {
     "slide_type": "slide"
    }
   },
   "source": [
    "# Python bools\n",
    "\n",
    "- Python has a `bool` type\n",
    "- We use them all the time\n",
    "- How well do we understand them?"
   ]
  },
  {
   "cell_type": "code",
   "execution_count": null,
   "id": "8ac9ce02",
   "metadata": {
    "slideshow": {
     "slide_type": "fragment"
    }
   },
   "outputs": [],
   "source": [
    "my_bool = True"
   ]
  },
  {
   "cell_type": "code",
   "execution_count": null,
   "id": "792473c4",
   "metadata": {
    "slideshow": {
     "slide_type": "fragment"
    }
   },
   "outputs": [],
   "source": [
    "print(type(my_bool))"
   ]
  },
  {
   "cell_type": "code",
   "execution_count": null,
   "id": "e9dd9d58",
   "metadata": {
    "slideshow": {
     "slide_type": "fragment"
    }
   },
   "outputs": [],
   "source": [
    "assert my_bool == True"
   ]
  },
  {
   "cell_type": "code",
   "execution_count": null,
   "id": "006100d8",
   "metadata": {
    "slideshow": {
     "slide_type": "fragment"
    }
   },
   "outputs": [],
   "source": [
    "assert my_bool is True"
   ]
  },
  {
   "cell_type": "markdown",
   "id": "658acea3",
   "metadata": {
    "slideshow": {
     "slide_type": "subslide"
    }
   },
   "source": [
    "# Typical `bool` uses\n",
    "\n",
    "- Logic: `a and b or c`\n",
    "- Comparison: `x >= y`\n",
    "- Control flow: `if x:`"
   ]
  },
  {
   "cell_type": "code",
   "execution_count": null,
   "id": "14e31cea",
   "metadata": {
    "slideshow": {
     "slide_type": "fragment"
    }
   },
   "outputs": [],
   "source": [
    "True and False"
   ]
  },
  {
   "cell_type": "code",
   "execution_count": null,
   "id": "01690472",
   "metadata": {
    "slideshow": {
     "slide_type": "fragment"
    }
   },
   "outputs": [],
   "source": [
    "4 > 5 or 1 != 0"
   ]
  },
  {
   "cell_type": "code",
   "execution_count": null,
   "id": "44faa658",
   "metadata": {
    "slideshow": {
     "slide_type": "fragment"
    }
   },
   "outputs": [],
   "source": [
    "if my_bool:\n",
    "    print(\"true\")"
   ]
  },
  {
   "cell_type": "markdown",
   "id": "ff67b767",
   "metadata": {
    "slideshow": {
     "slide_type": "subslide"
    }
   },
   "source": [
    "# Untypical `bool` uses\n",
    "\n",
    "- Math operations\n",
    "- Bitwise operations"
   ]
  },
  {
   "cell_type": "code",
   "execution_count": null,
   "id": "2b1a06b2",
   "metadata": {
    "slideshow": {
     "slide_type": "fragment"
    }
   },
   "outputs": [],
   "source": [
    "True + True"
   ]
  },
  {
   "cell_type": "code",
   "execution_count": null,
   "id": "ebfedd32",
   "metadata": {
    "slideshow": {
     "slide_type": "fragment"
    }
   },
   "outputs": [],
   "source": [
    "False / True"
   ]
  },
  {
   "cell_type": "code",
   "execution_count": null,
   "id": "80ef32b6",
   "metadata": {
    "slideshow": {
     "slide_type": "fragment"
    }
   },
   "outputs": [],
   "source": [
    "~True"
   ]
  },
  {
   "cell_type": "code",
   "execution_count": null,
   "id": "b922f9de",
   "metadata": {
    "slideshow": {
     "slide_type": "fragment"
    }
   },
   "outputs": [],
   "source": [
    "True << True << True << True"
   ]
  },
  {
   "cell_type": "markdown",
   "id": "83b261ff",
   "metadata": {
    "slideshow": {
     "slide_type": "subslide"
    }
   },
   "source": [
    "# What's going on?\n",
    "\n",
    "- Python `bool` is a subclass of `int`\n",
    "- So math operations implicitly convert `True`->`1` and `False`->`0`\n",
    "- And `int` in Python are represented as two's complement for bitwise operations"
   ]
  },
  {
   "cell_type": "markdown",
   "id": "ce1f3bd3",
   "metadata": {
    "slideshow": {
     "slide_type": "slide"
    }
   },
   "source": [
    "# Numpy `bool_`\n",
    "\n",
    "- Many normal use cases works like python bool\n",
    "- Some important differences"
   ]
  },
  {
   "cell_type": "code",
   "execution_count": null,
   "id": "17d79c3c",
   "metadata": {
    "slideshow": {
     "slide_type": "fragment"
    }
   },
   "outputs": [],
   "source": [
    "import numpy as np\n",
    "\n",
    "np_bool_array = np.array([True, False])\n",
    "np_true = np_bool_array[0]\n",
    "np_false = np_bool_array[1]"
   ]
  },
  {
   "cell_type": "code",
   "execution_count": null,
   "id": "e12700ef",
   "metadata": {
    "slideshow": {
     "slide_type": "fragment"
    }
   },
   "outputs": [],
   "source": [
    "print(type(np_true))"
   ]
  },
  {
   "cell_type": "code",
   "execution_count": null,
   "id": "5ae04571",
   "metadata": {
    "slideshow": {
     "slide_type": "fragment"
    }
   },
   "outputs": [],
   "source": [
    "assert np_true == True"
   ]
  },
  {
   "cell_type": "code",
   "execution_count": null,
   "id": "6ae6bf90",
   "metadata": {
    "slideshow": {
     "slide_type": "fragment"
    }
   },
   "outputs": [],
   "source": [
    "assert np_true is not True"
   ]
  },
  {
   "cell_type": "markdown",
   "id": "24b765a5",
   "metadata": {
    "slideshow": {
     "slide_type": "subslide"
    }
   },
   "source": [
    "# Untypical uses\n",
    "\n",
    "- Bitwise operations\n",
    "- Math operations\n",
    "- How well do we understand them?"
   ]
  },
  {
   "cell_type": "code",
   "execution_count": null,
   "id": "ad032c38",
   "metadata": {
    "slideshow": {
     "slide_type": "fragment"
    }
   },
   "outputs": [],
   "source": [
    "np_true + np_true"
   ]
  },
  {
   "cell_type": "code",
   "execution_count": null,
   "id": "bf9a2ee2",
   "metadata": {
    "slideshow": {
     "slide_type": "fragment"
    }
   },
   "outputs": [],
   "source": [
    "np_false / np_true"
   ]
  },
  {
   "cell_type": "code",
   "execution_count": null,
   "id": "d20d4d95",
   "metadata": {
    "slideshow": {
     "slide_type": "fragment"
    }
   },
   "outputs": [],
   "source": [
    "~np_true"
   ]
  },
  {
   "cell_type": "code",
   "execution_count": null,
   "id": "a1135876",
   "metadata": {
    "slideshow": {
     "slide_type": "fragment"
    }
   },
   "outputs": [],
   "source": [
    "np_true << np_true << np_true << np_true"
   ]
  },
  {
   "cell_type": "markdown",
   "id": "737b7ee0",
   "metadata": {
    "slideshow": {
     "slide_type": "subslide"
    }
   },
   "source": [
    "# What's going on?\n",
    "\n",
    "- Todo: distinction between np array of bools and a single bool\n",
    "- np array of dtype object"
   ]
  },
  {
   "cell_type": "code",
   "execution_count": null,
   "id": "587a3f43",
   "metadata": {},
   "outputs": [],
   "source": []
  }
 ],
 "metadata": {
  "celltoolbar": "Slideshow",
  "kernelspec": {
   "display_name": "Python 3 (ipykernel)",
   "language": "python",
   "name": "python3"
  },
  "language_info": {
   "codemirror_mode": {
    "name": "ipython",
    "version": 3
   },
   "file_extension": ".py",
   "mimetype": "text/x-python",
   "name": "python",
   "nbconvert_exporter": "python",
   "pygments_lexer": "ipython3",
   "version": "3.10.1"
  }
 },
 "nbformat": 4,
 "nbformat_minor": 5
}
