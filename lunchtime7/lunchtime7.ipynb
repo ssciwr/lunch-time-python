{
 "cells": [
  {
   "cell_type": "markdown",
   "metadata": {},
   "source": [
    "# Lunch Time Python\n",
    "\n",
    "## Lunch 7: matplotlib\n",
    "\n",
    "<img style=\"width: 600px; float: right;\" src=\"https://matplotlib.org/stable/_static/logo2.svg\">\n",
    "\n",
    "[matplotlib](https://matplotlib.org/) is a plotting library for Python and the NumPy library. It is easy to use and can be used to generate scatter or bar plots, density maps and even 3D plots in publication quality.\n",
    "\n",
    "*Press `Spacebar` to go to the next slide (or `?` to see all navigation shortcuts)*\n",
    "\n",
    "[Lunch Time Python](https://ssciwr.github.io/lunch-time-python/), [Scientific Software Center](https://ssc.iwr.uni-heidelberg.de), [Heidelberg University](https://www.uni-heidelberg.de/)"
   ]
  },
  {
   "cell_type": "markdown",
   "metadata": {},
   "source": [
    "## Advantages of matplotlib:\n",
    "\n",
    "- matplotlib is mostly used in conjunction with [pyplot](https://matplotlib.org/stable/api/_as_gen/matplotlib.pyplot.html) - a matplotlib module - that provides an easy-to-use interface\n",
    "- Very versatile, works with many types of data\n",
    "- Directly plot NumPy functions and arrays\n",
    "- Many export options\n",
    "- Customizable \n",
    "- Can be used with additional toolkits that extend the functionality, like [seaborn](https://seaborn.pydata.org/)\n",
    "\n"
   ]
  },
  {
   "cell_type": "markdown",
   "metadata": {},
   "source": [
    "## matplotlib installation\n",
    "\n",
    "Available via pip:  \n",
    "`python -m pip install -U matplotlib`  \n",
    "Or install via conda:  \n",
    "`conda install matplotlib`"
   ]
  },
  {
   "cell_type": "markdown",
   "metadata": {},
   "source": [
    "## A simple example\n",
    "Plot the sin and cos over a range of angles. For this, we also need numpy."
   ]
  },
  {
   "cell_type": "code",
   "execution_count": null,
   "metadata": {},
   "outputs": [],
   "source": [
    "import numpy as np\n",
    "import matplotlib.pyplot as plt\n",
    "\n",
    "xvals = np.arange(0, 2 * np.pi, 0.1)\n",
    "\n",
    "plt.plot(xvals, np.sin(xvals))\n",
    "plt.plot(xvals, np.cos(xvals))"
   ]
  },
  {
   "cell_type": "markdown",
   "metadata": {},
   "source": [
    "The default settions already look quite nice!"
   ]
  },
  {
   "cell_type": "markdown",
   "metadata": {},
   "source": [
    "## Running inside a script\n",
    "Or more generally, if you want to suppress the output (return) of the `plt()` function."
   ]
  },
  {
   "cell_type": "code",
   "execution_count": null,
   "metadata": {},
   "outputs": [],
   "source": [
    "plt.plot(xvals, np.sin(xvals))\n",
    "plt.plot(xvals, np.cos(xvals))\n",
    "plt.show()"
   ]
  },
  {
   "cell_type": "markdown",
   "metadata": {},
   "source": [
    "`plt.show()` closes the plot; if you plot using a script and not a notebook, place one `plt.show()` command at the end of your script."
   ]
  },
  {
   "cell_type": "markdown",
   "metadata": {},
   "source": [
    "## Running inside a notebook: static images\n",
    "You can plot static images inside your notebook using the `%matplotlib inline` magic: You only need to run this once. It is not always necessary to put this, but it makes it clear which Matplotlib backend should be used."
   ]
  },
  {
   "cell_type": "code",
   "execution_count": null,
   "metadata": {},
   "outputs": [],
   "source": [
    "%matplotlib inline"
   ]
  },
  {
   "cell_type": "code",
   "execution_count": null,
   "metadata": {},
   "outputs": [],
   "source": [
    "plt.plot(xvals, np.sin(xvals))\n",
    "plt.plot(xvals, np.cos(xvals))\n",
    "plt.show()"
   ]
  },
  {
   "cell_type": "markdown",
   "metadata": {},
   "source": [
    "## Scatter plot"
   ]
  },
  {
   "cell_type": "code",
   "execution_count": null,
   "metadata": {},
   "outputs": [],
   "source": [
    "xvals = np.random.randint(10, size=10)\n",
    "yvals = np.random.randint(10, size=10)\n",
    "plt.scatter(xvals, yvals)\n",
    "plt.show()"
   ]
  },
  {
   "cell_type": "markdown",
   "metadata": {},
   "source": [
    "## Bar plot"
   ]
  },
  {
   "cell_type": "code",
   "execution_count": null,
   "metadata": {},
   "outputs": [],
   "source": [
    "xvals = np.linspace(1, 10, 10)\n",
    "yvals = np.random.randint(10, size=10)\n",
    "plt.bar(xvals, yvals)\n",
    "plt.show()"
   ]
  },
  {
   "cell_type": "markdown",
   "metadata": {},
   "source": [
    "## Customizing plots"
   ]
  },
  {
   "cell_type": "code",
   "execution_count": null,
   "metadata": {},
   "outputs": [],
   "source": [
    "plt.bar(xvals, yvals, label=\"Random series\")\n",
    "plt.legend()\n",
    "plt.show()"
   ]
  },
  {
   "cell_type": "markdown",
   "metadata": {},
   "source": [
    "## Customizing plots"
   ]
  },
  {
   "cell_type": "code",
   "execution_count": null,
   "metadata": {},
   "outputs": [],
   "source": [
    "plt.bar(xvals, yvals, label=\"Random series\")\n",
    "plt.legend(fontsize=16, loc=\"upper right\")\n",
    "plt.xlabel(\"Integer\", fontsize=18)\n",
    "plt.ylabel(\"Magnitude\", fontsize=22, color=\"red\")\n",
    "plt.title(\"My custom plot\", fontsize=22)\n",
    "plt.show()"
   ]
  },
  {
   "cell_type": "markdown",
   "metadata": {},
   "source": [
    "## Customizing plots"
   ]
  },
  {
   "cell_type": "code",
   "execution_count": null,
   "metadata": {},
   "outputs": [],
   "source": [
    "xvals = np.arange(0, 2 * np.pi, 0.1)\n",
    "plt.plot(xvals, np.sin(xvals), marker=\"x\", markevery=10, color=\"blue\")\n",
    "plt.plot(xvals, np.cos(xvals), marker=\"<\", color=\"black\", alpha=0.5)\n",
    "plt.show()"
   ]
  },
  {
   "cell_type": "markdown",
   "metadata": {},
   "source": [
    "## Subplots"
   ]
  },
  {
   "cell_type": "code",
   "execution_count": null,
   "metadata": {},
   "outputs": [],
   "source": []
  }
 ],
 "metadata": {
  "interpreter": {
   "hash": "84900d5badacbc0e30c161754da65cc47e9eebaa051ec2f304abeddb2faf92d7"
  },
  "kernelspec": {
   "display_name": "ssd_course",
   "language": "python",
   "name": "ssd_course"
  },
  "language_info": {
   "codemirror_mode": {
    "name": "ipython",
    "version": 3
   },
   "file_extension": ".py",
   "mimetype": "text/x-python",
   "name": "python",
   "nbconvert_exporter": "python",
   "pygments_lexer": "ipython3",
   "version": "3.9.7"
  }
 },
 "nbformat": 4,
 "nbformat_minor": 2
}
