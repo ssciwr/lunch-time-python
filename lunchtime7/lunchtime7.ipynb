{
 "cells": [
  {
   "cell_type": "markdown",
   "metadata": {
    "slideshow": {
     "slide_type": "slide"
    }
   },
   "source": [
    "# Lunch Time Python\n",
    "\n",
    "## Lunch 7: matplotlib\n",
    "\n",
    "<img style=\"width: 600px; float: right;\" src=\"https://matplotlib.org/stable/_static/logo2.svg\">\n",
    "\n",
    "[matplotlib](https://matplotlib.org/) is a plotting library for Python and the NumPy library. It is easy to use and can be used to generate scatter or bar plots, density maps and even 3D plots in publication quality.\n",
    "\n",
    "*Press `Spacebar` to go to the next slide (or `?` to see all navigation shortcuts)*\n",
    "\n",
    "[Lunch Time Python](https://ssciwr.github.io/lunch-time-python/), [Scientific Software Center](https://ssc.iwr.uni-heidelberg.de), [Heidelberg University](https://www.uni-heidelberg.de/)"
   ]
  },
  {
   "cell_type": "markdown",
   "metadata": {
    "slideshow": {
     "slide_type": "subslide"
    }
   },
   "source": [
    "## Advantages of matplotlib:\n",
    "\n",
    "- matplotlib is mostly used in conjunction with [pyplot](https://matplotlib.org/stable/api/_as_gen/matplotlib.pyplot.html) - a matplotlib module - that provides an easy-to-use interface\n",
    "- Very versatile, works with many types of data\n",
    "- Directly plot NumPy functions and arrays\n",
    "- Many export options\n",
    "- Customizable \n",
    "- Can be used with additional toolkits that extend the functionality, like [seaborn](https://seaborn.pydata.org/)\n",
    "\n"
   ]
  },
  {
   "cell_type": "markdown",
   "metadata": {
    "slideshow": {
     "slide_type": "subslide"
    }
   },
   "source": [
    "## matplotlib installation\n",
    "\n",
    "Available via pip:  \n",
    "`python -m pip install -U matplotlib`  \n",
    "Or install via conda:  \n",
    "`conda install matplotlib`"
   ]
  },
  {
   "cell_type": "markdown",
   "metadata": {
    "slideshow": {
     "slide_type": "slide"
    }
   },
   "source": [
    "# Basic plots\n",
    "Plot the sin and cos over a range of angles. For this, we also need numpy."
   ]
  },
  {
   "cell_type": "code",
   "execution_count": null,
   "metadata": {
    "slideshow": {
     "slide_type": "fragment"
    }
   },
   "outputs": [],
   "source": [
    "import numpy as np\n",
    "import matplotlib.pyplot as plt"
   ]
  },
  {
   "cell_type": "code",
   "execution_count": null,
   "metadata": {
    "slideshow": {
     "slide_type": "fragment"
    }
   },
   "outputs": [],
   "source": [
    "xvals = np.arange(0, 2 * np.pi, 0.1)"
   ]
  },
  {
   "cell_type": "code",
   "execution_count": null,
   "metadata": {
    "slideshow": {
     "slide_type": "fragment"
    }
   },
   "outputs": [],
   "source": [
    "plt.plot(xvals, np.sin(xvals))\n",
    "plt.plot(xvals, np.cos(xvals))"
   ]
  },
  {
   "cell_type": "markdown",
   "metadata": {
    "slideshow": {
     "slide_type": "fragment"
    }
   },
   "source": [
    "The default settions already look quite nice!"
   ]
  },
  {
   "cell_type": "markdown",
   "metadata": {
    "slideshow": {
     "slide_type": "subslide"
    }
   },
   "source": [
    "## Running inside a script\n",
    "Or more generally, if you want to suppress the output (return) of the `plt()` function."
   ]
  },
  {
   "cell_type": "code",
   "execution_count": null,
   "metadata": {
    "slideshow": {
     "slide_type": "fragment"
    }
   },
   "outputs": [],
   "source": [
    "plt.plot(xvals, np.sin(xvals))\n",
    "plt.plot(xvals, np.cos(xvals))\n",
    "plt.show()"
   ]
  },
  {
   "cell_type": "markdown",
   "metadata": {
    "slideshow": {
     "slide_type": "fragment"
    }
   },
   "source": [
    "`plt.show()` closes the plot; if you plot using a script and not a notebook, place one `plt.show()` command at the end of your script."
   ]
  },
  {
   "cell_type": "markdown",
   "metadata": {
    "slideshow": {
     "slide_type": "subslide"
    }
   },
   "source": [
    "## Running inside a notebook: static images\n",
    "You can plot static images inside your notebook using the `%matplotlib inline` magic: You only need to run this once. It is not always necessary to put this, but it makes it clear which Matplotlib backend should be used."
   ]
  },
  {
   "cell_type": "code",
   "execution_count": null,
   "metadata": {
    "slideshow": {
     "slide_type": "fragment"
    }
   },
   "outputs": [],
   "source": [
    "%matplotlib inline"
   ]
  },
  {
   "cell_type": "code",
   "execution_count": null,
   "metadata": {
    "slideshow": {
     "slide_type": "fragment"
    }
   },
   "outputs": [],
   "source": [
    "plt.plot(xvals, np.sin(xvals))\n",
    "plt.plot(xvals, np.cos(xvals))\n",
    "plt.show()"
   ]
  },
  {
   "cell_type": "markdown",
   "metadata": {
    "slideshow": {
     "slide_type": "subslide"
    }
   },
   "source": [
    "## Scatter plot"
   ]
  },
  {
   "cell_type": "code",
   "execution_count": null,
   "metadata": {
    "slideshow": {
     "slide_type": "fragment"
    }
   },
   "outputs": [],
   "source": [
    "xvals = np.random.randint(10, size=10)\n",
    "yvals = np.random.randint(10, size=10)\n",
    "plt.scatter(xvals, yvals)\n",
    "plt.show()"
   ]
  },
  {
   "cell_type": "markdown",
   "metadata": {
    "slideshow": {
     "slide_type": "subslide"
    }
   },
   "source": [
    "## Bar plot"
   ]
  },
  {
   "cell_type": "code",
   "execution_count": null,
   "metadata": {
    "slideshow": {
     "slide_type": "fragment"
    }
   },
   "outputs": [],
   "source": [
    "xvals = np.linspace(1, 10, 10)\n",
    "yvals = np.random.randint(10, size=10)\n",
    "plt.bar(xvals, yvals)\n",
    "plt.show()"
   ]
  },
  {
   "cell_type": "markdown",
   "metadata": {
    "slideshow": {
     "slide_type": "subslide"
    }
   },
   "source": [
    "## Customizing plots"
   ]
  },
  {
   "cell_type": "code",
   "execution_count": null,
   "metadata": {
    "slideshow": {
     "slide_type": "fragment"
    }
   },
   "outputs": [],
   "source": [
    "plt.bar(xvals, yvals, label=\"Random series\")\n",
    "plt.legend()\n",
    "plt.show()"
   ]
  },
  {
   "cell_type": "markdown",
   "metadata": {
    "slideshow": {
     "slide_type": "subslide"
    }
   },
   "source": [
    "## Customizing plots"
   ]
  },
  {
   "cell_type": "code",
   "execution_count": null,
   "metadata": {
    "slideshow": {
     "slide_type": "fragment"
    }
   },
   "outputs": [],
   "source": [
    "plt.bar(xvals, yvals, label=\"Random series\")\n",
    "plt.legend(fontsize=16, loc=\"upper right\")\n",
    "plt.xlabel(\"Integer\", fontsize=18)\n",
    "plt.ylabel(\"Magnitude\", fontsize=22, color=\"red\")\n",
    "plt.title(\"My custom plot\", fontsize=22)\n",
    "plt.show()"
   ]
  },
  {
   "cell_type": "markdown",
   "metadata": {
    "slideshow": {
     "slide_type": "subslide"
    }
   },
   "source": [
    "## Customizing plots"
   ]
  },
  {
   "cell_type": "code",
   "execution_count": null,
   "metadata": {
    "slideshow": {
     "slide_type": "fragment"
    }
   },
   "outputs": [],
   "source": [
    "xvals = np.arange(0, 2 * np.pi, 0.1)\n",
    "plt.plot(xvals, np.sin(xvals), marker=\"x\", markevery=10, color=\"blue\")\n",
    "plt.plot(xvals, np.cos(xvals), marker=\"<\", color=\"black\", alpha=0.5)\n",
    "plt.show()"
   ]
  },
  {
   "cell_type": "markdown",
   "metadata": {
    "slideshow": {
     "slide_type": "fragment"
    }
   },
   "source": [
    "You can set x- and y-limits, annotate points on the plot, change the axis position and intersection, add a grid in the background, ...  \n",
    "A list of available markers is found [here](https://matplotlib.org/2.0.2/api/markers_api.html) and named colors [here](https://matplotlib.org/stable/gallery/color/named_colors.html)."
   ]
  },
  {
   "cell_type": "markdown",
   "metadata": {
    "slideshow": {
     "slide_type": "slide"
    }
   },
   "source": [
    "# Figure class: Advanced plots with the artist layer\n",
    "A `Figure` in matplotlib is the whole plot (or window in the user interface) and can contain multiple plots. By accessing the **Artist layer** (\"object-based plotting\"), you can access more customizing options than with the basic `plt.xxx` **Scripting layer** (\"procedural plotting\") (see https://matplotlib.org/1.5.1/faq/usage_faq.html#parts-of-a-figure).\n",
    "\n",
    "This also allows you to include multiple plots in one Figure.\n",
    "\n",
    "<img style=\"width: 600px; float: right;\" src=\"https://matplotlib.org/1.5.1/_images/fig_map.png\">"
   ]
  },
  {
   "cell_type": "code",
   "execution_count": null,
   "metadata": {
    "slideshow": {
     "slide_type": "subslide"
    }
   },
   "outputs": [],
   "source": [
    "fig = plt.figure(figsize=(12, 10))  # width = 12 inches and height = 10 inches\n",
    "# create one axes object\n",
    "ax1 = fig.add_subplot(211)  # (2, 1, 1) no of rows, no of columns, no of plots\n",
    "ax1.plot(xvals, np.sin(xvals), marker=\"x\", color=\"blue\")\n",
    "plt.show()"
   ]
  },
  {
   "cell_type": "markdown",
   "metadata": {
    "slideshow": {
     "slide_type": "fragment"
    }
   },
   "source": [
    "It is also possible to use `add_axes()` instead of `add_subplot()`, but not recommended as with the latter, matplotlib takes care of the exact position of the axes in the figure."
   ]
  },
  {
   "cell_type": "markdown",
   "metadata": {
    "slideshow": {
     "slide_type": "subslide"
    }
   },
   "source": [
    "## Several subplots\n",
    "Using `add_subplot()`, we can add one `axes` object at a time:"
   ]
  },
  {
   "cell_type": "code",
   "execution_count": null,
   "metadata": {
    "slideshow": {
     "slide_type": "fragment"
    }
   },
   "outputs": [],
   "source": [
    "fig = plt.figure(figsize=(12, 10))\n",
    "ax1 = fig.add_subplot(221)\n",
    "ax1.plot(xvals, np.sin(xvals), marker=\"x\", color=\"blue\")\n",
    "ax2 = fig.add_subplot(222)\n",
    "ax2.plot(xvals, np.cos(xvals), marker=\"x\", color=\"blue\")\n",
    "ax3 = fig.add_subplot(223)\n",
    "ax3.plot(xvals, np.tan(xvals), marker=\"x\", color=\"blue\")\n",
    "ax4 = fig.add_subplot(224)\n",
    "ax4.plot(xvals, np.tanh(xvals), marker=\"x\", color=\"blue\")\n",
    "plt.show()"
   ]
  },
  {
   "cell_type": "markdown",
   "metadata": {
    "slideshow": {
     "slide_type": "subslide"
    }
   },
   "source": [
    "## A more practical way to add multiple subplots"
   ]
  },
  {
   "cell_type": "code",
   "execution_count": null,
   "metadata": {
    "slideshow": {
     "slide_type": "fragment"
    }
   },
   "outputs": [],
   "source": [
    "fig, ax = plt.subplots(figsize=(12, 10), nrows=2, ncols=2)\n",
    "ax[0, 0].plot(xvals, np.sin(xvals), marker=\"x\", color=\"blue\")\n",
    "ax[0, 1].plot(xvals, np.cos(xvals), marker=\"x\", color=\"blue\")\n",
    "ax[1, 0].plot(xvals, np.tan(xvals), marker=\"x\", color=\"blue\")\n",
    "ax[1, 1].plot(xvals, np.tanh(xvals), marker=\"x\", color=\"blue\")\n",
    "plt.savefig(\"my_figure.pdf\", bbox_inches=\"tight\")\n",
    "plt.savefig(\"my_figure.jpg\", dpi=300, bbox_inches=\"tight\")\n",
    "plt.show()"
   ]
  },
  {
   "cell_type": "markdown",
   "metadata": {
    "slideshow": {
     "slide_type": "slide"
    }
   },
   "source": [
    "# 2D plots"
   ]
  },
  {
   "cell_type": "code",
   "execution_count": null,
   "metadata": {
    "slideshow": {
     "slide_type": "fragment"
    }
   },
   "outputs": [],
   "source": [
    "def myfunc(x, y):\n",
    "    return np.sin(np.sqrt(5) + x) * y\n",
    "\n",
    "\n",
    "mf = 16\n",
    "# the x and y values need to be spanned on a 2D mesh\n",
    "num1 = np.arange(-5, 5, 0.1)\n",
    "num2 = np.arange(-5, 5, 0.1)\n",
    "X, Y = np.meshgrid(num1, num2)"
   ]
  },
  {
   "cell_type": "code",
   "execution_count": null,
   "metadata": {
    "slideshow": {
     "slide_type": "fragment"
    }
   },
   "outputs": [],
   "source": [
    "print(X[0])\n",
    "print(Y[0])"
   ]
  },
  {
   "cell_type": "code",
   "execution_count": null,
   "metadata": {
    "slideshow": {
     "slide_type": "subslide"
    }
   },
   "outputs": [],
   "source": [
    "fig, ax = plt.subplots(figsize=(15, 5), nrows=1, ncols=3)\n",
    "ax[0].pcolor(X, Y, myfunc(X, Y), cmap=\"viridis\")\n",
    "ax[0].set_title(\"pcolor\", fontsize=mf)\n",
    "plt.show()"
   ]
  },
  {
   "cell_type": "markdown",
   "metadata": {
    "slideshow": {
     "slide_type": "fragment"
    }
   },
   "source": [
    "`pcolor` is the slowest plotting method of the three, but is more flexible in terms of the data mesh."
   ]
  },
  {
   "cell_type": "code",
   "execution_count": null,
   "metadata": {
    "slideshow": {
     "slide_type": "subslide"
    }
   },
   "outputs": [],
   "source": [
    "fig, ax = plt.subplots(figsize=(15, 5), nrows=1, ncols=3)\n",
    "\n",
    "ax[0].pcolor(X, Y, myfunc(X, Y), cmap=\"viridis\")\n",
    "ax[0].set_title(\"pcolor\", fontsize=mf)\n",
    "\n",
    "ax[1].pcolormesh(X, Y, myfunc(X, Y), cmap=\"viridis\")\n",
    "ax[1].set_title(\"pcolormesh\", fontsize=mf)\n",
    "\n",
    "plt.show()"
   ]
  },
  {
   "cell_type": "markdown",
   "metadata": {
    "slideshow": {
     "slide_type": "fragment"
    }
   },
   "source": [
    "`pcolormesh` is basically identical to `pcolor` but faster."
   ]
  },
  {
   "cell_type": "code",
   "execution_count": null,
   "metadata": {
    "slideshow": {
     "slide_type": "subslide"
    }
   },
   "outputs": [],
   "source": [
    "fig, ax = plt.subplots(figsize=(15, 5), nrows=1, ncols=3)\n",
    "\n",
    "ax[0].pcolor(X, Y, myfunc(X, Y), cmap=\"viridis\")\n",
    "ax[0].set_title(\"pcolor\", fontsize=mf)\n",
    "\n",
    "ax[1].pcolormesh(X, Y, myfunc(X, Y), cmap=\"viridis\")\n",
    "ax[1].set_title(\"pcolormesh\", fontsize=mf)\n",
    "\n",
    "ax[2].imshow(myfunc(X, Y))\n",
    "ax[2].set_title(\"imshow\", fontsize=mf)\n",
    "\n",
    "plt.show()"
   ]
  },
  {
   "cell_type": "markdown",
   "metadata": {
    "slideshow": {
     "slide_type": "fragment"
    }
   },
   "source": [
    "`imshow` is the fastest of the three methods. Note that the image is flipped compared to `pcolor` and `pcolormesh` and that the axis range is specified differently."
   ]
  },
  {
   "cell_type": "code",
   "execution_count": null,
   "metadata": {
    "slideshow": {
     "slide_type": "subslide"
    }
   },
   "outputs": [],
   "source": [
    "fig, ax = plt.subplots(figsize=(15, 5), nrows=1, ncols=3)\n",
    "\n",
    "ax[0].pcolor(X, Y, myfunc(X, Y), cmap=\"viridis\")\n",
    "ax[0].set_title(\"pcolor\", fontsize=mf)\n",
    "\n",
    "ax[1].pcolormesh(X, Y, myfunc(X, Y), cmap=\"viridis\")\n",
    "ax[1].set_title(\"pcolormesh\", fontsize=mf)\n",
    "\n",
    "ax[2].imshow(myfunc(X, Y), extent=[-5, 5, -5, 5], origin=\"lower\", aspect=\"auto\")\n",
    "ax[2].set_title(\"imshow\", fontsize=mf)\n",
    "\n",
    "plt.show()"
   ]
  },
  {
   "cell_type": "markdown",
   "metadata": {
    "slideshow": {
     "slide_type": "fragment"
    }
   },
   "source": [
    "Here, we have repositioned the origin of `imshow` to match `pcolor` and `pcolormesh`, and further adjusted the aspect ratio and tick labels."
   ]
  },
  {
   "cell_type": "markdown",
   "metadata": {
    "slideshow": {
     "slide_type": "subslide"
    }
   },
   "source": [
    "## Imshow with contour bar"
   ]
  },
  {
   "cell_type": "code",
   "execution_count": null,
   "metadata": {
    "slideshow": {
     "slide_type": "fragment"
    }
   },
   "outputs": [],
   "source": [
    "fig, ax = plt.subplots(figsize=(5, 5))\n",
    "\n",
    "c = ax.imshow(myfunc(X, Y), extent=[-5, 5, -5, 5], origin=\"lower\", aspect=\"auto\")\n",
    "cbar = plt.colorbar(c)\n",
    "cbar.set_ticks([-5, -2.5, 0, 2.5, 5])\n",
    "cbar.set_label(\"my colors\", rotation=90, fontsize=mf)\n",
    "\n",
    "ax.set_title(\"imshow\", fontsize=mf)\n",
    "plt.tight_layout()\n",
    "plt.show()"
   ]
  },
  {
   "cell_type": "markdown",
   "metadata": {
    "slideshow": {
     "slide_type": "slide"
    }
   },
   "source": [
    "# 3D plots\n",
    "For 3D plots, you will need to import the `mplot3d` [module](https://matplotlib.org/stable/tutorials/toolkits/mplot3d.html). Then, when the axes are created, passing the `projection=\"3d\"` keyword enables a 3D axes."
   ]
  },
  {
   "cell_type": "code",
   "execution_count": null,
   "metadata": {
    "slideshow": {
     "slide_type": "fragment"
    }
   },
   "outputs": [],
   "source": [
    "from mpl_toolkits.mplot3d import Axes3D\n",
    "from matplotlib import cm"
   ]
  },
  {
   "cell_type": "code",
   "execution_count": null,
   "metadata": {
    "slideshow": {
     "slide_type": "subslide"
    }
   },
   "outputs": [],
   "source": [
    "fig = plt.figure(figsize=(12, 12))\n",
    "# fig, ax = plt.subplots(figsize=(12,12),subplot_kw=dict(projection='3d'))\n",
    "\n",
    "ax = fig.add_subplot(projection=\"3d\")\n",
    "ax.plot_surface(X, Y, myfunc(X, Y), cmap=cm.viridis)\n",
    "\n",
    "\n",
    "ax.set_title(\"3D plot\", fontsize=mf)\n",
    "plt.show()"
   ]
  },
  {
   "cell_type": "markdown",
   "metadata": {
    "slideshow": {
     "slide_type": "fragment"
    }
   },
   "source": [
    "The 3D plots of matplotlib are quite powerful but has its limitations: If it comes to plotting more than one set of data (two functions in one figure), then it will likely be rendered incorrectly."
   ]
  },
  {
   "cell_type": "code",
   "execution_count": null,
   "metadata": {
    "slideshow": {
     "slide_type": "subslide"
    }
   },
   "outputs": [],
   "source": [
    "fig = plt.figure(figsize=(12, 12))\n",
    "\n",
    "ax = fig.add_subplot(projection=\"3d\")\n",
    "ax.plot_surface(X, Y, X + Y)\n",
    "ax.plot_surface(X, Y, X + 0.1 * Y)\n",
    "\n",
    "\n",
    "ax.set_title(\"3D plot\", fontsize=mf)\n",
    "plt.show()"
   ]
  },
  {
   "cell_type": "markdown",
   "metadata": {
    "slideshow": {
     "slide_type": "fragment"
    }
   },
   "source": [
    "For more advanced 3D plots, resort to [`Mayavi`](https://docs.enthought.com/mayavi/mayavi/)."
   ]
  },
  {
   "cell_type": "markdown",
   "metadata": {
    "slideshow": {
     "slide_type": "slide"
    }
   },
   "source": [
    "# Interactive plots"
   ]
  },
  {
   "cell_type": "code",
   "execution_count": null,
   "metadata": {
    "slideshow": {
     "slide_type": "fragment"
    }
   },
   "outputs": [],
   "source": [
    "%matplotlib notebook"
   ]
  },
  {
   "cell_type": "code",
   "execution_count": null,
   "metadata": {
    "slideshow": {
     "slide_type": "subslide"
    }
   },
   "outputs": [],
   "source": [
    "fig, ax = plt.subplots(nrows=2, ncols=2)\n",
    "ax[0, 0].plot(xvals, np.sin(xvals), marker=\"x\", color=\"blue\")\n",
    "ax[0, 1].plot(xvals, np.cos(xvals), marker=\"x\", color=\"blue\")\n",
    "ax[1, 0].plot(xvals, np.tan(xvals), marker=\"x\", color=\"blue\")\n",
    "ax[1, 1].plot(xvals, np.tanh(xvals), marker=\"x\", color=\"blue\")\n",
    "plt.show()"
   ]
  },
  {
   "cell_type": "markdown",
   "metadata": {
    "slideshow": {
     "slide_type": "slide"
    }
   },
   "source": [
    "# Further references\n",
    "\n",
    "- Anatomy of matplotlib: https://nbviewer.org/github/matplotlib/AnatomyOfMatplotlib/tree/master/\n",
    "- Matplotlib tutorial by Nicolas Rougier: https://github.com/rougier/matplotlib-tutorial\n",
    "- Creating animations with Matplotlib: https://matplotlib.org/stable/api/animation_api.html"
   ]
  }
 ],
 "metadata": {
  "celltoolbar": "Slideshow",
  "kernelspec": {
   "display_name": "Python 3 (ipykernel)",
   "language": "python",
   "name": "python3"
  },
  "language_info": {
   "codemirror_mode": {
    "name": "ipython",
    "version": 3
   },
   "file_extension": ".py",
   "mimetype": "text/x-python",
   "name": "python",
   "nbconvert_exporter": "python",
   "pygments_lexer": "ipython3",
   "version": "3.10.5"
  }
 },
 "nbformat": 4,
 "nbformat_minor": 2
}
