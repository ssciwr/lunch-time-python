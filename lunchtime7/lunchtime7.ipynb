{
 "cells": [
  {
   "cell_type": "markdown",
   "metadata": {},
   "source": [
    "# Lunch Time Python\n",
    "\n",
    "## Lunch 7: matplotlib\n",
    "\n",
    "<img style=\"width: 600px; float: right;\" src=\"https://matplotlib.org/stable/_static/logo2.svg\">\n",
    "\n",
    "[matplotlib](https://matplotlib.org/) is a plotting library for Python and the NumPy library. It is easy to use and can be used to generate scatter or bar plots, density maps and even 3D plots in publication quality.\n",
    "\n",
    "*Press `Spacebar` to go to the next slide (or `?` to see all navigation shortcuts)*\n",
    "\n",
    "[Lunch Time Python](https://ssciwr.github.io/lunch-time-python/), [Scientific Software Center](https://ssc.iwr.uni-heidelberg.de), [Heidelberg University](https://www.uni-heidelberg.de/)"
   ]
  },
  {
   "cell_type": "markdown",
   "metadata": {},
   "source": [
    "## Advantages of matplotlib:\n",
    "\n",
    "- matplotlib is mostly used in conjunction with [pyplot](https://matplotlib.org/stable/api/_as_gen/matplotlib.pyplot.html) - a matplotlib module - that provides an easy-to-use interface\n",
    "- Very versatile, works with many types of data\n",
    "- Directly plot NumPy functions and arrays\n",
    "- Many export options\n",
    "- Customizable \n",
    "- Can be used with additional toolkits that extend the functionality, like [seaborn](https://seaborn.pydata.org/)\n",
    "\n"
   ]
  },
  {
   "cell_type": "markdown",
   "metadata": {},
   "source": [
    "## matplotlib installation\n",
    "\n",
    "Available via pip:  \n",
    "`python -m pip install -U matplotlib`  \n",
    "Or install via conda:  \n",
    "`conda install matplotlib`"
   ]
  },
  {
   "cell_type": "markdown",
   "metadata": {},
   "source": [
    "## A simple example"
   ]
  },
  {
   "cell_type": "markdown",
   "metadata": {},
   "source": []
  }
 ],
 "metadata": {
  "interpreter": {
   "hash": "84900d5badacbc0e30c161754da65cc47e9eebaa051ec2f304abeddb2faf92d7"
  },
  "kernelspec": {
   "display_name": "ssd_course",
   "language": "python",
   "name": "ssd_course"
  },
  "language_info": {
   "codemirror_mode": {
    "name": "ipython",
    "version": 3
   },
   "file_extension": ".py",
   "mimetype": "text/x-python",
   "name": "python",
   "nbconvert_exporter": "python",
   "pygments_lexer": "ipython3",
   "version": "3.9.7"
  }
 },
 "nbformat": 4,
 "nbformat_minor": 2
}
