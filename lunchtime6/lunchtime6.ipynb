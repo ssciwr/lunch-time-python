{
 "cells": [
  {
   "cell_type": "markdown",
   "id": "0",
   "metadata": {
    "slideshow": {
     "slide_type": "slide"
    }
   },
   "source": [
    "# Lunch Time Python\n",
    "\n",
    "## Lunch 6: numba\n",
    "\n",
    "<img style=\"width: 600px; float: right;\" src=\"https://numba.pydata.org/_static/numba-blue-horizontal-rgb.svg\">\n",
    "\n",
    "[numba](https://numba.pydata.org/) is a just-in-time (JIT) compiler for Python. With a few simple annotations, array-oriented and math-heavy Python code can be just-in-time optimized to performance similar as C, C++ and Fortran, without having to switch languages or Python interpreters.\n",
    "\n",
    "*Press `Spacebar` to go to the next slide (or `?` to see all navigation shortcuts)*\n",
    "\n",
    "[Lunch Time Python](https://ssciwr.github.io/lunch-time-python/), [Scientific Software Center](https://ssc.iwr.uni-heidelberg.de), [Heidelberg University](https://www.uni-heidelberg.de/)"
   ]
  },
  {
   "cell_type": "markdown",
   "id": "1",
   "metadata": {
    "slideshow": {
     "slide_type": "slide"
    }
   },
   "source": [
    "# Motivation\n",
    "\n",
    "- Many reasons to use Python, but performance not one of them\n",
    "- What to do when a Python function is too slow?\n",
    "- Ideally, find a library (e.g. numpy) with an equivalent function\n",
    "- Otherwise:\n",
    "    - use PyPy instead of CPython (if all your libraries are available)\n",
    "    - write a fortan function and compile with f2py or fortranmagic\n",
    "    - write a C function and compile with Cython\n",
    "    - write a C++ function and compile using pybind11 or ipybind\n",
    "    - magically make your slow Python function faster (numba)"
   ]
  },
  {
   "cell_type": "markdown",
   "id": "2",
   "metadata": {
    "slideshow": {
     "slide_type": "subslide"
    }
   },
   "source": [
    "# numba installation\n",
    "\n",
    "- Conda: `conda install numba`\n",
    "- Pip: `python -m pip install numba`"
   ]
  },
  {
   "cell_type": "markdown",
   "id": "3",
   "metadata": {
    "slideshow": {
     "slide_type": "subslide"
    }
   },
   "source": [
    "# Vector reduction example\n",
    "\n",
    "Toy example: implement a vector reduction operation:\n",
    "\n",
    "r(x,y) = $ \\sum_i \\cos(x_i) \\sin(y_i) $\n",
    "\n",
    "Some random vectors to benchmark our functions:"
   ]
  },
  {
   "cell_type": "code",
   "execution_count": null,
   "id": "4",
   "metadata": {
    "slideshow": {
     "slide_type": "fragment"
    }
   },
   "outputs": [],
   "source": [
    "import numpy as np\n",
    "\n",
    "x = np.random.uniform(low=-1, high=1, size=5000000)\n",
    "y = np.random.uniform(low=-1, high=1, size=5000000)"
   ]
  },
  {
   "cell_type": "markdown",
   "id": "5",
   "metadata": {
    "slideshow": {
     "slide_type": "subslide"
    }
   },
   "source": [
    "# Python"
   ]
  },
  {
   "cell_type": "code",
   "execution_count": null,
   "id": "6",
   "metadata": {
    "slideshow": {
     "slide_type": "fragment"
    }
   },
   "outputs": [],
   "source": [
    "import math\n",
    "\n",
    "\n",
    "def r_python(x_vec, y_vec):\n",
    "    s = 0\n",
    "    for x, y in zip(x_vec, y_vec):\n",
    "        s += math.cos(x) * math.sin(y)\n",
    "    return s"
   ]
  },
  {
   "cell_type": "code",
   "execution_count": null,
   "id": "7",
   "metadata": {
    "slideshow": {
     "slide_type": "fragment"
    }
   },
   "outputs": [],
   "source": [
    "r_python(x, y)"
   ]
  },
  {
   "cell_type": "code",
   "execution_count": null,
   "id": "8",
   "metadata": {
    "slideshow": {
     "slide_type": "fragment"
    }
   },
   "outputs": [],
   "source": [
    "%timeit r_python(x,y)"
   ]
  },
  {
   "cell_type": "markdown",
   "id": "9",
   "metadata": {
    "slideshow": {
     "slide_type": "subslide"
    }
   },
   "source": [
    "# numpy"
   ]
  },
  {
   "cell_type": "code",
   "execution_count": null,
   "id": "10",
   "metadata": {
    "slideshow": {
     "slide_type": "fragment"
    }
   },
   "outputs": [],
   "source": [
    "def r_numpy(x_vec, y_vec):\n",
    "    return np.dot(np.cos(x_vec), np.sin(y_vec))"
   ]
  },
  {
   "cell_type": "code",
   "execution_count": null,
   "id": "11",
   "metadata": {
    "slideshow": {
     "slide_type": "fragment"
    }
   },
   "outputs": [],
   "source": [
    "r_numpy(x, y)"
   ]
  },
  {
   "cell_type": "code",
   "execution_count": null,
   "id": "12",
   "metadata": {
    "slideshow": {
     "slide_type": "fragment"
    }
   },
   "outputs": [],
   "source": [
    "%timeit r_numpy(x,y)"
   ]
  },
  {
   "cell_type": "markdown",
   "id": "13",
   "metadata": {
    "slideshow": {
     "slide_type": "subslide"
    }
   },
   "source": [
    "# Cython"
   ]
  },
  {
   "cell_type": "code",
   "execution_count": null,
   "id": "14",
   "metadata": {
    "slideshow": {
     "slide_type": "fragment"
    }
   },
   "outputs": [],
   "source": [
    "# pip install cython\n",
    "%load_ext cython"
   ]
  },
  {
   "cell_type": "code",
   "execution_count": null,
   "id": "15",
   "metadata": {
    "slideshow": {
     "slide_type": "fragment"
    }
   },
   "outputs": [],
   "source": [
    "%%cython\n",
    "\n",
    "import math\n",
    "\n",
    "def r_cython(x_vec, y_vec):\n",
    "    s = 0\n",
    "    for x,y in zip(x_vec, y_vec):\n",
    "        s += math.cos(x) * math.sin(y)\n",
    "    return s"
   ]
  },
  {
   "cell_type": "code",
   "execution_count": null,
   "id": "16",
   "metadata": {
    "slideshow": {
     "slide_type": "fragment"
    }
   },
   "outputs": [],
   "source": [
    "r_cython(x, y)"
   ]
  },
  {
   "cell_type": "code",
   "execution_count": null,
   "id": "17",
   "metadata": {
    "slideshow": {
     "slide_type": "fragment"
    }
   },
   "outputs": [],
   "source": [
    "%timeit r_cython(x,y)"
   ]
  },
  {
   "cell_type": "code",
   "execution_count": null,
   "id": "18",
   "metadata": {
    "slideshow": {
     "slide_type": "subslide"
    }
   },
   "outputs": [],
   "source": [
    "%%cython\n",
    "\n",
    "import math\n",
    "# use C math functions\n",
    "from libc.math cimport sin, cos\n",
    "\n",
    "# use C types instead of Python types\n",
    "def r_cython(double[:] x_vec, double[:] y_vec):\n",
    "    cdef double s = 0\n",
    "    cdef int i\n",
    "    for i in range(len(x_vec)):\n",
    "        s += cos(x_vec[i])*sin(y_vec[i])\n",
    "    return s"
   ]
  },
  {
   "cell_type": "code",
   "execution_count": null,
   "id": "19",
   "metadata": {
    "slideshow": {
     "slide_type": "fragment"
    }
   },
   "outputs": [],
   "source": [
    "r_cython(x, y)"
   ]
  },
  {
   "cell_type": "code",
   "execution_count": null,
   "id": "20",
   "metadata": {
    "slideshow": {
     "slide_type": "fragment"
    }
   },
   "outputs": [],
   "source": [
    "%timeit r_cython(x,y)"
   ]
  },
  {
   "cell_type": "markdown",
   "id": "21",
   "metadata": {
    "slideshow": {
     "slide_type": "subslide"
    }
   },
   "source": [
    "# Fortran"
   ]
  },
  {
   "cell_type": "code",
   "execution_count": null,
   "id": "22",
   "metadata": {
    "slideshow": {
     "slide_type": "fragment"
    }
   },
   "outputs": [],
   "source": [
    "if \"google.colab\" in str(get_ipython()):\n",
    "    !pip install fortran-magic -qqq\n",
    "%load_ext fortranmagic"
   ]
  },
  {
   "cell_type": "code",
   "execution_count": null,
   "id": "23",
   "metadata": {
    "slideshow": {
     "slide_type": "fragment"
    }
   },
   "outputs": [],
   "source": [
    "%%fortran\n",
    "\n",
    "subroutine r_fortran(x_vec, y_vec, res)\n",
    "    real, intent(in) :: x_vec(:), y_vec(:)\n",
    "    real, intent(out) :: res\n",
    "    integer :: i, n\n",
    "    n = size(x_vec)\n",
    "    res = 0\n",
    "    do i=1,n\n",
    "        res = res + cos(x_vec(i))*sin(y_vec(i))\n",
    "    enddo\n",
    "endsubroutine r_fortran"
   ]
  },
  {
   "cell_type": "code",
   "execution_count": null,
   "id": "24",
   "metadata": {
    "slideshow": {
     "slide_type": "fragment"
    }
   },
   "outputs": [],
   "source": [
    "r_fortran(x, y)"
   ]
  },
  {
   "cell_type": "code",
   "execution_count": null,
   "id": "25",
   "metadata": {
    "slideshow": {
     "slide_type": "fragment"
    }
   },
   "outputs": [],
   "source": [
    "%timeit r_fortran(x,y)"
   ]
  },
  {
   "cell_type": "markdown",
   "id": "26",
   "metadata": {
    "slideshow": {
     "slide_type": "subslide"
    }
   },
   "source": [
    "# C++ / pybind11"
   ]
  },
  {
   "cell_type": "code",
   "execution_count": null,
   "id": "27",
   "metadata": {
    "slideshow": {
     "slide_type": "fragment"
    }
   },
   "outputs": [],
   "source": [
    "if \"google.colab\" in str(get_ipython()):\n",
    "    !pip install git+https://github.com/aldanor/ipybind.git -qqq\n",
    "%load_ext ipybind"
   ]
  },
  {
   "cell_type": "code",
   "execution_count": null,
   "id": "28",
   "metadata": {
    "slideshow": {
     "slide_type": "fragment"
    }
   },
   "outputs": [],
   "source": [
    "%%pybind11\n",
    "\n",
    "#include <pybind11/numpy.h>\n",
    "#include <math.h>\n",
    "PYBIND11_PLUGIN(example) {\n",
    "    py::module m(\"example\");\n",
    "    m.def(\"r_pybind\", [](const py::array_t<double>& x, const py::array_t<double>& y) {\n",
    "        double sum{0};\n",
    "        auto rx{x.unchecked<1>()};\n",
    "        auto ry{y.unchecked<1>()};\n",
    "        for (py::ssize_t i = 0; i < rx.shape(0); i++){\n",
    "            sum += std::cos(rx[i])*std::sin(ry[i]);\n",
    "        }\n",
    "        return sum;\n",
    "    });\n",
    "    return m.ptr();\n",
    "}"
   ]
  },
  {
   "cell_type": "code",
   "execution_count": null,
   "id": "29",
   "metadata": {
    "slideshow": {
     "slide_type": "fragment"
    }
   },
   "outputs": [],
   "source": [
    "r_pybind(x, y)"
   ]
  },
  {
   "cell_type": "code",
   "execution_count": null,
   "id": "30",
   "metadata": {
    "slideshow": {
     "slide_type": "fragment"
    }
   },
   "outputs": [],
   "source": [
    "%timeit r_pybind(x, y)"
   ]
  },
  {
   "cell_type": "markdown",
   "id": "31",
   "metadata": {
    "slideshow": {
     "slide_type": "subslide"
    }
   },
   "source": [
    "# numba"
   ]
  },
  {
   "cell_type": "code",
   "execution_count": null,
   "id": "32",
   "metadata": {
    "slideshow": {
     "slide_type": "fragment"
    }
   },
   "outputs": [],
   "source": [
    "from numba import jit\n",
    "\n",
    "\n",
    "@jit\n",
    "def r_numba(x_vec, y_vec):\n",
    "    s = 0\n",
    "    for x, y in zip(x_vec, y_vec):\n",
    "        s += math.cos(x) * math.sin(y)\n",
    "    return s"
   ]
  },
  {
   "cell_type": "code",
   "execution_count": null,
   "id": "33",
   "metadata": {
    "slideshow": {
     "slide_type": "fragment"
    }
   },
   "outputs": [],
   "source": [
    "r_numba(x, y)"
   ]
  },
  {
   "cell_type": "code",
   "execution_count": null,
   "id": "34",
   "metadata": {
    "slideshow": {
     "slide_type": "fragment"
    }
   },
   "outputs": [],
   "source": [
    "# pure python with numba JIT\n",
    "%timeit r_numba(x,y)"
   ]
  },
  {
   "cell_type": "markdown",
   "id": "35",
   "metadata": {
    "slideshow": {
     "slide_type": "slide"
    }
   },
   "source": [
    "## Numba compilation\n",
    "\n",
    "Two compilation modes\n",
    "\n",
    "- `nopython` mode (default)\n",
    "  - Fast because it doesn't access the Python C API\n",
    "  - Needs to be able to infer the native (C) types of all values\n",
    "- `object` mode (fallback)\n",
    "  - Slow because it uses Python objects and the Python C API\n",
    "  - Only used if `nopython` mode is not possible\n",
    "  - To raise an error instead of falling back to this, set `nopython=True` or use `@njit`"
   ]
  },
  {
   "cell_type": "markdown",
   "id": "36",
   "metadata": {
    "slideshow": {
     "slide_type": "slide"
    }
   },
   "source": [
    "## Numba function signatures\n",
    "\n",
    "You can optionally explicitly specify the function signature. Use cases:\n",
    "\n",
    "- you want the function to be compiled when it is defined rather than when it is first called\n",
    "- you need fine-grained control over types (e.g. if you want 32-bit floats)"
   ]
  },
  {
   "cell_type": "code",
   "execution_count": null,
   "id": "37",
   "metadata": {
    "slideshow": {
     "slide_type": "fragment"
    }
   },
   "outputs": [],
   "source": [
    "from numba import float32\n",
    "\n",
    "\n",
    "@jit(float32(float32, float32))\n",
    "def sum(a, b):\n",
    "    return a + b"
   ]
  },
  {
   "cell_type": "code",
   "execution_count": null,
   "id": "38",
   "metadata": {
    "slideshow": {
     "slide_type": "fragment"
    }
   },
   "outputs": [],
   "source": [
    "sum(1, 0.99999999)"
   ]
  },
  {
   "cell_type": "markdown",
   "id": "39",
   "metadata": {
    "slideshow": {
     "slide_type": "slide"
    }
   },
   "source": [
    "## Numba options\n",
    "\n",
    "- `nopython=True` disable Object mode fallback\n",
    "- `nogil=True` release the Python Global Interpreter Lock (GIL)\n",
    "- `cache=True` cache the compiled funtions on disk\n",
    "- `parallel=True` enable automatic parallelization"
   ]
  },
  {
   "cell_type": "markdown",
   "id": "40",
   "metadata": {
    "slideshow": {
     "slide_type": "subslide"
    }
   },
   "source": [
    "# Parallelization\n",
    "\n",
    "- set `parallel=True` option to enable\n",
    "- use `prange` to explicitly parallelize a loop over a `range`"
   ]
  },
  {
   "cell_type": "code",
   "execution_count": null,
   "id": "41",
   "metadata": {
    "slideshow": {
     "slide_type": "fragment"
    }
   },
   "outputs": [],
   "source": [
    "from numba import jit, prange\n",
    "\n",
    "\n",
    "@jit(parallel=True)\n",
    "def r_numba(x_vec, y_vec):\n",
    "    s = 0\n",
    "    for i in prange(len(x_vec)):\n",
    "        s += math.cos(x[i]) * math.sin(y[i])\n",
    "    return s"
   ]
  },
  {
   "cell_type": "code",
   "execution_count": null,
   "id": "42",
   "metadata": {
    "slideshow": {
     "slide_type": "fragment"
    }
   },
   "outputs": [],
   "source": [
    "r_numba(x, y)"
   ]
  },
  {
   "cell_type": "code",
   "execution_count": null,
   "id": "43",
   "metadata": {
    "slideshow": {
     "slide_type": "fragment"
    }
   },
   "outputs": [],
   "source": [
    "%timeit r_numba(x,y)"
   ]
  },
  {
   "cell_type": "markdown",
   "id": "44",
   "metadata": {
    "slideshow": {
     "slide_type": "subslide"
    }
   },
   "source": [
    "# NumPy universal functions\n",
    "\n",
    "- a numpy `ufunc` is a function that operates on scalars\n",
    "- can create one using `@numba.vectorize` and use it like built-in numpy ufuncs"
   ]
  },
  {
   "cell_type": "code",
   "execution_count": null,
   "id": "45",
   "metadata": {
    "slideshow": {
     "slide_type": "fragment"
    }
   },
   "outputs": [],
   "source": [
    "from numba import vectorize, float64\n",
    "\n",
    "\n",
    "@vectorize([float64(float64, float64)], target=\"parallel\")\n",
    "def r(x, y):\n",
    "    return np.cos(x) * np.sin(y)"
   ]
  },
  {
   "cell_type": "code",
   "execution_count": null,
   "id": "46",
   "metadata": {
    "slideshow": {
     "slide_type": "fragment"
    }
   },
   "outputs": [],
   "source": [
    "r(2, 3)"
   ]
  },
  {
   "cell_type": "code",
   "execution_count": null,
   "id": "47",
   "metadata": {
    "slideshow": {
     "slide_type": "fragment"
    }
   },
   "outputs": [],
   "source": [
    "r(x, y)"
   ]
  },
  {
   "cell_type": "code",
   "execution_count": null,
   "id": "48",
   "metadata": {
    "slideshow": {
     "slide_type": "fragment"
    }
   },
   "outputs": [],
   "source": [
    "np.sum(r(x, y))"
   ]
  },
  {
   "cell_type": "code",
   "execution_count": null,
   "id": "49",
   "metadata": {
    "slideshow": {
     "slide_type": "fragment"
    }
   },
   "outputs": [],
   "source": [
    "%timeit np.sum(r(x,y))"
   ]
  },
  {
   "cell_type": "markdown",
   "id": "50",
   "metadata": {
    "slideshow": {
     "slide_type": "subslide"
    }
   },
   "source": [
    "## Advanced features\n",
    "\n",
    "- Ahead of Time (AoT) compilation\n",
    "  - the compiled module only depends on NumPy\n",
    "- Flexible specializations\n",
    "  - `@generated_jit` decorator for compile-time logic, e.g. type specializations\n",
    "- Stencil\n",
    "  - `@stencil` decorator for creating a stencil to apply to an array\n",
    "- C callbacks\n",
    "  - `@cfunc` decorator to generate a C-callback (e.g. to pass to scipy.integrate)\n",
    "- CUDA support\n",
    "  - compile CUDA kernels to run on a GPU\n",
    "- see [numba.readthedocs.io](https://numba.readthedocs.io/) for more"
   ]
  }
 ],
 "metadata": {
  "celltoolbar": "Slideshow",
  "kernelspec": {
   "display_name": "Python 3 (ipykernel)",
   "language": "python",
   "name": "python3"
  },
  "language_info": {
   "codemirror_mode": {
    "name": "ipython",
    "version": 3
   },
   "file_extension": ".py",
   "mimetype": "text/x-python",
   "name": "python",
   "nbconvert_exporter": "python",
   "pygments_lexer": "ipython3",
   "version": "3.9.4"
  }
 },
 "nbformat": 4,
 "nbformat_minor": 5
}
