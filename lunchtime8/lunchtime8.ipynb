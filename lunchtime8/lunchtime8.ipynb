{
 "cells": [
  {
   "cell_type": "markdown",
   "id": "a2adc30d",
   "metadata": {
    "slideshow": {
     "slide_type": "slide"
    }
   },
   "source": [
    "# Lunch Time Python #8: ipywidgets"
   ]
  },
  {
   "cell_type": "markdown",
   "id": "0e307e7e",
   "metadata": {
    "slideshow": {
     "slide_type": "-"
    }
   },
   "source": [
    "*Jupyter Notebooks* are a perfect fit for scientific work with Python. They combine the following elements:\n",
    "\n",
    "* Code\n",
    "* Documentation\n",
    "* Visualization\n",
    "* **UI Controls**"
   ]
  },
  {
   "cell_type": "markdown",
   "id": "775a0136",
   "metadata": {
    "slideshow": {
     "slide_type": "-"
    }
   },
   "source": [
    "This allows us to write scientifically meaningful, executable documents that contain results, their interpretation and their provenance. They are a key element for reproducible research."
   ]
  },
  {
   "cell_type": "markdown",
   "id": "0d585057",
   "metadata": {
    "slideshow": {
     "slide_type": "slide"
    }
   },
   "source": [
    "## What are widgets?"
   ]
  },
  {
   "cell_type": "markdown",
   "id": "bac7b0e2",
   "metadata": {
    "slideshow": {
     "slide_type": "-"
    }
   },
   "source": [
    "Jupyter has a so-called *rich display system*. If Python code returns an object, Jupyter accesses special methods on the object to decide how to display it. This can involve pretty printing, HTML, images, video, sounds etc:"
   ]
  },
  {
   "cell_type": "code",
   "execution_count": null,
   "id": "d40d3010",
   "metadata": {
    "slideshow": {
     "slide_type": "-"
    }
   },
   "outputs": [],
   "source": [
    "from PIL import Image\n",
    "from io import BytesIO\n",
    "import requests"
   ]
  },
  {
   "cell_type": "code",
   "execution_count": null,
   "id": "95a3d5b5",
   "metadata": {
    "slideshow": {
     "slide_type": "-"
    }
   },
   "outputs": [],
   "source": [
    "response = requests.get(\n",
    "    \"https://ssciwr.github.io/lunch-time-python/lunchtime5/thingstaette.png\"\n",
    ")\n",
    "img = Image.open(BytesIO(response.content))"
   ]
  },
  {
   "cell_type": "code",
   "execution_count": null,
   "id": "bce500f9",
   "metadata": {
    "slideshow": {
     "slide_type": "-"
    }
   },
   "outputs": [],
   "source": [
    "?img._repr_png_"
   ]
  },
  {
   "cell_type": "code",
   "execution_count": null,
   "id": "09cc8e43",
   "metadata": {
    "slideshow": {
     "slide_type": "-"
    }
   },
   "outputs": [],
   "source": [
    "img"
   ]
  },
  {
   "cell_type": "markdown",
   "id": "18160018",
   "metadata": {
    "slideshow": {
     "slide_type": "slide"
    }
   },
   "source": [
    "`ipywidgets` provides a number of widgets that are Python objects that display as HTML. The interactive behaviour of this HTML snippet is implemented in JavaScript and uses callback functions in Python. This way, you write interactive notebooks with pure Python."
   ]
  },
  {
   "cell_type": "code",
   "execution_count": null,
   "id": "6668a25c",
   "metadata": {
    "slideshow": {
     "slide_type": "-"
    }
   },
   "outputs": [],
   "source": [
    "import ipywidgets"
   ]
  },
  {
   "cell_type": "code",
   "execution_count": null,
   "id": "f6fbb285",
   "metadata": {
    "slideshow": {
     "slide_type": "-"
    }
   },
   "outputs": [],
   "source": [
    "button = ipywidgets.Button(description=\"Click Me!\")"
   ]
  },
  {
   "cell_type": "code",
   "execution_count": null,
   "id": "dbd550db",
   "metadata": {
    "slideshow": {
     "slide_type": "-"
    }
   },
   "outputs": [],
   "source": [
    "button"
   ]
  },
  {
   "cell_type": "code",
   "execution_count": null,
   "id": "38186f07",
   "metadata": {
    "slideshow": {
     "slide_type": "-"
    }
   },
   "outputs": [],
   "source": [
    "def handler(change):\n",
    "    button.description = \"Thanks!\""
   ]
  },
  {
   "cell_type": "code",
   "execution_count": null,
   "id": "684846a8",
   "metadata": {
    "slideshow": {
     "slide_type": "-"
    }
   },
   "outputs": [],
   "source": [
    "button.on_click(handler)"
   ]
  },
  {
   "cell_type": "markdown",
   "id": "19759cc5",
   "metadata": {
    "slideshow": {
     "slide_type": "slide"
    }
   },
   "source": [
    "## Input widgets (I)"
   ]
  },
  {
   "cell_type": "markdown",
   "id": "ea015590",
   "metadata": {},
   "source": [
    "We can create simple input fields that allow users to put in data. We can then access that data from Python reading and writing:"
   ]
  },
  {
   "cell_type": "code",
   "execution_count": null,
   "id": "e984411d",
   "metadata": {},
   "outputs": [],
   "source": [
    "widget = ipywidgets.Text()"
   ]
  },
  {
   "cell_type": "code",
   "execution_count": null,
   "id": "47db99cc",
   "metadata": {},
   "outputs": [],
   "source": [
    "widget"
   ]
  },
  {
   "cell_type": "code",
   "execution_count": null,
   "id": "61debacd",
   "metadata": {},
   "outputs": [],
   "source": [
    "widget.value"
   ]
  },
  {
   "cell_type": "code",
   "execution_count": null,
   "id": "04770de5",
   "metadata": {},
   "outputs": [],
   "source": [
    "widget.value = \"Test\""
   ]
  },
  {
   "cell_type": "markdown",
   "id": "300bea05",
   "metadata": {
    "slideshow": {
     "slide_type": "slide"
    }
   },
   "source": [
    "## Input widgets (II)"
   ]
  },
  {
   "cell_type": "markdown",
   "id": "fbea6f4b",
   "metadata": {},
   "source": [
    "Many similar working subflavors exist (for a full list see [the docs](https://ipywidgets.readthedocs.io/en/latest/examples/Widget%20List.html)):"
   ]
  },
  {
   "cell_type": "code",
   "execution_count": null,
   "id": "45430dd4",
   "metadata": {},
   "outputs": [],
   "source": [
    "ipywidgets.FloatText(value=42.0, step=0.01)"
   ]
  },
  {
   "cell_type": "code",
   "execution_count": null,
   "id": "f134fb86",
   "metadata": {},
   "outputs": [],
   "source": [
    "ipywidgets.IntSlider(min=-10, max=10)"
   ]
  },
  {
   "cell_type": "code",
   "execution_count": null,
   "id": "6057759d",
   "metadata": {},
   "outputs": [],
   "source": [
    "ipywidgets.Checkbox(value=True, description=\"Some Option\")"
   ]
  },
  {
   "cell_type": "markdown",
   "id": "a2849cff",
   "metadata": {
    "slideshow": {
     "slide_type": "slide"
    }
   },
   "source": [
    "## Selection widgets"
   ]
  },
  {
   "cell_type": "code",
   "execution_count": null,
   "id": "345fc8e0",
   "metadata": {},
   "outputs": [],
   "source": [
    "widget = ipywidgets.Dropdown(options=[\"Model A\", \"Model B\", \"Model C\"])"
   ]
  },
  {
   "cell_type": "code",
   "execution_count": null,
   "id": "a0146185",
   "metadata": {},
   "outputs": [],
   "source": [
    "widget"
   ]
  },
  {
   "cell_type": "code",
   "execution_count": null,
   "id": "34bd14f7",
   "metadata": {},
   "outputs": [],
   "source": [
    "widget.value"
   ]
  },
  {
   "cell_type": "code",
   "execution_count": null,
   "id": "46809afc",
   "metadata": {},
   "outputs": [],
   "source": [
    "ipywidgets.RadioButtons(options=[\"Model A\", \"Model B\", \"Model C\"])"
   ]
  },
  {
   "cell_type": "code",
   "execution_count": null,
   "id": "e090f909",
   "metadata": {},
   "outputs": [],
   "source": [
    "ipywidgets.Select(options=[\"Linux\", \"Windows\", \"macOS\"], description=\"OS:\")"
   ]
  },
  {
   "cell_type": "markdown",
   "id": "4eb4c188",
   "metadata": {
    "slideshow": {
     "slide_type": "slide"
    }
   },
   "source": [
    "## Container widgets"
   ]
  },
  {
   "cell_type": "markdown",
   "id": "05d4771e",
   "metadata": {},
   "source": [
    "If multiple widgets should be placed together, possibly applying some styling, they can be grouped into container widgets. In contrast to other widgets, these do not have an accessible `value`, but some have `selected_index`:"
   ]
  },
  {
   "cell_type": "code",
   "execution_count": null,
   "id": "09a14196",
   "metadata": {},
   "outputs": [],
   "source": [
    "widgets = [ipywidgets.Text(value=f\"#{i}\") for i in range(4)]"
   ]
  },
  {
   "cell_type": "code",
   "execution_count": null,
   "id": "8da691e7",
   "metadata": {},
   "outputs": [],
   "source": [
    "ipywidgets.HBox(children=widgets)"
   ]
  },
  {
   "cell_type": "code",
   "execution_count": null,
   "id": "79be49d0",
   "metadata": {},
   "outputs": [],
   "source": [
    "ipywidgets.VBox(children=widgets)"
   ]
  },
  {
   "cell_type": "code",
   "execution_count": null,
   "id": "c6c38c60",
   "metadata": {
    "slideshow": {
     "slide_type": "subslide"
    }
   },
   "outputs": [],
   "source": [
    "ipywidgets.Accordion(children=widgets, titles=tuple(f\"Tab #{i}\" for i in range(4)))"
   ]
  },
  {
   "cell_type": "code",
   "execution_count": null,
   "id": "d8c4bb85",
   "metadata": {},
   "outputs": [],
   "source": [
    "tab = ipywidgets.Tab(children=widgets, titles=tuple(f\"Tab #{i}\" for i in range(4)))"
   ]
  },
  {
   "cell_type": "code",
   "execution_count": null,
   "id": "da028070",
   "metadata": {},
   "outputs": [],
   "source": [
    "tab"
   ]
  },
  {
   "cell_type": "code",
   "execution_count": null,
   "id": "8a2b330a",
   "metadata": {},
   "outputs": [],
   "source": [
    "tab.selected_index"
   ]
  },
  {
   "cell_type": "markdown",
   "id": "3747ea24",
   "metadata": {
    "slideshow": {
     "slide_type": "slide"
    }
   },
   "source": [
    "## Putting things together"
   ]
  },
  {
   "cell_type": "code",
   "execution_count": null,
   "id": "35722f84",
   "metadata": {},
   "outputs": [],
   "source": [
    "import io\n",
    "\n",
    "\n",
    "def img_to_widget(i):\n",
    "    membuf = io.BytesIO()\n",
    "    i.save(membuf, format=\"png\")\n",
    "    return ipywidgets.Image(value=membuf.getvalue(), format=\"png\")"
   ]
  },
  {
   "cell_type": "code",
   "execution_count": null,
   "id": "cd318bda",
   "metadata": {},
   "outputs": [],
   "source": [
    "img_widget = img_to_widget(img)\n",
    "cropped_widget = img_to_widget(img)"
   ]
  },
  {
   "cell_type": "code",
   "execution_count": null,
   "id": "b80a5b2d",
   "metadata": {},
   "outputs": [],
   "source": [
    "x0 = ipywidgets.IntText(value=0, layout=ipywidgets.Layout(width=\"100px\"))\n",
    "y0 = ipywidgets.IntText(value=0, layout=ipywidgets.Layout(width=\"100px\"))\n",
    "x1 = ipywidgets.IntText(value=img.size[0], layout=ipywidgets.Layout(width=\"100px\"))\n",
    "y1 = ipywidgets.IntText(value=img.size[1], layout=ipywidgets.Layout(width=\"100px\"))"
   ]
  },
  {
   "cell_type": "code",
   "execution_count": null,
   "id": "3dd27f94",
   "metadata": {
    "slideshow": {
     "slide_type": "subslide"
    }
   },
   "outputs": [],
   "source": [
    "controls = ipywidgets.VBox(\n",
    "    children=[\n",
    "        ipywidgets.VBox(children=[ipywidgets.Label(\"Upper left:\"), x0, y0]),\n",
    "        ipywidgets.VBox(children=[ipywidgets.Label(\"Lower right:\"), x1, y1]),\n",
    "    ]\n",
    ")"
   ]
  },
  {
   "cell_type": "code",
   "execution_count": null,
   "id": "98852091",
   "metadata": {},
   "outputs": [],
   "source": [
    "def crop_handler(_):\n",
    "    cropped_widget.value = img_to_widget(\n",
    "        img.crop([x0.value, y0.value, x1.value, y1.value])\n",
    "    ).value\n",
    "\n",
    "\n",
    "x0.observe(crop_handler, names=\"value\")\n",
    "y0.observe(crop_handler, names=\"value\")\n",
    "x1.observe(crop_handler, names=\"value\")\n",
    "y1.observe(crop_handler, names=\"value\")"
   ]
  },
  {
   "cell_type": "code",
   "execution_count": null,
   "id": "f478f3e1",
   "metadata": {},
   "outputs": [],
   "source": [
    "app = ipywidgets.AppLayout(\n",
    "    left_sidebar=controls,\n",
    "    center=img_widget,\n",
    "    right_sidebar=cropped_widget,\n",
    "    pane_widths=(1, 2, 2),\n",
    ")"
   ]
  },
  {
   "cell_type": "code",
   "execution_count": null,
   "id": "a477f9e7",
   "metadata": {
    "slideshow": {
     "slide_type": "subslide"
    }
   },
   "outputs": [],
   "source": [
    "app"
   ]
  },
  {
   "cell_type": "markdown",
   "id": "22b32f83",
   "metadata": {
    "slideshow": {
     "slide_type": "slide"
    }
   },
   "source": [
    "## A simple alternative - interact"
   ]
  },
  {
   "cell_type": "markdown",
   "id": "a5f3ae1f",
   "metadata": {},
   "source": [
    "`ipywidgets` contains a much simpler interface that automatically creates widgets for you. You simply need to annotate (\"decorate\") a function that does something and you will get a continuously updated interactive version:"
   ]
  },
  {
   "cell_type": "code",
   "execution_count": null,
   "id": "a18c8129",
   "metadata": {},
   "outputs": [],
   "source": [
    "@ipywidgets.interact(x=(0, 100), y=(0, 100))\n",
    "def add(x, y):\n",
    "    return x + y"
   ]
  },
  {
   "cell_type": "markdown",
   "id": "68b9e73e",
   "metadata": {},
   "source": [
    "Notably, this does not change the function nature of `add`. It is merely displaying a UI as a side effect of the function definition:"
   ]
  },
  {
   "cell_type": "code",
   "execution_count": null,
   "id": "4d2d731e",
   "metadata": {},
   "outputs": [],
   "source": [
    "?add"
   ]
  },
  {
   "cell_type": "markdown",
   "id": "23580d2c",
   "metadata": {
    "slideshow": {
     "slide_type": "slide"
    }
   },
   "source": [
    "`ipywidgets.interact` has many more options and flavors. Here are some:"
   ]
  },
  {
   "cell_type": "code",
   "execution_count": null,
   "id": "1909fbec",
   "metadata": {},
   "outputs": [],
   "source": [
    "@ipywidgets.interact(\n",
    "    operation=[(\"add\", 1.0), (\"subtract\", -1.0)],\n",
    "    rounding=False,\n",
    "    x=(0, 100, 0.1),\n",
    "    y=(0, 100, 0.1),\n",
    ")\n",
    "def op(operation, rounding, x, y):\n",
    "    val = x * operation + y\n",
    "    if rounding:\n",
    "        return round(val)\n",
    "    else:\n",
    "        return val"
   ]
  },
  {
   "cell_type": "code",
   "execution_count": null,
   "id": "b363c1c7",
   "metadata": {},
   "outputs": [],
   "source": [
    "import time"
   ]
  },
  {
   "cell_type": "code",
   "execution_count": null,
   "id": "f8ce5d9f",
   "metadata": {},
   "outputs": [],
   "source": [
    "@ipywidgets.interact_manual(x=(0, 100), y=(0, 100))\n",
    "def slow_add(x, y):\n",
    "    time.sleep(1)\n",
    "    return x + y"
   ]
  },
  {
   "cell_type": "markdown",
   "id": "01dae5ce",
   "metadata": {
    "slideshow": {
     "slide_type": "slide"
    }
   },
   "source": [
    "## More information\n",
    "\n",
    "For more information, see the `ipywidgets` documentation:\n",
    "\n",
    "[https://ipywidgets.readthedocs.io](https://ipywidgets.readthedocs.io)"
   ]
  }
 ],
 "metadata": {
  "celltoolbar": "Slideshow",
  "kernelspec": {
   "display_name": "Python 3 (ipykernel)",
   "language": "python",
   "name": "python3"
  },
  "language_info": {
   "codemirror_mode": {
    "name": "ipython",
    "version": 3
   },
   "file_extension": ".py",
   "mimetype": "text/x-python",
   "name": "python",
   "nbconvert_exporter": "python",
   "pygments_lexer": "ipython3",
   "version": "3.11.0"
  }
 },
 "nbformat": 4,
 "nbformat_minor": 5
}
