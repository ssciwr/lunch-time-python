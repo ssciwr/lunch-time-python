{
 "cells": [
  {
   "cell_type": "markdown",
   "metadata": {
    "slideshow": {
     "slide_type": "slide"
    }
   },
   "source": [
    "# Welcome to Dash\n",
    "\n",
    "### UI elements not quite as messy as ipywidgets.\n",
    "\n",
    "Dash is a comparably easy and stable way to build standalone or jupyter based widgets/apps.\n",
    "\n",
    "All components listed here can also be found under https://dash.plotly.com/dash-core-components for a more specific documentation.\n"
   ]
  },
  {
   "cell_type": "markdown",
   "metadata": {
    "slideshow": {
     "slide_type": "notes"
    }
   },
   "source": [
    "Simple text is automatically shown side by side: <br>\n",
    "`html.Div([\"some nested text \",   \"some parallel text\"]),`<br>\n",
    "while nested Div's are shown side by side:<br>\n",
    "`html.Div([html.Div(\"some nested text \"),   html.Div(\"some parallel text\")])`<br>\n",
    "Unless you use the style property to change the display property to inline-block: <br> \n",
    "`html.Div([html.Div(\"some nested text   \", style={\"display\":\"inline-block\"}),   html.Div(\"some parallel text\", style={\"display\":\"inline-block\"})],),`\n"
   ]
  },
  {
   "cell_type": "code",
   "execution_count": 1,
   "metadata": {
    "slideshow": {
     "slide_type": "skip"
    }
   },
   "outputs": [],
   "source": [
    "import plotly.express as px\n",
    "import numpy as np"
   ]
  },
  {
   "cell_type": "code",
   "execution_count": 2,
   "metadata": {
    "slideshow": {
     "slide_type": "slide"
    }
   },
   "outputs": [],
   "source": [
    "from dash import html, Input, Output, dcc, State, Dash\n",
    "import jupyter_dash\n"
   ]
  },
  {
   "cell_type": "code",
   "execution_count": 3,
   "metadata": {
    "slideshow": {
     "slide_type": "fragment"
    }
   },
   "outputs": [],
   "source": [
    "# the UI is defined as a hierarchy of HTML components inside \n",
    "# the app.layout\n",
    "basic_layout = html.Div(\n",
    "    [\n",
    "        html.Div([\"some nested text \", \"some parallel text\"]),\n",
    "        html.Br(),\n",
    "        html.Div([html.Div(\"some nested text \"), \n",
    "                  html.Div(\"some parallel text\")]),\n",
    "        html.Br(),\n",
    "        html.Div(\n",
    "            [\n",
    "                html.Div(\n",
    "                    \"some nested text   \",\n",
    "                    style={\"display\": \"inline-block\"},\n",
    "                ),\n",
    "                html.Div(\n",
    "                    \"some parallel text\",\n",
    "                    style={\"display\": \"inline-block\"},\n",
    "                ),\n",
    "            ],\n",
    "        ),\n",
    "    ]\n",
    ")"
   ]
  },
  {
   "cell_type": "code",
   "execution_count": 4,
   "metadata": {
    "slideshow": {
     "slide_type": "subslide"
    }
   },
   "outputs": [],
   "source": [
    "# standalone dash server\n",
    "app1 = Dash(\"app1\")\n",
    "\n",
    "app1.layout = basic_layout\n",
    "#app1.run_server(debug=True, port=5050, use_reloader=False)"
   ]
  },
  {
   "cell_type": "code",
   "execution_count": 5,
   "metadata": {
    "slideshow": {
     "slide_type": "subslide"
    }
   },
   "outputs": [
    {
     "name": "stdout",
     "output_type": "stream",
     "text": [
      "Dash is running on http://127.0.0.1:8069/\n",
      "\n"
     ]
    },
    {
     "data": {
      "text/html": [
       "\n",
       "        <iframe\n",
       "            width=\"100%\"\n",
       "            height=\"650\"\n",
       "            src=\"http://127.0.0.1:8069/\"\n",
       "            frameborder=\"0\"\n",
       "            allowfullscreen\n",
       "            \n",
       "        ></iframe>\n",
       "        "
      ],
      "text/plain": [
       "<IPython.lib.display.IFrame at 0x7f353e9e88e0>"
      ]
     },
     "metadata": {},
     "output_type": "display_data"
    }
   ],
   "source": [
    "# dash as jupyter widgets\n",
    "app2 = jupyter_dash.JupyterDash(\"app2\")\n",
    "\n",
    "app2.layout = basic_layout\n",
    "\n",
    "app2.run_server(debug=True, port=8069, mode=\"inline\")"
   ]
  },
  {
   "cell_type": "markdown",
   "metadata": {
    "slideshow": {
     "slide_type": "slide"
    }
   },
   "source": [
    "# Styling and components\n",
    "With the `style` argument most dash components can be changed according to the css standard.\n",
    "\n",
    "Note: Dash also supports css style sheets. See: https://dash.plotly.com/external-resources\n",
    "\n",
    "\n",
    "Most dash components are found under `dcc`, though some are in `html`.\n",
    "With these we can generate a UI that can't really do anything."
   ]
  },
  {
   "cell_type": "code",
   "execution_count": 6,
   "metadata": {
    "slideshow": {
     "slide_type": "subslide"
    }
   },
   "outputs": [],
   "source": [
    "external_stylesheets = [\"https://codepen.io/chriddyp/pen/bWLwgP.css\"]\n",
    "app3 = jupyter_dash.JupyterDash(\n",
    "        \"app3\", \n",
    "        external_stylesheets=external_stylesheets)\n",
    "my_style = {\"width\": \"30%\", \n",
    "            \"margin-top\": \"20px\", \n",
    "            \"margin-bottom\": \"20px\"}\n",
    "app3.layout = html.Div(\n",
    "    [\"This is some basic layout:\",\n",
    "        dcc.Dropdown(\n",
    "            [\"x^2\", \"2x\", \"e^x\"],\n",
    "            \"x^2\",\n",
    "            style=my_style,\n",
    "        ),\n",
    "        html.Div(dcc.RangeSlider(\n",
    "             0, 20, 1, \n",
    "             value=[5, 15]), \n",
    "             style={\"width\": \"30%\"}),\n",
    "        html.Button(\n",
    "            \"Click_me\",\n",
    "            style=my_style,\n",
    "        ),\n",
    "        dcc.Graph(),\n",
    "    ]\n",
    ")"
   ]
  },
  {
   "cell_type": "code",
   "execution_count": 7,
   "metadata": {
    "slideshow": {
     "slide_type": "subslide"
    }
   },
   "outputs": [
    {
     "name": "stdout",
     "output_type": "stream",
     "text": [
      "Dash is running on http://127.0.0.1:8070/\n",
      "\n"
     ]
    },
    {
     "data": {
      "text/html": [
       "\n",
       "        <iframe\n",
       "            width=\"100%\"\n",
       "            height=\"650\"\n",
       "            src=\"http://127.0.0.1:8070/\"\n",
       "            frameborder=\"0\"\n",
       "            allowfullscreen\n",
       "            \n",
       "        ></iframe>\n",
       "        "
      ],
      "text/plain": [
       "<IPython.lib.display.IFrame at 0x7f353d87c610>"
      ]
     },
     "metadata": {},
     "output_type": "display_data"
    }
   ],
   "source": [
    "app3.run_server(debug=True, port=8070, mode=\"inline\")"
   ]
  },
  {
   "cell_type": "markdown",
   "metadata": {
    "slideshow": {
     "slide_type": "slide"
    }
   },
   "source": [
    "# Callbacks\n",
    "With the use of callbacks we can now add functionality to all our elements.\n",
    "\n",
    "In this example I want to be able to choose a function type, set the x limits for the calculation and show the graph upon clicking the button.\n",
    "\n",
    "The Dash callbacks allow us to access and monitor each object variable. <br>\n",
    "For this to work we first need to assign IDs to every object we want to interact with.  <br>\n",
    "Many of the Dividers for example don't need a specific ID. <br>\n",
    "\n",
    "A callback can have as many inputs and outputs as needed. <br>\n",
    "Any component provided as `Input` will trigger the callback, while `State` can be used to obtain certain variables without triggering the function. <br>\n",
    "Lastly `Output` is used to define which object the return value will be assigned to.\n",
    "\n",
    "\n",
    "Note that even though the `n_click` value of the button is not used it must still be the first function argument."
   ]
  },
  {
   "cell_type": "code",
   "execution_count": 8,
   "metadata": {
    "slideshow": {
     "slide_type": "subslide"
    }
   },
   "outputs": [],
   "source": [
    "app4 = jupyter_dash.JupyterDash(\"app4\")\n",
    "\n",
    "app4.layout = html.Div(\n",
    "    [\n",
    "        \"This is some basic layout:\",\n",
    "        dcc.Dropdown(\n",
    "            [\"x^2\", \"2x\", \"e^x\"],\n",
    "            \"x^2\",\n",
    "            style=my_style,\n",
    "            id=\"dropdown\",\n",
    "        ),\n",
    "        html.Div(\n",
    "            dcc.RangeSlider(\n",
    "                0,\n",
    "                20,\n",
    "                1,\n",
    "                value=[5, 15],\n",
    "                id=\"slider\",\n",
    "            ),\n",
    "            style={\"width\": \"50%\"},\n",
    "        ),\n",
    "        html.Button(\n",
    "            \"Click_me\",\n",
    "            style=my_style,\n",
    "            id=\"button\",\n",
    "        ),\n",
    "        dcc.Graph(id=\"graph\"),\n",
    "    ]\n",
    ")"
   ]
  },
  {
   "cell_type": "code",
   "execution_count": 9,
   "metadata": {
    "slideshow": {
     "slide_type": "subslide"
    }
   },
   "outputs": [],
   "source": [
    "\n",
    "@app4.callback(\n",
    "    Output(\"graph\", \"figure\"),\n",
    "    Input(\"button\", \"n_clicks\"),\n",
    "    State(\"dropdown\", \"value\"),\n",
    "    State(\"slider\", \"value\"),\n",
    ")\n",
    "def update_graph(n_clicks, dropdown_value, slider_value):\n",
    "    def _plot_function(x, function_name):\n",
    "        if function_name == \"x^2\":\n",
    "            return x**2\n",
    "        elif function_name == \"2x\":\n",
    "            return 2 * x\n",
    "        elif function_name == \"e^x\":\n",
    "            return np.exp(x)\n",
    "        else:\n",
    "            raise ValueError(\n",
    "                f\"Unknown function_name: {function_name}\")\n",
    "\n",
    "    x_range = np.linspace(slider_value[0], slider_value[1], 100)\n",
    "    y = _plot_function(x_range, dropdown_value)\n",
    "    figure = px.line(x=x_range, y=y, title=dropdown_value)\n",
    "\n",
    "    return figure\n",
    "\n",
    "\n"
   ]
  },
  {
   "cell_type": "code",
   "execution_count": 10,
   "metadata": {
    "slideshow": {
     "slide_type": "notes"
    }
   },
   "outputs": [],
   "source": [
    "# what happens if I deselect the functions?\n"
   ]
  },
  {
   "cell_type": "code",
   "execution_count": 23,
   "metadata": {
    "slideshow": {
     "slide_type": "subslide"
    }
   },
   "outputs": [
    {
     "name": "stdout",
     "output_type": "stream",
     "text": [
      "Dash is running on http://127.0.0.1:8068/\n",
      "\n",
      "Dash app running on http://127.0.0.1:8068/\n"
     ]
    }
   ],
   "source": [
    "app4.run_server(debug=True, port=8068, mode=\"inline\")"
   ]
  },
  {
   "cell_type": "markdown",
   "metadata": {
    "slideshow": {
     "slide_type": "slide"
    }
   },
   "source": [
    "# Dynamically add more widgets\n",
    "\n",
    "So far we have only considered static IDs and that is fine for many work cases. However sometimes it might be necessary to add widgets inside of callbacks.\n",
    "An example for this could be the creation of a new tab with its own button and text on the inside.\n",
    "\n",
    "\n",
    "For these callbacks dash provides three patterns `MATCH` `ALL` and `AllSMALLER`.\n",
    "Here I will only go over `MATCH`, for more information see https://dash.plotly.com/pattern-matching-callbacks"
   ]
  },
  {
   "cell_type": "code",
   "execution_count": 12,
   "metadata": {
    "slideshow": {
     "slide_type": "subslide"
    }
   },
   "outputs": [],
   "source": [
    "from dash.dependencies import MATCH\n",
    "\n",
    "app5 = jupyter_dash.JupyterDash(\"app5\", external_stylesheets=external_stylesheets)\n",
    "\n",
    "app5.layout = html.Div(\n",
    "    [\n",
    "        html.Button(\"Add Tab\", id=\"button_add_tab\"),\n",
    "        dcc.Tabs(id=\"tabs\", children=[]),\n",
    "    ]\n",
    ")\n",
    "\n",
    "\n",
    "\n"
   ]
  },
  {
   "cell_type": "code",
   "execution_count": 13,
   "metadata": {
    "slideshow": {
     "slide_type": "subslide"
    }
   },
   "outputs": [],
   "source": [
    "@app5.callback(\n",
    "    Output(\"tabs\", \"children\"),\n",
    "    Input(\"button_add_tab\", \"n_clicks\"),\n",
    "    State(\"tabs\", \"children\"),\n",
    "    prevent_initial_call=True,\n",
    ")\n",
    "def add_tab(n_clicks, tabs_children):  \n",
    "    new_tab = dcc.Tab(\n",
    "        label=f\"Tab {n_clicks}\",\n",
    "        children=[\n",
    "            html.Div(\n",
    "                [\n",
    "                    html.Button(\n",
    "                        f\"Button {n_clicks}\",\n",
    "                        id={\"type\": \"button_tab\", \"index\": n_clicks},\n",
    "                    ),\n",
    "                    html.Div(\n",
    "                        f\"Button {n_clicks} clicked 0 times. \",\n",
    "                        id={\"type\": \"div_tab\", \"index\": n_clicks},\n",
    "                    ),\n",
    "                ]\n",
    "            )\n",
    "        ],\n",
    "    )\n",
    "    tabs_children.append(new_tab)\n",
    "    return tabs_children\n",
    "\n"
   ]
  },
  {
   "cell_type": "code",
   "execution_count": 14,
   "metadata": {},
   "outputs": [],
   "source": [
    "\n",
    "@app5.callback(\n",
    "    Output({\"type\": \"div_tab\", \"index\": MATCH}, \"children\"),\n",
    "    Input({\"type\": \"button_tab\", \"index\": MATCH}, \"n_clicks\"),\n",
    "    State({\"type\": \"button_tab\", \"index\": MATCH}, \"id\"),\n",
    "    prevent_initial_call=True,\n",
    ")\n",
    "def tabs_button_click(n_clicks, button_id):\n",
    "    return f\"Button {button_id['index']} clicked {n_clicks} times. \"\n",
    "\n"
   ]
  },
  {
   "cell_type": "code",
   "execution_count": 15,
   "metadata": {
    "slideshow": {
     "slide_type": "subslide"
    }
   },
   "outputs": [
    {
     "name": "stdout",
     "output_type": "stream",
     "text": [
      "Dash is running on http://127.0.0.1:8078/\n",
      "\n"
     ]
    },
    {
     "data": {
      "text/html": [
       "\n",
       "        <iframe\n",
       "            width=\"100%\"\n",
       "            height=\"650\"\n",
       "            src=\"http://127.0.0.1:8078/\"\n",
       "            frameborder=\"0\"\n",
       "            allowfullscreen\n",
       "            \n",
       "        ></iframe>\n",
       "        "
      ],
      "text/plain": [
       "<IPython.lib.display.IFrame at 0x7f353d8b6ec0>"
      ]
     },
     "metadata": {},
     "output_type": "display_data"
    }
   ],
   "source": [
    "app5.run_server(debug=True, port=8078, mode=\"inline\")"
   ]
  },
  {
   "cell_type": "markdown",
   "metadata": {
    "slideshow": {
     "slide_type": "slide"
    }
   },
   "source": [
    "# Using dash inside a class\n",
    "\n",
    "Unfortunately the decorator style of dashs callbacks we have used so far is very much incompatible with encapsulating the dash app inside a class. \n",
    "Normally the app itself is to be used in the whole module. <br>\n",
    "`@self.app.callback()` or smililar things don't work.\n",
    "However we can simply refer any function as a calback as seen here:\n",
    "\n",
    "##### A piece of warning though: \n",
    "The [dash website](https://dash.plotly.com/sharing-data-between-callbacks) advices against using a callback to access out of scope data or variables. As far as I can tell this is only relevant when deploying the dash server in a way that multiple user access the same instance and it should not be a problem for local or cloud hosted python environments.\n",
    "\n",
    "\n",
    "\n",
    "\n"
   ]
  },
  {
   "cell_type": "code",
   "execution_count": 16,
   "metadata": {
    "slideshow": {
     "slide_type": "subslide"
    }
   },
   "outputs": [],
   "source": [
    "class App6:\n",
    "    def __init__(self):\n",
    "        external_stylesheets = [\"https://codepen.io/chriddyp/pen/bWLwgP.css\"]\n",
    "        self.app6 = jupyter_dash.JupyterDash(\n",
    "            \"app6\", external_stylesheets=external_stylesheets\n",
    "        )\n",
    "        my_style = { \"width\": \"30%\",\n",
    "                        \"margin-top\": \"20px\",\n",
    "                        \"margin-bottom\": \"20px\",}\n",
    "        self.app6.layout = html.Div(\n",
    "            [\n",
    "                \"This is some basic layout:\",\n",
    "                dcc.Dropdown(\n",
    "                    options=[\"x^2\", \"2x\", \"e^x\"],\n",
    "                    # options = {\"x^2\":\"quadratic\", \"2x\":\"linear\", \"e^x\":\"exponential\"}, \n",
    "\n",
    "                    placeholder=\"Select a function\",\n",
    "                    value = \"x^2\",\n",
    "\n",
    "                    style=my_style,\n",
    "                    id=\"dropdown\",\n",
    "                ),\n",
    "                html.Div(\n",
    "                    dcc.RangeSlider(0, 20, 1, value=[5, 15], id=\"slider\"),\n",
    "                    style={\"width\": \"50%\"},\n",
    "                ),\n",
    "                html.Button(\n",
    "                    \"Click_me\",\n",
    "                    style=my_style,\n",
    "                    id=\"button\",\n",
    "                ),\n",
    "                dcc.Graph(id=\"graph\"),\n",
    "            ]\n",
    "        )\n",
    "        self.app6.callback(\n",
    "            Output(\"graph\", \"figure\"),\n",
    "            Input(\"button\", \"n_clicks\"),\n",
    "            State(\"dropdown\", \"value\"),\n",
    "            State(\"slider\", \"value\"),\n",
    "        )(self.update_graph)\n",
    "\n",
    "    def update_graph(self, n_clicks, dropdown_value, slider_value):\n",
    "        def _plot_function(x, function_name):\n",
    "            if function_name == \"x^2\":\n",
    "                return x**2\n",
    "            elif function_name == \"2x\":\n",
    "                return 2 * x\n",
    "            elif function_name == \"e^x\":\n",
    "                return np.exp(x)\n",
    "            elif function_name == None:\n",
    "                return None\n",
    "            else:\n",
    "                raise ValueError(f\"Unknown function_name: {function_name}, type: {type(function_name)}\")\n",
    "\n",
    "        x_range = np.linspace(slider_value[0], slider_value[1], 100)\n",
    "        y = _plot_function(x_range, dropdown_value)\n",
    "        if y is not None:\n",
    "            figure = px.line(x=x_range, y=y, title=dropdown_value)\n",
    "        else:\n",
    "            figure = px.line()\n",
    "\n",
    "        return figure\n",
    "\n",
    "    def run(self, port=8081):\n",
    "        self.app6.run_server(debug=True, port=port, mode=\"inline\")"
   ]
  },
  {
   "cell_type": "code",
   "execution_count": 17,
   "metadata": {
    "slideshow": {
     "slide_type": "subslide"
    }
   },
   "outputs": [
    {
     "name": "stdout",
     "output_type": "stream",
     "text": [
      "Dash is running on http://127.0.0.1:8088/\n",
      "\n"
     ]
    },
    {
     "data": {
      "text/html": [
       "\n",
       "        <iframe\n",
       "            width=\"100%\"\n",
       "            height=\"650\"\n",
       "            src=\"http://127.0.0.1:8088/\"\n",
       "            frameborder=\"0\"\n",
       "            allowfullscreen\n",
       "            \n",
       "        ></iframe>\n",
       "        "
      ],
      "text/plain": [
       "<IPython.lib.display.IFrame at 0x7f353d8f8730>"
      ]
     },
     "metadata": {},
     "output_type": "display_data"
    }
   ],
   "source": [
    "app_6 = App6()\n",
    "app_6.run(port=8088)"
   ]
  },
  {
   "cell_type": "markdown",
   "metadata": {
    "slideshow": {
     "slide_type": "slide"
    }
   },
   "source": [
    "# Additional Dash Components\n",
    "\n",
    "- [Download button](https://dash.plotly.com/dash-core-components/download)\n",
    "- [Upload button](https://dash.plotly.com/dash-core-components/upload)\n",
    "- [Data Tables from pandas](https://dash.plotly.com/datatable)\n",
    "- [Bio and molecule viewer](https://dash.plotly.com/dash-bio)\n",
    "- [Many more]( https://dash.plotly.com/)"
   ]
  },
  {
   "cell_type": "markdown",
   "metadata": {
    "slideshow": {
     "slide_type": "slide"
    }
   },
   "source": [
    "# Extendet dash functionality \n",
    "\n",
    "\n",
    "- [Dash Extensions - Enrich](https://www.dash-extensions.com/getting_started/enrich)\n",
    "- [Dash json viwer](https://github.com/ghandic/dash_renderjson)"
   ]
  },
  {
   "cell_type": "markdown",
   "metadata": {
    "slideshow": {
     "slide_type": "subslide"
    }
   },
   "source": [
    "## Dash extensions DashBlueprint\n",
    "\n",
    "Blueprints can be used to create and plan dash layouts and callbacks. Because these blueprints do not call the DashApp directly they can be created in differend scopes, files or libraries and later imported when needed. \n",
    "This can help keep the actual code much cleaner."
   ]
  },
  {
   "cell_type": "code",
   "execution_count": 18,
   "metadata": {
    "slideshow": {
     "slide_type": "subslide"
    }
   },
   "outputs": [],
   "source": [
    "from dash_extensions.enrich import DashBlueprint, DashProxy#, html, Output, Input\n",
    "bp = DashBlueprint()\n",
    "\n",
    "\n",
    "bp.layout = html.Div(\n",
    "    [\n",
    "        \"This is some basic layout:\",\n",
    "        dcc.Dropdown(\n",
    "            [\"x^2\", \"2x\", \"e^x\"],\n",
    "            \"x^2\",\n",
    "            style=my_style,\n",
    "            id=\"dropdown\",\n",
    "        ),\n",
    "        html.Div(\n",
    "            dcc.RangeSlider(\n",
    "                0,\n",
    "                20,\n",
    "                1,\n",
    "                value=[5, 15],\n",
    "                id=\"slider\",\n",
    "            ),\n",
    "            style={\"width\": \"50%\"},\n",
    "        ),\n",
    "        html.Button(\n",
    "            \"Click_me\",\n",
    "            style=my_style,\n",
    "            id=\"button\",\n",
    "        ),\n",
    "        dcc.Graph(id=\"graph\"),\n",
    "    ]\n",
    ")\n"
   ]
  },
  {
   "cell_type": "code",
   "execution_count": 21,
   "metadata": {
    "slideshow": {
     "slide_type": "subslide"
    }
   },
   "outputs": [],
   "source": [
    "@bp.callback(\n",
    "    Output(\"graph\", \"figure\"),\n",
    "    Input(\"button\", \"n_clicks\"),\n",
    "    State(\"dropdown\", \"value\"),\n",
    "    State(\"slider\", \"value\"),\n",
    ")\n",
    "def update_graph2(n_clicks, dropdown_value, slider_value):\n",
    "    def _plot_function(x, function_name):\n",
    "        if function_name == \"x^2\":\n",
    "            return x**2\n",
    "        elif function_name == \"2x\":\n",
    "            return 2 * x\n",
    "        elif function_name == \"e^x\":\n",
    "            return np.exp(x)\n",
    "        else:\n",
    "            raise ValueError(f\"Unknown function_name: {function_name}\")\n",
    "\n",
    "    x_range = np.linspace(slider_value[0], slider_value[1], 100)\n",
    "    y = _plot_function(x_range, dropdown_value)\n",
    "    figure = px.line(x=x_range, y=y, title=dropdown_value)\n",
    "\n",
    "    return figure\n"
   ]
  },
  {
   "cell_type": "code",
   "execution_count": 22,
   "metadata": {
    "slideshow": {
     "slide_type": "subslide"
    }
   },
   "outputs": [
    {
     "name": "stdout",
     "output_type": "stream",
     "text": [
      "\u001b[1;31m---------------------------------------------------------------------------\u001b[0m\n",
      "\u001b[1;31mValueError\u001b[0m                                Traceback (most recent call last)\n",
      "Input \u001b[1;32mIn [9]\u001b[0m, in \u001b[0;36mupdate_graph.<locals>._plot_function\u001b[1;34m(\n",
      "    x=array([ 5.        ,  5.1010101 ,  5.2020202 ,  5...6969697 , 14.7979798 , 14.8989899 , 15.        ]),\n",
      "    function_name=None\n",
      ")\u001b[0m\n",
      "\u001b[0;32m     14\u001b[0m     \u001b[38;5;28;01mreturn\u001b[39;00m np\u001b[38;5;241m.\u001b[39mexp(x)\n",
      "\u001b[0;32m     15\u001b[0m \u001b[38;5;28;01melse\u001b[39;00m:\n",
      "\u001b[1;32m---> 16\u001b[0m     \u001b[38;5;28;01mraise\u001b[39;00m \u001b[38;5;167;01mValueError\u001b[39;00m(\u001b[38;5;124mf\u001b[39m\u001b[38;5;124m\"\u001b[39m\u001b[38;5;124mUnknown function_name: \u001b[39m\u001b[38;5;132;01m{\u001b[39;00mfunction_name\u001b[38;5;132;01m}\u001b[39;00m\u001b[38;5;124m\"\u001b[39m)\n",
      "\n",
      "\u001b[1;31mValueError\u001b[0m: Unknown function_name: None\n",
      "\n",
      "\u001b[1;31m---------------------------------------------------------------------------\u001b[0m\n",
      "\u001b[1;31mValueError\u001b[0m                                Traceback (most recent call last)\n",
      "Input \u001b[1;32mIn [9]\u001b[0m, in \u001b[0;36mupdate_graph.<locals>._plot_function\u001b[1;34m(\n",
      "    x=array([ 5.        ,  5.1010101 ,  5.2020202 ,  5...6969697 , 14.7979798 , 14.8989899 , 15.        ]),\n",
      "    function_name=None\n",
      ")\u001b[0m\n",
      "\u001b[0;32m     14\u001b[0m     \u001b[38;5;28;01mreturn\u001b[39;00m np\u001b[38;5;241m.\u001b[39mexp(x)\n",
      "\u001b[0;32m     15\u001b[0m \u001b[38;5;28;01melse\u001b[39;00m:\n",
      "\u001b[1;32m---> 16\u001b[0m     \u001b[38;5;28;01mraise\u001b[39;00m \u001b[38;5;167;01mValueError\u001b[39;00m(\u001b[38;5;124mf\u001b[39m\u001b[38;5;124m\"\u001b[39m\u001b[38;5;124mUnknown function_name: \u001b[39m\u001b[38;5;132;01m{\u001b[39;00mfunction_name\u001b[38;5;132;01m}\u001b[39;00m\u001b[38;5;124m\"\u001b[39m)\n",
      "\n",
      "\u001b[1;31mValueError\u001b[0m: Unknown function_name: None\n",
      "\n",
      "\u001b[1;31m---------------------------------------------------------------------------\u001b[0m\n",
      "\u001b[1;31mValueError\u001b[0m                                Traceback (most recent call last)\n",
      "Input \u001b[1;32mIn [9]\u001b[0m, in \u001b[0;36mupdate_graph.<locals>._plot_function\u001b[1;34m(\n",
      "    x=array([ 5.        ,  5.1010101 ,  5.2020202 ,  5...6969697 , 14.7979798 , 14.8989899 , 15.        ]),\n",
      "    function_name=None\n",
      ")\u001b[0m\n",
      "\u001b[0;32m     14\u001b[0m     \u001b[38;5;28;01mreturn\u001b[39;00m np\u001b[38;5;241m.\u001b[39mexp(x)\n",
      "\u001b[0;32m     15\u001b[0m \u001b[38;5;28;01melse\u001b[39;00m:\n",
      "\u001b[1;32m---> 16\u001b[0m     \u001b[38;5;28;01mraise\u001b[39;00m \u001b[38;5;167;01mValueError\u001b[39;00m(\u001b[38;5;124mf\u001b[39m\u001b[38;5;124m\"\u001b[39m\u001b[38;5;124mUnknown function_name: \u001b[39m\u001b[38;5;132;01m{\u001b[39;00mfunction_name\u001b[38;5;132;01m}\u001b[39;00m\u001b[38;5;124m\"\u001b[39m)\n",
      "\n",
      "\u001b[1;31mValueError\u001b[0m: Unknown function_name: None\n",
      "\n",
      "\u001b[1;31m---------------------------------------------------------------------------\u001b[0m\n",
      "\u001b[1;31mValueError\u001b[0m                                Traceback (most recent call last)\n",
      "Input \u001b[1;32mIn [9]\u001b[0m, in \u001b[0;36mupdate_graph.<locals>._plot_function\u001b[1;34m(\n",
      "    x=array([ 5.        ,  5.1010101 ,  5.2020202 ,  5...6969697 , 14.7979798 , 14.8989899 , 15.        ]),\n",
      "    function_name=None\n",
      ")\u001b[0m\n",
      "\u001b[0;32m     14\u001b[0m     \u001b[38;5;28;01mreturn\u001b[39;00m np\u001b[38;5;241m.\u001b[39mexp(x)\n",
      "\u001b[0;32m     15\u001b[0m \u001b[38;5;28;01melse\u001b[39;00m:\n",
      "\u001b[1;32m---> 16\u001b[0m     \u001b[38;5;28;01mraise\u001b[39;00m \u001b[38;5;167;01mValueError\u001b[39;00m(\u001b[38;5;124mf\u001b[39m\u001b[38;5;124m\"\u001b[39m\u001b[38;5;124mUnknown function_name: \u001b[39m\u001b[38;5;132;01m{\u001b[39;00mfunction_name\u001b[38;5;132;01m}\u001b[39;00m\u001b[38;5;124m\"\u001b[39m)\n",
      "\n",
      "\u001b[1;31mValueError\u001b[0m: Unknown function_name: None\n",
      "\n",
      "\u001b[1;31m---------------------------------------------------------------------------\u001b[0m\n",
      "\u001b[1;31mValueError\u001b[0m                                Traceback (most recent call last)\n",
      "Input \u001b[1;32mIn [9]\u001b[0m, in \u001b[0;36mupdate_graph.<locals>._plot_function\u001b[1;34m(\n",
      "    x=array([ 5.        ,  5.1010101 ,  5.2020202 ,  5...6969697 , 14.7979798 , 14.8989899 , 15.        ]),\n",
      "    function_name=None\n",
      ")\u001b[0m\n",
      "\u001b[0;32m     14\u001b[0m     \u001b[38;5;28;01mreturn\u001b[39;00m np\u001b[38;5;241m.\u001b[39mexp(x)\n",
      "\u001b[0;32m     15\u001b[0m \u001b[38;5;28;01melse\u001b[39;00m:\n",
      "\u001b[1;32m---> 16\u001b[0m     \u001b[38;5;28;01mraise\u001b[39;00m \u001b[38;5;167;01mValueError\u001b[39;00m(\u001b[38;5;124mf\u001b[39m\u001b[38;5;124m\"\u001b[39m\u001b[38;5;124mUnknown function_name: \u001b[39m\u001b[38;5;132;01m{\u001b[39;00mfunction_name\u001b[38;5;132;01m}\u001b[39;00m\u001b[38;5;124m\"\u001b[39m)\n",
      "\n",
      "\u001b[1;31mValueError\u001b[0m: Unknown function_name: None\n",
      "\n",
      "\u001b[1;31m---------------------------------------------------------------------------\u001b[0m\n",
      "\u001b[1;31mValueError\u001b[0m                                Traceback (most recent call last)\n",
      "Input \u001b[1;32mIn [9]\u001b[0m, in \u001b[0;36mupdate_graph.<locals>._plot_function\u001b[1;34m(\n",
      "    x=array([ 5.        ,  5.1010101 ,  5.2020202 ,  5...6969697 , 14.7979798 , 14.8989899 , 15.        ]),\n",
      "    function_name=None\n",
      ")\u001b[0m\n",
      "\u001b[0;32m     14\u001b[0m     \u001b[38;5;28;01mreturn\u001b[39;00m np\u001b[38;5;241m.\u001b[39mexp(x)\n",
      "\u001b[0;32m     15\u001b[0m \u001b[38;5;28;01melse\u001b[39;00m:\n",
      "\u001b[1;32m---> 16\u001b[0m     \u001b[38;5;28;01mraise\u001b[39;00m \u001b[38;5;167;01mValueError\u001b[39;00m(\u001b[38;5;124mf\u001b[39m\u001b[38;5;124m\"\u001b[39m\u001b[38;5;124mUnknown function_name: \u001b[39m\u001b[38;5;132;01m{\u001b[39;00mfunction_name\u001b[38;5;132;01m}\u001b[39;00m\u001b[38;5;124m\"\u001b[39m)\n",
      "\n",
      "\u001b[1;31mValueError\u001b[0m: Unknown function_name: None\n",
      "\n",
      "\u001b[1;31m---------------------------------------------------------------------------\u001b[0m\n",
      "\u001b[1;31mValueError\u001b[0m                                Traceback (most recent call last)\n",
      "Input \u001b[1;32mIn [9]\u001b[0m, in \u001b[0;36mupdate_graph.<locals>._plot_function\u001b[1;34m(\n",
      "    x=array([ 5.        ,  5.1010101 ,  5.2020202 ,  5...6969697 , 14.7979798 , 14.8989899 , 15.        ]),\n",
      "    function_name=None\n",
      ")\u001b[0m\n",
      "\u001b[0;32m     14\u001b[0m     \u001b[38;5;28;01mreturn\u001b[39;00m np\u001b[38;5;241m.\u001b[39mexp(x)\n",
      "\u001b[0;32m     15\u001b[0m \u001b[38;5;28;01melse\u001b[39;00m:\n",
      "\u001b[1;32m---> 16\u001b[0m     \u001b[38;5;28;01mraise\u001b[39;00m \u001b[38;5;167;01mValueError\u001b[39;00m(\u001b[38;5;124mf\u001b[39m\u001b[38;5;124m\"\u001b[39m\u001b[38;5;124mUnknown function_name: \u001b[39m\u001b[38;5;132;01m{\u001b[39;00mfunction_name\u001b[38;5;132;01m}\u001b[39;00m\u001b[38;5;124m\"\u001b[39m)\n",
      "\n",
      "\u001b[1;31mValueError\u001b[0m: Unknown function_name: None\n",
      "\n",
      "\u001b[1;31m---------------------------------------------------------------------------\u001b[0m\n",
      "\u001b[1;31mValueError\u001b[0m                                Traceback (most recent call last)\n",
      "Input \u001b[1;32mIn [9]\u001b[0m, in \u001b[0;36mupdate_graph.<locals>._plot_function\u001b[1;34m(\n",
      "    x=array([ 5.        ,  5.1010101 ,  5.2020202 ,  5...6969697 , 14.7979798 , 14.8989899 , 15.        ]),\n",
      "    function_name=None\n",
      ")\u001b[0m\n",
      "\u001b[0;32m     14\u001b[0m     \u001b[38;5;28;01mreturn\u001b[39;00m np\u001b[38;5;241m.\u001b[39mexp(x)\n",
      "\u001b[0;32m     15\u001b[0m \u001b[38;5;28;01melse\u001b[39;00m:\n",
      "\u001b[1;32m---> 16\u001b[0m     \u001b[38;5;28;01mraise\u001b[39;00m \u001b[38;5;167;01mValueError\u001b[39;00m(\u001b[38;5;124mf\u001b[39m\u001b[38;5;124m\"\u001b[39m\u001b[38;5;124mUnknown function_name: \u001b[39m\u001b[38;5;132;01m{\u001b[39;00mfunction_name\u001b[38;5;132;01m}\u001b[39;00m\u001b[38;5;124m\"\u001b[39m)\n",
      "\n",
      "\u001b[1;31mValueError\u001b[0m: Unknown function_name: None\n",
      "\n",
      "\u001b[1;31m---------------------------------------------------------------------------\u001b[0m\n",
      "\u001b[1;31mValueError\u001b[0m                                Traceback (most recent call last)\n",
      "Input \u001b[1;32mIn [9]\u001b[0m, in \u001b[0;36mupdate_graph.<locals>._plot_function\u001b[1;34m(\n",
      "    x=array([ 5.        ,  5.1010101 ,  5.2020202 ,  5...6969697 , 14.7979798 , 14.8989899 , 15.        ]),\n",
      "    function_name=None\n",
      ")\u001b[0m\n",
      "\u001b[0;32m     14\u001b[0m     \u001b[38;5;28;01mreturn\u001b[39;00m np\u001b[38;5;241m.\u001b[39mexp(x)\n",
      "\u001b[0;32m     15\u001b[0m \u001b[38;5;28;01melse\u001b[39;00m:\n",
      "\u001b[1;32m---> 16\u001b[0m     \u001b[38;5;28;01mraise\u001b[39;00m \u001b[38;5;167;01mValueError\u001b[39;00m(\u001b[38;5;124mf\u001b[39m\u001b[38;5;124m\"\u001b[39m\u001b[38;5;124mUnknown function_name: \u001b[39m\u001b[38;5;132;01m{\u001b[39;00mfunction_name\u001b[38;5;132;01m}\u001b[39;00m\u001b[38;5;124m\"\u001b[39m)\n",
      "\n",
      "\u001b[1;31mValueError\u001b[0m: Unknown function_name: None\n",
      "\n",
      "\u001b[1;31m---------------------------------------------------------------------------\u001b[0m\n",
      "\u001b[1;31mValueError\u001b[0m                                Traceback (most recent call last)\n",
      "Input \u001b[1;32mIn [9]\u001b[0m, in \u001b[0;36mupdate_graph.<locals>._plot_function\u001b[1;34m(\n",
      "    x=array([ 5.        ,  5.1010101 ,  5.2020202 ,  5...6969697 , 14.7979798 , 14.8989899 , 15.        ]),\n",
      "    function_name=None\n",
      ")\u001b[0m\n",
      "\u001b[0;32m     14\u001b[0m     \u001b[38;5;28;01mreturn\u001b[39;00m np\u001b[38;5;241m.\u001b[39mexp(x)\n",
      "\u001b[0;32m     15\u001b[0m \u001b[38;5;28;01melse\u001b[39;00m:\n",
      "\u001b[1;32m---> 16\u001b[0m     \u001b[38;5;28;01mraise\u001b[39;00m \u001b[38;5;167;01mValueError\u001b[39;00m(\u001b[38;5;124mf\u001b[39m\u001b[38;5;124m\"\u001b[39m\u001b[38;5;124mUnknown function_name: \u001b[39m\u001b[38;5;132;01m{\u001b[39;00mfunction_name\u001b[38;5;132;01m}\u001b[39;00m\u001b[38;5;124m\"\u001b[39m)\n",
      "\n",
      "\u001b[1;31mValueError\u001b[0m: Unknown function_name: None\n",
      "\n",
      "\u001b[1;31m---------------------------------------------------------------------------\u001b[0m\n",
      "\u001b[1;31mValueError\u001b[0m                                Traceback (most recent call last)\n",
      "Input \u001b[1;32mIn [9]\u001b[0m, in \u001b[0;36mupdate_graph.<locals>._plot_function\u001b[1;34m(\n",
      "    x=array([ 5.        ,  5.1010101 ,  5.2020202 ,  5...6969697 , 14.7979798 , 14.8989899 , 15.        ]),\n",
      "    function_name=None\n",
      ")\u001b[0m\n",
      "\u001b[0;32m     14\u001b[0m     \u001b[38;5;28;01mreturn\u001b[39;00m np\u001b[38;5;241m.\u001b[39mexp(x)\n",
      "\u001b[0;32m     15\u001b[0m \u001b[38;5;28;01melse\u001b[39;00m:\n",
      "\u001b[1;32m---> 16\u001b[0m     \u001b[38;5;28;01mraise\u001b[39;00m \u001b[38;5;167;01mValueError\u001b[39;00m(\u001b[38;5;124mf\u001b[39m\u001b[38;5;124m\"\u001b[39m\u001b[38;5;124mUnknown function_name: \u001b[39m\u001b[38;5;132;01m{\u001b[39;00mfunction_name\u001b[38;5;132;01m}\u001b[39;00m\u001b[38;5;124m\"\u001b[39m)\n",
      "\n",
      "\u001b[1;31mValueError\u001b[0m: Unknown function_name: None\n",
      "\n"
     ]
    },
    {
     "name": "stdout",
     "output_type": "stream",
     "text": [
      "\u001b[1;31m---------------------------------------------------------------------------\u001b[0m\n",
      "\u001b[1;31mValueError\u001b[0m                                Traceback (most recent call last)\n",
      "Input \u001b[1;32mIn [9]\u001b[0m, in \u001b[0;36mupdate_graph.<locals>._plot_function\u001b[1;34m(\n",
      "    x=array([ 5.        ,  5.1010101 ,  5.2020202 ,  5...6969697 , 14.7979798 , 14.8989899 , 15.        ]),\n",
      "    function_name=None\n",
      ")\u001b[0m\n",
      "\u001b[0;32m     14\u001b[0m     \u001b[38;5;28;01mreturn\u001b[39;00m np\u001b[38;5;241m.\u001b[39mexp(x)\n",
      "\u001b[0;32m     15\u001b[0m \u001b[38;5;28;01melse\u001b[39;00m:\n",
      "\u001b[1;32m---> 16\u001b[0m     \u001b[38;5;28;01mraise\u001b[39;00m \u001b[38;5;167;01mValueError\u001b[39;00m(\u001b[38;5;124mf\u001b[39m\u001b[38;5;124m\"\u001b[39m\u001b[38;5;124mUnknown function_name: \u001b[39m\u001b[38;5;132;01m{\u001b[39;00mfunction_name\u001b[38;5;132;01m}\u001b[39;00m\u001b[38;5;124m\"\u001b[39m)\n",
      "\n",
      "\u001b[1;31mValueError\u001b[0m: Unknown function_name: None\n",
      "\n",
      "\u001b[1;31m---------------------------------------------------------------------------\u001b[0m\n",
      "\u001b[1;31mValueError\u001b[0m                                Traceback (most recent call last)\n",
      "Input \u001b[1;32mIn [9]\u001b[0m, in \u001b[0;36mupdate_graph.<locals>._plot_function\u001b[1;34m(\n",
      "    x=array([ 5.        ,  5.1010101 ,  5.2020202 ,  5...6969697 , 14.7979798 , 14.8989899 , 15.        ]),\n",
      "    function_name=None\n",
      ")\u001b[0m\n",
      "\u001b[0;32m     14\u001b[0m     \u001b[38;5;28;01mreturn\u001b[39;00m np\u001b[38;5;241m.\u001b[39mexp(x)\n",
      "\u001b[0;32m     15\u001b[0m \u001b[38;5;28;01melse\u001b[39;00m:\n",
      "\u001b[1;32m---> 16\u001b[0m     \u001b[38;5;28;01mraise\u001b[39;00m \u001b[38;5;167;01mValueError\u001b[39;00m(\u001b[38;5;124mf\u001b[39m\u001b[38;5;124m\"\u001b[39m\u001b[38;5;124mUnknown function_name: \u001b[39m\u001b[38;5;132;01m{\u001b[39;00mfunction_name\u001b[38;5;132;01m}\u001b[39;00m\u001b[38;5;124m\"\u001b[39m)\n",
      "\n",
      "\u001b[1;31mValueError\u001b[0m: Unknown function_name: None\n",
      "\n",
      "\u001b[1;31m---------------------------------------------------------------------------\u001b[0m\n",
      "\u001b[1;31mValueError\u001b[0m                                Traceback (most recent call last)\n",
      "Input \u001b[1;32mIn [9]\u001b[0m, in \u001b[0;36mupdate_graph.<locals>._plot_function\u001b[1;34m(\n",
      "    x=array([ 5.        ,  5.1010101 ,  5.2020202 ,  5...6969697 , 14.7979798 , 14.8989899 , 15.        ]),\n",
      "    function_name=None\n",
      ")\u001b[0m\n",
      "\u001b[0;32m     14\u001b[0m     \u001b[38;5;28;01mreturn\u001b[39;00m np\u001b[38;5;241m.\u001b[39mexp(x)\n",
      "\u001b[0;32m     15\u001b[0m \u001b[38;5;28;01melse\u001b[39;00m:\n",
      "\u001b[1;32m---> 16\u001b[0m     \u001b[38;5;28;01mraise\u001b[39;00m \u001b[38;5;167;01mValueError\u001b[39;00m(\u001b[38;5;124mf\u001b[39m\u001b[38;5;124m\"\u001b[39m\u001b[38;5;124mUnknown function_name: \u001b[39m\u001b[38;5;132;01m{\u001b[39;00mfunction_name\u001b[38;5;132;01m}\u001b[39;00m\u001b[38;5;124m\"\u001b[39m)\n",
      "\n",
      "\u001b[1;31mValueError\u001b[0m: Unknown function_name: None\n",
      "\n",
      "\u001b[1;31m---------------------------------------------------------------------------\u001b[0m\n",
      "\u001b[1;31mValueError\u001b[0m                                Traceback (most recent call last)\n",
      "Input \u001b[1;32mIn [9]\u001b[0m, in \u001b[0;36mupdate_graph.<locals>._plot_function\u001b[1;34m(\n",
      "    x=array([ 5.        ,  5.1010101 ,  5.2020202 ,  5...6969697 , 14.7979798 , 14.8989899 , 15.        ]),\n",
      "    function_name=None\n",
      ")\u001b[0m\n",
      "\u001b[0;32m     14\u001b[0m     \u001b[38;5;28;01mreturn\u001b[39;00m np\u001b[38;5;241m.\u001b[39mexp(x)\n",
      "\u001b[0;32m     15\u001b[0m \u001b[38;5;28;01melse\u001b[39;00m:\n",
      "\u001b[1;32m---> 16\u001b[0m     \u001b[38;5;28;01mraise\u001b[39;00m \u001b[38;5;167;01mValueError\u001b[39;00m(\u001b[38;5;124mf\u001b[39m\u001b[38;5;124m\"\u001b[39m\u001b[38;5;124mUnknown function_name: \u001b[39m\u001b[38;5;132;01m{\u001b[39;00mfunction_name\u001b[38;5;132;01m}\u001b[39;00m\u001b[38;5;124m\"\u001b[39m)\n",
      "\n",
      "\u001b[1;31mValueError\u001b[0m: Unknown function_name: None\n",
      "\n",
      "\u001b[1;31m---------------------------------------------------------------------------\u001b[0m\n",
      "\u001b[1;31mValueError\u001b[0m                                Traceback (most recent call last)\n",
      "Input \u001b[1;32mIn [9]\u001b[0m, in \u001b[0;36mupdate_graph.<locals>._plot_function\u001b[1;34m(\n",
      "    x=array([ 5.        ,  5.1010101 ,  5.2020202 ,  5...6969697 , 14.7979798 , 14.8989899 , 15.        ]),\n",
      "    function_name=None\n",
      ")\u001b[0m\n",
      "\u001b[0;32m     14\u001b[0m     \u001b[38;5;28;01mreturn\u001b[39;00m np\u001b[38;5;241m.\u001b[39mexp(x)\n",
      "\u001b[0;32m     15\u001b[0m \u001b[38;5;28;01melse\u001b[39;00m:\n",
      "\u001b[1;32m---> 16\u001b[0m     \u001b[38;5;28;01mraise\u001b[39;00m \u001b[38;5;167;01mValueError\u001b[39;00m(\u001b[38;5;124mf\u001b[39m\u001b[38;5;124m\"\u001b[39m\u001b[38;5;124mUnknown function_name: \u001b[39m\u001b[38;5;132;01m{\u001b[39;00mfunction_name\u001b[38;5;132;01m}\u001b[39;00m\u001b[38;5;124m\"\u001b[39m)\n",
      "\n",
      "\u001b[1;31mValueError\u001b[0m: Unknown function_name: None\n",
      "\n",
      "\u001b[1;31m---------------------------------------------------------------------------\u001b[0m\n",
      "\u001b[1;31mValueError\u001b[0m                                Traceback (most recent call last)\n",
      "Input \u001b[1;32mIn [9]\u001b[0m, in \u001b[0;36mupdate_graph.<locals>._plot_function\u001b[1;34m(\n",
      "    x=array([ 5.        ,  5.1010101 ,  5.2020202 ,  5...6969697 , 14.7979798 , 14.8989899 , 15.        ]),\n",
      "    function_name=None\n",
      ")\u001b[0m\n",
      "\u001b[0;32m     14\u001b[0m     \u001b[38;5;28;01mreturn\u001b[39;00m np\u001b[38;5;241m.\u001b[39mexp(x)\n",
      "\u001b[0;32m     15\u001b[0m \u001b[38;5;28;01melse\u001b[39;00m:\n",
      "\u001b[1;32m---> 16\u001b[0m     \u001b[38;5;28;01mraise\u001b[39;00m \u001b[38;5;167;01mValueError\u001b[39;00m(\u001b[38;5;124mf\u001b[39m\u001b[38;5;124m\"\u001b[39m\u001b[38;5;124mUnknown function_name: \u001b[39m\u001b[38;5;132;01m{\u001b[39;00mfunction_name\u001b[38;5;132;01m}\u001b[39;00m\u001b[38;5;124m\"\u001b[39m)\n",
      "\n",
      "\u001b[1;31mValueError\u001b[0m: Unknown function_name: None\n",
      "\n",
      "\u001b[1;31m---------------------------------------------------------------------------\u001b[0m\n",
      "\u001b[1;31mValueError\u001b[0m                                Traceback (most recent call last)\n",
      "Input \u001b[1;32mIn [9]\u001b[0m, in \u001b[0;36mupdate_graph.<locals>._plot_function\u001b[1;34m(\n",
      "    x=array([ 5.        ,  5.1010101 ,  5.2020202 ,  5...6969697 , 14.7979798 , 14.8989899 , 15.        ]),\n",
      "    function_name=None\n",
      ")\u001b[0m\n",
      "\u001b[0;32m     14\u001b[0m     \u001b[38;5;28;01mreturn\u001b[39;00m np\u001b[38;5;241m.\u001b[39mexp(x)\n",
      "\u001b[0;32m     15\u001b[0m \u001b[38;5;28;01melse\u001b[39;00m:\n",
      "\u001b[1;32m---> 16\u001b[0m     \u001b[38;5;28;01mraise\u001b[39;00m \u001b[38;5;167;01mValueError\u001b[39;00m(\u001b[38;5;124mf\u001b[39m\u001b[38;5;124m\"\u001b[39m\u001b[38;5;124mUnknown function_name: \u001b[39m\u001b[38;5;132;01m{\u001b[39;00mfunction_name\u001b[38;5;132;01m}\u001b[39;00m\u001b[38;5;124m\"\u001b[39m)\n",
      "\n",
      "\u001b[1;31mValueError\u001b[0m: Unknown function_name: None\n",
      "\n",
      "\u001b[1;31m---------------------------------------------------------------------------\u001b[0m\n",
      "\u001b[1;31mValueError\u001b[0m                                Traceback (most recent call last)\n",
      "Input \u001b[1;32mIn [9]\u001b[0m, in \u001b[0;36mupdate_graph.<locals>._plot_function\u001b[1;34m(\n",
      "    x=array([ 5.        ,  5.1010101 ,  5.2020202 ,  5...6969697 , 14.7979798 , 14.8989899 , 15.        ]),\n",
      "    function_name=None\n",
      ")\u001b[0m\n",
      "\u001b[0;32m     14\u001b[0m     \u001b[38;5;28;01mreturn\u001b[39;00m np\u001b[38;5;241m.\u001b[39mexp(x)\n",
      "\u001b[0;32m     15\u001b[0m \u001b[38;5;28;01melse\u001b[39;00m:\n",
      "\u001b[1;32m---> 16\u001b[0m     \u001b[38;5;28;01mraise\u001b[39;00m \u001b[38;5;167;01mValueError\u001b[39;00m(\u001b[38;5;124mf\u001b[39m\u001b[38;5;124m\"\u001b[39m\u001b[38;5;124mUnknown function_name: \u001b[39m\u001b[38;5;132;01m{\u001b[39;00mfunction_name\u001b[38;5;132;01m}\u001b[39;00m\u001b[38;5;124m\"\u001b[39m)\n",
      "\n",
      "\u001b[1;31mValueError\u001b[0m: Unknown function_name: None\n",
      "\n",
      "\u001b[1;31m---------------------------------------------------------------------------\u001b[0m\n",
      "\u001b[1;31mValueError\u001b[0m                                Traceback (most recent call last)\n",
      "Input \u001b[1;32mIn [9]\u001b[0m, in \u001b[0;36mupdate_graph.<locals>._plot_function\u001b[1;34m(\n",
      "    x=array([ 5.        ,  5.1010101 ,  5.2020202 ,  5...6969697 , 14.7979798 , 14.8989899 , 15.        ]),\n",
      "    function_name=None\n",
      ")\u001b[0m\n",
      "\u001b[0;32m     14\u001b[0m     \u001b[38;5;28;01mreturn\u001b[39;00m np\u001b[38;5;241m.\u001b[39mexp(x)\n",
      "\u001b[0;32m     15\u001b[0m \u001b[38;5;28;01melse\u001b[39;00m:\n",
      "\u001b[1;32m---> 16\u001b[0m     \u001b[38;5;28;01mraise\u001b[39;00m \u001b[38;5;167;01mValueError\u001b[39;00m(\u001b[38;5;124mf\u001b[39m\u001b[38;5;124m\"\u001b[39m\u001b[38;5;124mUnknown function_name: \u001b[39m\u001b[38;5;132;01m{\u001b[39;00mfunction_name\u001b[38;5;132;01m}\u001b[39;00m\u001b[38;5;124m\"\u001b[39m)\n",
      "\n",
      "\u001b[1;31mValueError\u001b[0m: Unknown function_name: None\n",
      "\n",
      "\u001b[1;31m---------------------------------------------------------------------------\u001b[0m\n",
      "\u001b[1;31mValueError\u001b[0m                                Traceback (most recent call last)\n",
      "Input \u001b[1;32mIn [9]\u001b[0m, in \u001b[0;36mupdate_graph.<locals>._plot_function\u001b[1;34m(\n",
      "    x=array([ 5.        ,  5.1010101 ,  5.2020202 ,  5...6969697 , 14.7979798 , 14.8989899 , 15.        ]),\n",
      "    function_name=None\n",
      ")\u001b[0m\n",
      "\u001b[0;32m     14\u001b[0m     \u001b[38;5;28;01mreturn\u001b[39;00m np\u001b[38;5;241m.\u001b[39mexp(x)\n",
      "\u001b[0;32m     15\u001b[0m \u001b[38;5;28;01melse\u001b[39;00m:\n",
      "\u001b[1;32m---> 16\u001b[0m     \u001b[38;5;28;01mraise\u001b[39;00m \u001b[38;5;167;01mValueError\u001b[39;00m(\u001b[38;5;124mf\u001b[39m\u001b[38;5;124m\"\u001b[39m\u001b[38;5;124mUnknown function_name: \u001b[39m\u001b[38;5;132;01m{\u001b[39;00mfunction_name\u001b[38;5;132;01m}\u001b[39;00m\u001b[38;5;124m\"\u001b[39m)\n",
      "\n",
      "\u001b[1;31mValueError\u001b[0m: Unknown function_name: None\n",
      "\n",
      "\u001b[1;31m---------------------------------------------------------------------------\u001b[0m\n",
      "\u001b[1;31mValueError\u001b[0m                                Traceback (most recent call last)\n",
      "Input \u001b[1;32mIn [9]\u001b[0m, in \u001b[0;36mupdate_graph.<locals>._plot_function\u001b[1;34m(\n",
      "    x=array([ 5.        ,  5.1010101 ,  5.2020202 ,  5...6969697 , 14.7979798 , 14.8989899 , 15.        ]),\n",
      "    function_name=None\n",
      ")\u001b[0m\n",
      "\u001b[0;32m     14\u001b[0m     \u001b[38;5;28;01mreturn\u001b[39;00m np\u001b[38;5;241m.\u001b[39mexp(x)\n",
      "\u001b[0;32m     15\u001b[0m \u001b[38;5;28;01melse\u001b[39;00m:\n",
      "\u001b[1;32m---> 16\u001b[0m     \u001b[38;5;28;01mraise\u001b[39;00m \u001b[38;5;167;01mValueError\u001b[39;00m(\u001b[38;5;124mf\u001b[39m\u001b[38;5;124m\"\u001b[39m\u001b[38;5;124mUnknown function_name: \u001b[39m\u001b[38;5;132;01m{\u001b[39;00mfunction_name\u001b[38;5;132;01m}\u001b[39;00m\u001b[38;5;124m\"\u001b[39m)\n",
      "\n",
      "\u001b[1;31mValueError\u001b[0m: Unknown function_name: None\n",
      "\n"
     ]
    }
   ],
   "source": [
    "app7 = DashProxy(blueprint=bp)\n",
    "#app7.run_server()"
   ]
  },
  {
   "cell_type": "markdown",
   "metadata": {
    "slideshow": {
     "slide_type": "fragment"
    }
   },
   "source": [
    "The problem here is that DashProxy and JupyterDash are not compatible.\n",
    "If you run `DashProxy.run_server()` in a notebook the cell will never finish. "
   ]
  },
  {
   "cell_type": "markdown",
   "metadata": {
    "slideshow": {
     "slide_type": "subslide"
    }
   },
   "source": [
    "# Personal grievances\n",
    "\n",
    "I have two problems with dash that I have not found a good solution for.\n",
    "\n",
    "-  First is that dash code can get very convoluted and messy. <br>\n",
    "   Extracting part of the layout into individual functions can help a lot, but it still mostly looks messy.\n",
    "\n",
    "- Second is Dash's tendency to swallow error messages, especially inside a notebook. <br>\n",
    "This can be somewhat circumvented by running dash in a browser as that at least provides you with some of the messages. But mostly its just annoying.<br>\n",
    "Also printing and logging doesn't always work either\n"
   ]
  },
  {
   "cell_type": "code",
   "execution_count": null,
   "metadata": {},
   "outputs": [],
   "source": []
  }
 ],
 "metadata": {
  "celltoolbar": "Slideshow",
  "kernelspec": {
   "display_name": "Python 3 (ipykernel)",
   "language": "python",
   "name": "python3"
  },
  "language_info": {
   "codemirror_mode": {
    "name": "ipython",
    "version": 3
   },
   "file_extension": ".py",
   "mimetype": "text/x-python",
   "name": "python",
   "nbconvert_exporter": "python",
   "pygments_lexer": "ipython3",
   "version": "3.10.11"
  }
 },
 "nbformat": 4,
 "nbformat_minor": 4
}
