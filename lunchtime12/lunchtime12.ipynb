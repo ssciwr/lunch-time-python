{
 "cells": [
  {
   "cell_type": "markdown",
   "metadata": {
    "slideshow": {
     "slide_type": "notes"
    }
   },
   "source": [
    "#  Relevant Links:\n",
    "\n",
    "\n",
    "- Docs:         https://dash.plotly.com/dash-core-components \n",
    "- Style-sheets: https://dash.plotly.com/external-resources\n",
    "- callbacks:    https://dash.plotly.com/pattern-matching-callbacks\n",
    "- dash enrich:  https://www.dash-extensions.com/getting_started/enrich\n",
    "- examples:     https://dash.gallery/Portal/"
   ]
  },
  {
   "cell_type": "markdown",
   "metadata": {
    "slideshow": {
     "slide_type": "slide"
    }
   },
   "source": [
    "# Welcome to Dash\n",
    "\n",
    "### UI elements for both websites and jupyter notebooks\n",
    "\n",
    "Dash is a comparatively easy and stable way to build standalone or jupyter based widgets/apps. </br>\n",
    "It is based on `flask` and `react.js` this combined with the html elements of dash enables one to write interactive and scalable webpages without knowing JavaScript or HTML. </br>\n",
    "Since it is flask based dash servers can be deployed in the same way as a standalone web service.</br>\n",
    "Originally Dash is designed for web applications but with the help of the `jupyter-dash` library it works very well in notebooks.\n",
    "\n",
    "\n",
    "All components listed here can also be found under https://dash.plotly.com/dash-core-components for a more in depth documentation.\n",
    "\n"
   ]
  },
  {
   "cell_type": "markdown",
   "metadata": {
    "slideshow": {
     "slide_type": "notes"
    }
   },
   "source": [
    "Simple text is automatically shown side by side: <br>\n",
    "`html.Div([\"some nested text \",   \"some parallel text\"]),`<br>\n",
    "while nested Div's are shown side by side:<br>\n",
    "`html.Div([html.Div(\"some nested text \"),   html.Div(\"some parallel text\")])`<br>\n",
    "Unless you use the style property to change the display property to inline-block: <br> \n",
    "`html.Div([html.Div(\"some nested text   \", style={\"display\":\"inline-block\"}),   html.Div(\"some parallel text\", style={\"display\":\"inline-block\"})],),`\n"
   ]
  },
  {
   "cell_type": "code",
   "execution_count": null,
   "metadata": {
    "slideshow": {
     "slide_type": "skip"
    }
   },
   "outputs": [],
   "source": [
    "import plotly.express as px\n",
    "import numpy as np"
   ]
  },
  {
   "cell_type": "code",
   "execution_count": null,
   "metadata": {
    "slideshow": {
     "slide_type": "slide"
    }
   },
   "outputs": [],
   "source": [
    "from dash import Dash, dcc, html\n",
    "import jupyter_dash"
   ]
  },
  {
   "cell_type": "markdown",
   "metadata": {
    "slideshow": {
     "slide_type": "fragment"
    }
   },
   "source": [
    "The UI is defined as a hierarchy of HTML components inside the app.layout.\n",
    "Many dash objects have a `children` attribute that we can put more dash objects into. \n",
    "The most commonly used structuring tool is `html.Div`."
   ]
  },
  {
   "cell_type": "code",
   "execution_count": null,
   "metadata": {
    "slideshow": {
     "slide_type": "fragment"
    }
   },
   "outputs": [],
   "source": [
    "basic_layout = html.Div(\n",
    "    children=[\n",
    "        html.Div([\"some nested text \", \"some parallel text\"]),\n",
    "        html.Br(),  # this is just a line break\n",
    "        html.Div([html.Div(\"some nested text \"), html.Div(\"some parallel text\")]),\n",
    "        html.Br(),\n",
    "        html.Div(\n",
    "            [\n",
    "                html.Div(\n",
    "                    \"some nested text   \",\n",
    "                    style={\"display\": \"inline-block\"},\n",
    "                ),\n",
    "                html.Div(\n",
    "                    \"some parallel text\",\n",
    "                    style={\"display\": \"inline-block\"},\n",
    "                ),\n",
    "            ],\n",
    "        ),\n",
    "    ]\n",
    ")"
   ]
  },
  {
   "cell_type": "code",
   "execution_count": null,
   "metadata": {
    "slideshow": {
     "slide_type": "subslide"
    }
   },
   "outputs": [],
   "source": [
    "# standalone dash server\n",
    "app1 = Dash(\"app1\")\n",
    "\n",
    "app1.layout = basic_layout\n",
    "# app1.run_server(debug=True, port=5050, use_reloader=False)"
   ]
  },
  {
   "cell_type": "markdown",
   "metadata": {
    "slideshow": {
     "slide_type": "fragment"
    }
   },
   "source": [
    "This would run a dash server and provide an ip address to open the app in a new browser tab.\n",
    "However this does not really work in jupyter notebooks as the cell never actually finishes.\n",
    "\n",
    "A better solution inside Notebooks is the `jupyter-dash` library. This enables us to run the entire notebook while either calling dash in a standalone mode or `inline`. "
   ]
  },
  {
   "cell_type": "code",
   "execution_count": null,
   "metadata": {
    "slideshow": {
     "slide_type": "fragment"
    },
    "tags": [
     "nbval-ignore-output"
    ]
   },
   "outputs": [],
   "source": [
    "app2 = jupyter_dash.JupyterDash(\"app2\")\n",
    "app2.layout = basic_layout\n",
    "app2.run_server(debug=True, port=8071, mode=\"inline\")"
   ]
  },
  {
   "cell_type": "markdown",
   "metadata": {
    "slideshow": {
     "slide_type": "slide"
    }
   },
   "source": [
    "# Styling and components\n",
    "With the `style` argument most dash components can be changed according to the css standard.\n",
    "\n",
    "Most dash components are found under `dcc`, though some are in `html`.</br>\n",
    "With just these we can generate a UI that can't really do anything yet.</br>\n",
    "For data visualization Dash works very well with the `plotly` library.\n",
    "\n",
    "\n",
    "Note: Dash also supports css style sheets. See: https://dash.plotly.com/external-resources\n",
    "\n"
   ]
  },
  {
   "cell_type": "code",
   "execution_count": null,
   "metadata": {
    "slideshow": {
     "slide_type": "subslide"
    }
   },
   "outputs": [],
   "source": [
    "external_stylesheets = [\"https://codepen.io/chriddyp/pen/bWLwgP.css\"]\n",
    "my_style = {\"width\": \"30%\", \"margin-top\": \"20px\", \"margin-bottom\": \"20px\"}\n",
    "\n",
    "app3 = jupyter_dash.JupyterDash(\"app3\", external_stylesheets=external_stylesheets)\n",
    "\n",
    "app3.layout = html.Div(\n",
    "    [\n",
    "        \"Choosing and displaying a function:\",\n",
    "        dcc.Dropdown(\n",
    "            options=[\"x^2\", \"2x\", \"e^x\"],\n",
    "            value=\"x^2\",\n",
    "            style=my_style,\n",
    "        ),\n",
    "        html.Div(\n",
    "            dcc.RangeSlider(min=0, max=20, step=1, value=[5, 15]),\n",
    "            style={\"width\": \"50%\"},\n",
    "        ),\n",
    "        html.Button(\n",
    "            \"Click_me\",\n",
    "            style=my_style,\n",
    "        ),\n",
    "        dcc.Graph(),\n",
    "    ]\n",
    ")"
   ]
  },
  {
   "cell_type": "code",
   "execution_count": null,
   "metadata": {
    "slideshow": {
     "slide_type": "subslide"
    },
    "tags": [
     "nbval-ignore-output"
    ]
   },
   "outputs": [],
   "source": [
    "app3.run_server(debug=True, port=8072, mode=\"inline\")"
   ]
  },
  {
   "cell_type": "markdown",
   "metadata": {
    "slideshow": {
     "slide_type": "slide"
    }
   },
   "source": [
    "# Callbacks\n",
    "With the use of callbacks we can now add functionality to all our elements.\n",
    "\n",
    "In this example I want to be able to choose a function type, set the x limits for the calculation and show the graph upon clicking the button.\n",
    "\n",
    "The Dash callbacks allow us to access and monitor each object variable. <br>\n",
    "For this to work we first need to assign IDs to every object we want to interact with.  <br>\n",
    "Many of the Dividers for example don't need a specific ID. <br>\n",
    "\n",
    "\n",
    "Note that even though the `n_click` value of the button is not used it must still be the first function argument since its the value we want to observe."
   ]
  },
  {
   "cell_type": "code",
   "execution_count": null,
   "metadata": {
    "slideshow": {
     "slide_type": "subslide"
    }
   },
   "outputs": [],
   "source": [
    "app4 = jupyter_dash.JupyterDash(\"app4\")\n",
    "\n",
    "app4.layout = html.Div(\n",
    "    [\n",
    "        \"Choosing and displaying a function:\",\n",
    "        dcc.Dropdown(\n",
    "            options=[\"x^2\", \"2x\", \"e^x\"],\n",
    "            value=\"x^2\",\n",
    "            style=my_style,\n",
    "            id=\"dropdown\",\n",
    "        ),\n",
    "        html.Div(\n",
    "            dcc.RangeSlider(\n",
    "                min=0,\n",
    "                max=20,\n",
    "                step=1,\n",
    "                value=[5, 15],\n",
    "                id=\"slider\",\n",
    "            ),\n",
    "            style={\"width\": \"50%\"},\n",
    "        ),\n",
    "        html.Button(\n",
    "            \"Click_me\",\n",
    "            style=my_style,\n",
    "            id=\"button\",\n",
    "        ),\n",
    "        dcc.Graph(id=\"graph\"),\n",
    "    ]\n",
    ")"
   ]
  },
  {
   "cell_type": "markdown",
   "metadata": {
    "slideshow": {
     "slide_type": "subslide"
    }
   },
   "source": [
    "Callbacks can have as many inputs and outputs as needed. <br>\n",
    "Any component provided as `Input` will trigger the callback, while `State` can be used to obtain certain variables without triggering the function. <br>\n",
    "Basically every property of the selected object can be interacted with. </br>\n",
    "Eg.: One can give an ID to a `html.Div` and attach to or rewrite its children attribute, thus potentially rewriting the entire app within one callback.\n",
    "\n",
    "\n",
    "Lastly `Output` is used to define which object the return value will be assigned to.\n",
    "The order of function and return arguments is dependent on the order in the decorator.\n",
    "`Ouput, Ìnput`and `State` must always be used in exactly this order."
   ]
  },
  {
   "cell_type": "code",
   "execution_count": null,
   "metadata": {
    "slideshow": {
     "slide_type": "fragment"
    }
   },
   "outputs": [],
   "source": [
    "from dash import Input, Output, State\n",
    "\n",
    "\n",
    "@app4.callback(\n",
    "    Output(\"graph\", \"figure\"),\n",
    "    Input(\"button\", \"n_clicks\"),\n",
    "    State(\"dropdown\", \"value\"),\n",
    "    State(\"slider\", \"value\"),\n",
    ")\n",
    "def update_graph(n_clicks, dropdown_value, slider_value):\n",
    "    def _plot_function(x, function_name):\n",
    "        if function_name == \"x^2\":\n",
    "            return x**2\n",
    "        elif function_name == \"2x\":\n",
    "            return 2 * x\n",
    "        elif function_name == \"e^x\":\n",
    "            return np.exp(x)\n",
    "        else:\n",
    "            raise ValueError(f\"Unknown function_name: {function_name}\")\n",
    "\n",
    "    x_range = np.linspace(slider_value[0], slider_value[1], 100)\n",
    "    y = _plot_function(x_range, dropdown_value)\n",
    "    figure = px.line(x=x_range, y=y, title=dropdown_value)\n",
    "\n",
    "    return figure"
   ]
  },
  {
   "cell_type": "code",
   "execution_count": null,
   "metadata": {
    "slideshow": {
     "slide_type": "notes"
    }
   },
   "outputs": [],
   "source": [
    "# what happens if I deselect the functions?"
   ]
  },
  {
   "cell_type": "code",
   "execution_count": null,
   "metadata": {
    "slideshow": {
     "slide_type": "subslide"
    },
    "tags": [
     "nbval-ignore-output"
    ]
   },
   "outputs": [],
   "source": [
    "app4.run_server(debug=True, port=8073, mode=\"inline\")"
   ]
  },
  {
   "cell_type": "markdown",
   "metadata": {
    "slideshow": {
     "slide_type": "slide"
    }
   },
   "source": [
    "# Dynamically add more widgets\n",
    "\n",
    "So far we have only considered static IDs and that is fine for many work cases. However sometimes it might be necessary to add widgets inside of callbacks.\n",
    "An example for this could be the creation of a new tab with its own button and text on the inside.\n",
    "\n",
    "\n",
    "For these callbacks dash provides three patterns `MATCH` `ALL` and `AllSMALLER`.\n",
    "Here I will only go over `MATCH`, for more information see https://dash.plotly.com/pattern-matching-callbacks"
   ]
  },
  {
   "cell_type": "code",
   "execution_count": null,
   "metadata": {
    "slideshow": {
     "slide_type": "subslide"
    }
   },
   "outputs": [],
   "source": [
    "from dash.dependencies import MATCH\n",
    "\n",
    "app5 = jupyter_dash.JupyterDash(\"app5\", external_stylesheets=external_stylesheets)\n",
    "\n",
    "app5.layout = html.Div(\n",
    "    [\n",
    "        html.Button(\"Add Tab\", id=\"button_add_tab\"),\n",
    "        dcc.Tabs(id=\"tabs\", children=[]),\n",
    "    ]\n",
    ")"
   ]
  },
  {
   "cell_type": "code",
   "execution_count": null,
   "metadata": {
    "slideshow": {
     "slide_type": "subslide"
    }
   },
   "outputs": [],
   "source": [
    "@app5.callback(\n",
    "    Output(\"tabs\", \"children\"),\n",
    "    Input(\"button_add_tab\", \"n_clicks\"),\n",
    "    State(\"tabs\", \"children\"),\n",
    "    prevent_initial_call=True,\n",
    ")\n",
    "def add_tab(n_clicks, tabs_children):\n",
    "    new_tab = dcc.Tab(\n",
    "        label=f\"Tab {n_clicks}\",\n",
    "        children=[\n",
    "            html.Div(\n",
    "                [\n",
    "                    html.Button(\n",
    "                        f\"Button {n_clicks}\",\n",
    "                        id={\"type\": \"button_tab\", \"index\": n_clicks},\n",
    "                    ),\n",
    "                    html.Div(\n",
    "                        f\"Button {n_clicks} clicked 0 times. \",\n",
    "                        id={\"type\": \"div_tab\", \"index\": n_clicks},\n",
    "                    ),\n",
    "                ]\n",
    "            )\n",
    "        ],\n",
    "    )\n",
    "    tabs_children.append(new_tab)\n",
    "    return tabs_children"
   ]
  },
  {
   "cell_type": "code",
   "execution_count": null,
   "metadata": {
    "slideshow": {
     "slide_type": "subslide"
    }
   },
   "outputs": [],
   "source": [
    "@app5.callback(\n",
    "    Output({\"type\": \"div_tab\", \"index\": MATCH}, \"children\"),\n",
    "    Input({\"type\": \"button_tab\", \"index\": MATCH}, \"n_clicks\"),\n",
    "    State({\"type\": \"button_tab\", \"index\": MATCH}, \"id\"),\n",
    "    prevent_initial_call=True,\n",
    ")\n",
    "def tabs_button_click(n_clicks, button_id):\n",
    "    return f\"Button {button_id['index']} clicked {n_clicks} times. \""
   ]
  },
  {
   "cell_type": "code",
   "execution_count": null,
   "metadata": {
    "slideshow": {
     "slide_type": "subslide"
    },
    "tags": [
     "nbval-ignore-output"
    ]
   },
   "outputs": [],
   "source": [
    "app5.run_server(debug=True, port=8074, mode=\"inline\")"
   ]
  },
  {
   "cell_type": "markdown",
   "metadata": {
    "slideshow": {
     "slide_type": "slide"
    }
   },
   "source": [
    "# Using dash inside a class\n",
    "\n",
    "Unfortunately the decorator style of dashs callbacks we have used so far is very much incompatible with encapsulating the dash app inside a class. \n",
    "Normally the app itself is to be used in the whole module. <br>\n",
    "`@self.app.callback()` or smililar things don't work.\n",
    "However we can simply refer any function as a callback as seen here:\n",
    "\n",
    "##### A piece of warning though: \n",
    "The [dash website](https://dash.plotly.com/sharing-data-between-callbacks) advices against using a callback to access out of scope data or variables. As far as I can tell this is only relevant when deploying the dash server in a way that multiple user access the same instance and it should not be a problem for local or cloud hosted python environments.\n",
    "\n",
    "\n",
    "\n",
    "\n"
   ]
  },
  {
   "cell_type": "code",
   "execution_count": null,
   "metadata": {
    "slideshow": {
     "slide_type": "subslide"
    }
   },
   "outputs": [],
   "source": [
    "class App6:\n",
    "    def __init__(self):\n",
    "        external_stylesheets = [\"https://codepen.io/chriddyp/pen/bWLwgP.css\"]\n",
    "        self.app6 = jupyter_dash.JupyterDash(\n",
    "            \"app6\", external_stylesheets=external_stylesheets\n",
    "        )\n",
    "        my_style = {\n",
    "            \"width\": \"50%\",\n",
    "            \"margin-top\": \"20px\",\n",
    "            \"margin-bottom\": \"20px\",\n",
    "        }\n",
    "        self.app6.layout = html.Div(\n",
    "            [\n",
    "                \"Choosing and displaying a function:\",\n",
    "                dcc.Dropdown(\n",
    "                    options={\"x^2\": \"quadratic\", \"2x\": \"linear\", \"e^x\": \"exponential\"},\n",
    "                    value=\"x^2\",\n",
    "                    style=my_style,\n",
    "                    id=\"dropdown\",\n",
    "                ),\n",
    "                html.Div(\n",
    "                    dcc.RangeSlider(\n",
    "                        min=0,\n",
    "                        max=20,\n",
    "                        step=1,\n",
    "                        value=[5, 15],\n",
    "                        id=\"slider\",\n",
    "                    ),\n",
    "                    style={\"width\": \"50%\"},\n",
    "                ),\n",
    "                html.Button(\n",
    "                    \"Click_me\",\n",
    "                    style=my_style,\n",
    "                    id=\"button\",\n",
    "                ),\n",
    "                dcc.Graph(id=\"graph\"),\n",
    "            ]\n",
    "        )\n",
    "        self.app6.callback(\n",
    "            Output(\"graph\", \"figure\"),\n",
    "            Input(\"button\", \"n_clicks\"),\n",
    "            State(\"dropdown\", \"value\"),\n",
    "            State(\"slider\", \"value\"),\n",
    "        )(self.update_graph)\n",
    "\n",
    "    def update_graph(self, n_clicks, dropdown_value, slider_value):\n",
    "        def _plot_function(x, function_name):\n",
    "            if function_name == \"x^2\":\n",
    "                return x**2\n",
    "            elif function_name == \"2x\":\n",
    "                return 2 * x\n",
    "            elif function_name == \"e^x\":\n",
    "                return np.exp(x)\n",
    "            elif function_name == None:\n",
    "                return None\n",
    "            else:\n",
    "                raise ValueError(\n",
    "                    f\"Unknown function_name: {function_name}, type: {type(function_name)}\"\n",
    "                )\n",
    "\n",
    "        x_range = np.linspace(slider_value[0], slider_value[1], 100)\n",
    "        y = _plot_function(x_range, dropdown_value)\n",
    "        if y is not None:\n",
    "            figure = px.line(x=x_range, y=y, title=dropdown_value)\n",
    "        else:\n",
    "            figure = px.line()\n",
    "\n",
    "        return figure\n",
    "\n",
    "    def run(self, port=8081):\n",
    "        self.app6.run_server(debug=True, port=port, mode=\"inline\")"
   ]
  },
  {
   "cell_type": "code",
   "execution_count": null,
   "metadata": {
    "slideshow": {
     "slide_type": "subslide"
    },
    "tags": [
     "nbval-ignore-output"
    ]
   },
   "outputs": [],
   "source": [
    "app_6 = App6()\n",
    "app_6.run(port=8811)"
   ]
  },
  {
   "cell_type": "markdown",
   "metadata": {
    "slideshow": {
     "slide_type": "slide"
    }
   },
   "source": [
    "# Additional Dash Components\n",
    "\n",
    "- [Download button](https://dash.plotly.com/dash-core-components/download)\n",
    "- [Upload button](https://dash.plotly.com/dash-core-components/upload)\n",
    "- [Data Tables from pandas](https://dash.plotly.com/datatable)\n",
    "- [Bio and molecule viewer](https://dash.plotly.com/dash-bio)\n",
    "- [Many more]( https://dash.plotly.com/)"
   ]
  },
  {
   "cell_type": "markdown",
   "metadata": {
    "slideshow": {
     "slide_type": "fragment"
    }
   },
   "source": [
    "# Extendet dash functionality \n",
    "\n",
    "\n",
    "- [Dash Extensions - Enrich](https://www.dash-extensions.com/getting_started/enrich)\n",
    "- [Dash json viwer](https://github.com/ghandic/dash_renderjson)"
   ]
  },
  {
   "cell_type": "markdown",
   "metadata": {
    "slideshow": {
     "slide_type": "subslide"
    }
   },
   "source": [
    "## Dash extensions DashBlueprint\n",
    "\n",
    "Blueprints can be used to create and plan dash layouts and callbacks. Because these blueprints do not call the DashApp directly they can be created in differend scopes, files or libraries and later imported when needed. \n",
    "This can help keep the actual code much cleaner."
   ]
  },
  {
   "cell_type": "code",
   "execution_count": null,
   "metadata": {
    "slideshow": {
     "slide_type": "subslide"
    }
   },
   "outputs": [],
   "source": [
    "from dash_extensions.enrich import DashBlueprint, DashProxy  # , html, Output, Input\n",
    "\n",
    "bp = DashBlueprint()\n",
    "\n",
    "bp.layout = html.Div(\n",
    "    [\n",
    "        \"Choosing and displaying a function:\",\n",
    "        dcc.Dropdown(\n",
    "            options=[\"x^2\", \"2x\", \"e^x\"],\n",
    "            value=\"x^2\",\n",
    "            style=my_style,\n",
    "            id=\"dropdown\",\n",
    "        ),\n",
    "        html.Div(\n",
    "            dcc.RangeSlider(\n",
    "                min=0,\n",
    "                max=20,\n",
    "                step=1,\n",
    "                value=[5, 15],\n",
    "                id=\"slider\",\n",
    "            ),\n",
    "            style={\"width\": \"50%\"},\n",
    "        ),\n",
    "        html.Button(\n",
    "            \"Click_me\",\n",
    "            style=my_style,\n",
    "            id=\"button\",\n",
    "        ),\n",
    "        dcc.Graph(id=\"graph\"),\n",
    "    ]\n",
    ")"
   ]
  },
  {
   "cell_type": "code",
   "execution_count": null,
   "metadata": {
    "slideshow": {
     "slide_type": "subslide"
    }
   },
   "outputs": [],
   "source": [
    "@bp.callback(\n",
    "    Output(\"graph\", \"figure\"),\n",
    "    Input(\"button\", \"n_clicks\"),\n",
    "    State(\"dropdown\", \"value\"),\n",
    "    State(\"slider\", \"value\"),\n",
    ")\n",
    "def update_graph2(n_clicks, dropdown_value, slider_value):\n",
    "    def _plot_function(x, function_name):\n",
    "        if function_name == \"x^2\":\n",
    "            return x**2\n",
    "        elif function_name == \"2x\":\n",
    "            return 2 * x\n",
    "        elif function_name == \"e^x\":\n",
    "            return np.exp(x)\n",
    "        else:\n",
    "            raise ValueError(f\"Unknown function_name: {function_name}\")\n",
    "\n",
    "    x_range = np.linspace(slider_value[0], slider_value[1], 100)\n",
    "    y = _plot_function(x_range, dropdown_value)\n",
    "    figure = px.line(x=x_range, y=y, title=dropdown_value)\n",
    "\n",
    "    return figure"
   ]
  },
  {
   "cell_type": "code",
   "execution_count": null,
   "metadata": {
    "slideshow": {
     "slide_type": "subslide"
    }
   },
   "outputs": [],
   "source": [
    "app7 = DashProxy(blueprint=bp)\n",
    "# app7.run_server()"
   ]
  },
  {
   "cell_type": "markdown",
   "metadata": {
    "slideshow": {
     "slide_type": "fragment"
    }
   },
   "source": [
    "The problem here is that DashProxy and JupyterDash are not compatible.\n",
    "If you run `DashProxy.run_server()` in a notebook the cell will never finish. "
   ]
  },
  {
   "cell_type": "markdown",
   "metadata": {
    "slideshow": {
     "slide_type": "subslide"
    }
   },
   "source": [
    "# Personal grievances\n",
    "\n",
    "I have two problems with dash that I have not found a good solution for.\n",
    "\n",
    "-  First is that dash code can get very convoluted and messy. <br>\n",
    "   Extracting part of the layout into individual functions can help a lot, but it still mostly looks messy.\n",
    "\n",
    "- Second is Dash's tendency to swallow error messages, especially inside a notebook. <br>\n",
    "This can be somewhat circumvented by running dash in a browser as that at least provides you with some of the messages. But mostly its just annoying.<br>\n",
    "Also printing and logging doesn't always work either\n"
   ]
  },
  {
   "cell_type": "markdown",
   "metadata": {
    "slideshow": {
     "slide_type": "slide"
    }
   },
   "source": [
    "And to finish of small more comprehensive examples:\n",
    "- https://dash.gallery/named-entity-recognition/\n",
    "- https://dash.gallery/dash-opioid-epidemic/\n",
    "\n",
    "- https://dash.gallery/Portal/"
   ]
  },
  {
   "cell_type": "code",
   "execution_count": null,
   "metadata": {},
   "outputs": [],
   "source": []
  },
  {
   "cell_type": "code",
   "execution_count": null,
   "metadata": {},
   "outputs": [],
   "source": []
  },
  {
   "cell_type": "code",
   "execution_count": null,
   "metadata": {},
   "outputs": [],
   "source": []
  }
 ],
 "metadata": {
  "celltoolbar": "Tags",
  "kernelspec": {
   "display_name": "Python 3 (ipykernel)",
   "language": "python",
   "name": "python3"
  },
  "language_info": {
   "codemirror_mode": {
    "name": "ipython",
    "version": 3
   },
   "file_extension": ".py",
   "mimetype": "text/x-python",
   "name": "python",
   "nbconvert_exporter": "python",
   "pygments_lexer": "ipython3",
   "version": "3.10.11"
  }
 },
 "nbformat": 4,
 "nbformat_minor": 4
}
