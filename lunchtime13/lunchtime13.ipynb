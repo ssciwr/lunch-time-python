{
 "cells": [
  {
   "cell_type": "markdown",
   "id": "4efcb555-ec22-4b67-8d98-0022615909f1",
   "metadata": {},
   "source": [
    "# LTP#13: pydantic"
   ]
  },
  {
   "cell_type": "markdown",
   "id": "7da780ac-f37e-4989-adf4-aefb6a795e08",
   "metadata": {},
   "source": [
    "`pydantic` is a popular data validation and serialization library powered by Python type hints."
   ]
  },
  {
   "cell_type": "markdown",
   "id": "45ffbee8-7eb8-42e5-91d7-3a82d566460a",
   "metadata": {},
   "source": [
    "What does that mean and what can Pydantic do for us?"
   ]
  },
  {
   "cell_type": "markdown",
   "id": "88d12730-0131-4c5b-bd60-49a38167af8f",
   "metadata": {
    "editable": true,
    "slideshow": {
     "slide_type": "slide"
    },
    "tags": []
   },
   "source": [
    "## The problem"
   ]
  },
  {
   "cell_type": "markdown",
   "id": "fd723319-c7cd-4070-87a5-df08c506d4ea",
   "metadata": {},
   "source": [
    "Many of you might have written a code like this before for a simple data structure:"
   ]
  },
  {
   "cell_type": "code",
   "execution_count": null,
   "id": "8b0709e3-751d-4550-a84f-8a74f239b487",
   "metadata": {
    "editable": true,
    "slideshow": {
     "slide_type": ""
    },
    "tags": []
   },
   "outputs": [],
   "source": [
    "class Sample:\n",
    "    def __init__(self, date, parameter, size):\n",
    "        self.date = date\n",
    "        self.parameter = parameter\n",
    "        self.size = size"
   ]
  },
  {
   "cell_type": "code",
   "execution_count": null,
   "id": "89889491-dc95-4b66-b5d1-ce2fbd8c7923",
   "metadata": {
    "editable": true,
    "slideshow": {
     "slide_type": ""
    },
    "tags": []
   },
   "outputs": [],
   "source": [
    "Sample(\"now\", 0.5, 2000)"
   ]
  },
  {
   "cell_type": "markdown",
   "id": "758738fd-2311-4d87-a0e4-a1b299a585cb",
   "metadata": {
    "editable": true,
    "slideshow": {
     "slide_type": "fragment"
    },
    "tags": []
   },
   "source": [
    "Here are some issues with this code:\n",
    "* Repetitive, tedious *boilerplate* code\n",
    "* What are *good values* for `date`, `parameter` and `size`?\n",
    "* How do we control *mutability* of the data?\n",
    "* What if we later want to write that data to a file/send over a network?\n",
    "* Many things are undefinded, e.g. the `repr` shown here"
   ]
  },
  {
   "cell_type": "markdown",
   "id": "e8e17641-3bcd-4122-b7fc-475aecb3bfc9",
   "metadata": {
    "editable": true,
    "slideshow": {
     "slide_type": "slide"
    },
    "tags": []
   },
   "source": [
    "## Partial solutions"
   ]
  },
  {
   "cell_type": "markdown",
   "id": "d3640290-46df-4604-9287-fad4993623ae",
   "metadata": {
    "editable": true,
    "slideshow": {
     "slide_type": ""
    },
    "tags": []
   },
   "source": [
    "Some of you might have identified this problem and moved to potential solutions."
   ]
  },
  {
   "cell_type": "markdown",
   "id": "fe36a7e0-7c15-489e-a7e0-9e4032061b75",
   "metadata": {
    "editable": true,
    "slideshow": {
     "slide_type": "fragment"
    },
    "tags": []
   },
   "source": [
    "### namedtuple"
   ]
  },
  {
   "cell_type": "code",
   "execution_count": null,
   "id": "02a252e4-1bf9-46ec-b1fd-60f7ff808655",
   "metadata": {
    "editable": true,
    "slideshow": {
     "slide_type": ""
    },
    "tags": []
   },
   "outputs": [],
   "source": [
    "import collections\n",
    "Sample = collections.namedtuple(\"Sample\", (\"date\", \"parameter\", \"size\"))"
   ]
  },
  {
   "cell_type": "code",
   "execution_count": null,
   "id": "9a719ba8-7b36-428e-948b-9d675bf22ff4",
   "metadata": {
    "editable": true,
    "slideshow": {
     "slide_type": ""
    },
    "tags": []
   },
   "outputs": [],
   "source": [
    "Sample(date=\"now\", parameter=0.5, size=2000)"
   ]
  },
  {
   "cell_type": "markdown",
   "id": "b23d947c-f111-458f-940d-eb9831ecd5be",
   "metadata": {
    "editable": true,
    "slideshow": {
     "slide_type": ""
    },
    "tags": []
   },
   "source": [
    "* Reduces boilerplate\n",
    "* Has e.g. a nice `repr`\n",
    "* All other problems are unsolved"
   ]
  },
  {
   "cell_type": "markdown",
   "id": "4f96031d-8ed7-4018-a459-dfba92164f17",
   "metadata": {
    "editable": true,
    "slideshow": {
     "slide_type": "slide"
    },
    "tags": []
   },
   "source": [
    "### dataclasses"
   ]
  },
  {
   "cell_type": "code",
   "execution_count": null,
   "id": "9c3eec6a-1fb5-4df6-97dc-f76ef6a79591",
   "metadata": {
    "editable": true,
    "slideshow": {
     "slide_type": ""
    },
    "tags": []
   },
   "outputs": [],
   "source": [
    "import dataclasses\n",
    "from datetime import datetime\n",
    "\n",
    "@dataclasses.dataclass\n",
    "class Sample:\n",
    "    date: datetime\n",
    "    parameter: float\n",
    "    size: int"
   ]
  },
  {
   "cell_type": "code",
   "execution_count": null,
   "id": "85755b26-17dd-467e-8b7a-bc3840aee44b",
   "metadata": {
    "editable": true,
    "slideshow": {
     "slide_type": ""
    },
    "tags": []
   },
   "outputs": [],
   "source": [
    "Sample(date=\"now\", parameter=0.5, size=2000)"
   ]
  },
  {
   "cell_type": "markdown",
   "id": "1b17fe0d-2624-467c-8a88-c12689f1cf6e",
   "metadata": {
    "editable": true,
    "slideshow": {
     "slide_type": ""
    },
    "tags": []
   },
   "source": [
    "* Reduces boilerplate drastically\n",
    "* Gives you control over mutability\n",
    "* What about *data validation* and *serialization*?"
   ]
  },
  {
   "cell_type": "markdown",
   "id": "2dcc25b5-3a7d-413f-b05c-bffa8acb6a3c",
   "metadata": {
    "editable": true,
    "slideshow": {
     "slide_type": "slide"
    },
    "tags": []
   },
   "source": [
    "# pydantic to the rescue!"
   ]
  },
  {
   "cell_type": "markdown",
   "id": "052c6c8e-1de7-49cd-9437-6ea1ece548af",
   "metadata": {
    "editable": true,
    "slideshow": {
     "slide_type": ""
    },
    "tags": []
   },
   "source": [
    "Here is the same example with a `pydantic` base class:"
   ]
  },
  {
   "cell_type": "code",
   "execution_count": null,
   "id": "2e3d9ea1-a1b5-4854-ab0a-76dba2103092",
   "metadata": {
    "editable": true,
    "slideshow": {
     "slide_type": ""
    },
    "tags": []
   },
   "outputs": [],
   "source": [
    "from pydantic import BaseModel"
   ]
  },
  {
   "cell_type": "code",
   "execution_count": null,
   "id": "614393d4-8ad7-43e5-8ca3-b49e47657d6c",
   "metadata": {
    "editable": true,
    "slideshow": {
     "slide_type": ""
    },
    "tags": []
   },
   "outputs": [],
   "source": [
    "class Sample(BaseModel):\n",
    "    date: datetime\n",
    "    parameter: float\n",
    "    size: int"
   ]
  },
  {
   "cell_type": "code",
   "execution_count": null,
   "id": "497ea52c-43d1-4d6d-bb4d-3f8d2c4c58a0",
   "metadata": {
    "editable": true,
    "slideshow": {
     "slide_type": ""
    },
    "tags": []
   },
   "outputs": [],
   "source": [
    "Sample(date=\"now\", parameter=0.5, size=2000)"
   ]
  },
  {
   "cell_type": "code",
   "execution_count": null,
   "id": "12189074-7225-41f4-aed7-4d444a8164e3",
   "metadata": {
    "editable": true,
    "slideshow": {
     "slide_type": ""
    },
    "tags": []
   },
   "outputs": [],
   "source": [
    "Sample(date=\"2024-04-19 12:00\", parameter=0.5, size=2000)"
   ]
  },
  {
   "cell_type": "markdown",
   "id": "cf998d48-2412-4d4d-9b3a-a64d934de9c0",
   "metadata": {
    "editable": true,
    "slideshow": {
     "slide_type": "slide"
    },
    "tags": []
   },
   "source": [
    "# Validation in pydantic"
   ]
  },
  {
   "cell_type": "markdown",
   "id": "f67985f2-83c9-48d1-b3cf-df8e721b5d23",
   "metadata": {
    "editable": true,
    "slideshow": {
     "slide_type": ""
    },
    "tags": []
   },
   "source": [
    "Validation logic in `pydantic` is type annotation based. It:\n",
    "* leverages the type annotations\n",
    "* looks up the logic it has implemented for those types\n",
    "* automatically converts to the correct type\n",
    "\n",
    "If the last bit scares you, there is a `strict` mode."
   ]
  },
  {
   "cell_type": "markdown",
   "id": "ffc24fca-860a-4d37-81d2-1a2fe1e94686",
   "metadata": {
    "editable": true,
    "slideshow": {
     "slide_type": "fragment"
    },
    "tags": []
   },
   "source": [
    "Additional validation logic that exceeds type annotations is available:"
   ]
  },
  {
   "cell_type": "code",
   "execution_count": null,
   "id": "fbe97688-d8bb-4d67-93bc-7e013731f56a",
   "metadata": {
    "editable": true,
    "slideshow": {
     "slide_type": ""
    },
    "tags": []
   },
   "outputs": [],
   "source": [
    "from pydantic import PositiveInt, confloat"
   ]
  },
  {
   "cell_type": "code",
   "execution_count": null,
   "id": "2ba5ff58-0417-4508-b796-9f15bc6c10b8",
   "metadata": {
    "editable": true,
    "slideshow": {
     "slide_type": ""
    },
    "tags": []
   },
   "outputs": [],
   "source": [
    "class Sample(BaseModel):\n",
    "    date: datetime\n",
    "    parameter: confloat(gt=0.0, lt=1.0)\n",
    "    size: PositiveInt"
   ]
  },
  {
   "cell_type": "code",
   "execution_count": null,
   "id": "22ba8b60-9e54-43ef-9316-4840e1441b8e",
   "metadata": {
    "editable": true,
    "slideshow": {
     "slide_type": ""
    },
    "tags": []
   },
   "outputs": [],
   "source": [
    "Sample(date=\"2024-04-19 12:00\", parameter=0.5, size=2000)"
   ]
  },
  {
   "cell_type": "markdown",
   "id": "d4b16848-0ac1-47ad-9af0-4b0f1bc52d45",
   "metadata": {
    "editable": true,
    "slideshow": {
     "slide_type": "slide"
    },
    "tags": []
   },
   "source": [
    "## More validation in pydantic"
   ]
  },
  {
   "cell_type": "markdown",
   "id": "b0eb197c-10cc-4c5b-8070-b3423a5e7aa5",
   "metadata": {
    "editable": true,
    "slideshow": {
     "slide_type": ""
    },
    "tags": []
   },
   "source": [
    "Validation logic can be customized in interesting ways. The following snippet allows to specify the magic string `\"now\"` for the date and it resolves to a timestamp:"
   ]
  },
  {
   "cell_type": "code",
   "execution_count": null,
   "id": "e450253c-a8a9-4748-971a-96432bf4cee4",
   "metadata": {
    "editable": true,
    "slideshow": {
     "slide_type": ""
    },
    "tags": []
   },
   "outputs": [],
   "source": [
    "from pydantic import field_validator\n",
    "\n",
    "class Sample(BaseModel):\n",
    "    date: datetime\n",
    "    parameter: confloat(gt=0.0, lt=1.0)\n",
    "    size: PositiveInt\n",
    "\n",
    "    @field_validator(\"date\", mode=\"before\")\n",
    "    def resolve_now(cls, v):\n",
    "        if v == \"now\":\n",
    "            return datetime.now()\n",
    "        return v"
   ]
  },
  {
   "cell_type": "code",
   "execution_count": null,
   "id": "993e936a-4224-452b-80f8-3366fa7b2e4e",
   "metadata": {
    "editable": true,
    "slideshow": {
     "slide_type": ""
    },
    "tags": []
   },
   "outputs": [],
   "source": [
    "Sample(date=\"now\", parameter=0.5, size=2000)"
   ]
  },
  {
   "cell_type": "markdown",
   "id": "dba052fc-63a9-4b17-b8bb-7362269ea755",
   "metadata": {
    "editable": true,
    "slideshow": {
     "slide_type": "slide"
    },
    "tags": []
   },
   "source": [
    "## Even more validation in pydantic"
   ]
  },
  {
   "cell_type": "markdown",
   "id": "72db8d97-ae05-4a36-9ea7-60952a21b137",
   "metadata": {
    "editable": true,
    "slideshow": {
     "slide_type": ""
    },
    "tags": []
   },
   "source": [
    "Sometimes it is better to attach the validation logic to a type though, as it makes it reusable:"
   ]
  },
  {
   "cell_type": "code",
   "execution_count": null,
   "id": "f1c8967d-b392-4512-b82e-267801ef543e",
   "metadata": {
    "editable": true,
    "slideshow": {
     "slide_type": ""
    },
    "tags": []
   },
   "outputs": [],
   "source": [
    "from typing_extensions import Annotated\n",
    "from pydantic.functional_validators import AfterValidator"
   ]
  },
  {
   "cell_type": "code",
   "execution_count": null,
   "id": "c7f8afc1-0230-451f-91ed-18bdf664fd09",
   "metadata": {
    "editable": true,
    "slideshow": {
     "slide_type": ""
    },
    "tags": []
   },
   "outputs": [],
   "source": [
    "def check_squares(x: int) -> int: \n",
    "    assert x**0.5 % 1 == 0, f\"{x} is not a square number\"\n",
    "    return x"
   ]
  },
  {
   "cell_type": "code",
   "execution_count": null,
   "id": "8f75b229-4200-4df7-8452-e0330cf5ba5c",
   "metadata": {
    "editable": true,
    "slideshow": {
     "slide_type": ""
    },
    "tags": []
   },
   "outputs": [],
   "source": [
    "SquareNumber = Annotated[int, AfterValidator(check_squares)]"
   ]
  },
  {
   "cell_type": "code",
   "execution_count": null,
   "id": "83ead4b5-a581-47b3-bae9-a91227b013d6",
   "metadata": {
    "editable": true,
    "slideshow": {
     "slide_type": ""
    },
    "tags": []
   },
   "outputs": [],
   "source": [
    "class MyModel(BaseModel):\n",
    "    x: SquareNumber"
   ]
  },
  {
   "cell_type": "code",
   "execution_count": null,
   "id": "03eef243-896e-4048-b43b-51d7b0690b1b",
   "metadata": {
    "editable": true,
    "slideshow": {
     "slide_type": ""
    },
    "tags": []
   },
   "outputs": [],
   "source": [
    "MyModel(x=4)"
   ]
  },
  {
   "cell_type": "markdown",
   "id": "dd62af32-ac21-4c85-844b-6d45e54e6aa9",
   "metadata": {
    "editable": true,
    "slideshow": {
     "slide_type": "slide"
    },
    "tags": []
   },
   "source": [
    "## Validating function arguments"
   ]
  },
  {
   "cell_type": "markdown",
   "id": "ccde5b58-8829-4ddb-a85d-05a7e5a2d9f5",
   "metadata": {
    "editable": true,
    "slideshow": {
     "slide_type": ""
    },
    "tags": []
   },
   "source": [
    "What if we are not building models, but our interface consists of functions instead?"
   ]
  },
  {
   "cell_type": "code",
   "execution_count": 22,
   "id": "96ecc0f5-aa9f-4c91-825f-732895095cf5",
   "metadata": {
    "editable": true,
    "slideshow": {
     "slide_type": ""
    },
    "tags": []
   },
   "outputs": [],
   "source": [
    "from pydantic import validate_call"
   ]
  },
  {
   "cell_type": "code",
   "execution_count": 23,
   "id": "f475ac0d-1dfd-4725-be3d-7fae35bbee45",
   "metadata": {
    "editable": true,
    "slideshow": {
     "slide_type": ""
    },
    "tags": []
   },
   "outputs": [],
   "source": [
    "@validate_call(validate_return = True)\n",
    "def square_root(x: SquareNumber) -> int:\n",
    "    return x ** 0.5"
   ]
  },
  {
   "cell_type": "code",
   "execution_count": 24,
   "id": "4f312540-fd24-4381-bb46-9d62a10c4112",
   "metadata": {
    "editable": true,
    "slideshow": {
     "slide_type": ""
    },
    "tags": []
   },
   "outputs": [
    {
     "data": {
      "text/plain": [
       "2"
      ]
     },
     "execution_count": 24,
     "metadata": {},
     "output_type": "execute_result"
    }
   ],
   "source": [
    "square_root(\"4\")"
   ]
  },
  {
   "cell_type": "markdown",
   "id": "afc811d7-e189-486f-9984-15d63411f88b",
   "metadata": {
    "editable": true,
    "slideshow": {
     "slide_type": "fragment"
    },
    "tags": []
   },
   "source": [
    "Note that this contained two implicit conversions:\n",
    "* `\"4\"` -> `4`\n",
    "* `2.0` -> `2`\n",
    "Judge for yourself and your application (!) whether that is a good or a bad thing."
   ]
  },
  {
   "cell_type": "markdown",
   "id": "244e33bf-5279-4c48-9154-e240befec5c8",
   "metadata": {
    "editable": true,
    "slideshow": {
     "slide_type": "slide"
    },
    "tags": []
   },
   "source": [
    "## Serialization/Deserialization"
   ]
  },
  {
   "cell_type": "code",
   "execution_count": null,
   "id": "c253f75a-cc29-4bfa-827e-323b64fd8e41",
   "metadata": {
    "editable": true,
    "slideshow": {
     "slide_type": ""
    },
    "tags": []
   },
   "outputs": [],
   "source": [
    "s = Sample(date=\"now\", parameter=0.5, size=2000)"
   ]
  },
  {
   "cell_type": "markdown",
   "id": "d8706849-2827-4941-9c3c-3c8685120824",
   "metadata": {
    "editable": true,
    "slideshow": {
     "slide_type": ""
    },
    "tags": []
   },
   "source": [
    "Assume we have a sample, we can turn it into a dictionary or a JSON string using `pydantic`:"
   ]
  },
  {
   "cell_type": "code",
   "execution_count": null,
   "id": "2765957c-e3ea-4004-b23e-993a6fc084c1",
   "metadata": {
    "editable": true,
    "slideshow": {
     "slide_type": ""
    },
    "tags": []
   },
   "outputs": [],
   "source": [
    "s.model_dump()"
   ]
  },
  {
   "cell_type": "code",
   "execution_count": null,
   "id": "676b3f41-0949-419a-bfb1-b3709dfcd287",
   "metadata": {
    "editable": true,
    "slideshow": {
     "slide_type": ""
    },
    "tags": []
   },
   "outputs": [],
   "source": [
    "s.model_dump_json()"
   ]
  },
  {
   "cell_type": "markdown",
   "id": "f3a2475a-ec61-40cd-9c68-893426f8099f",
   "metadata": {
    "editable": true,
    "slideshow": {
     "slide_type": "slide"
    },
    "tags": []
   },
   "source": [
    "And we can reconstruct an object from those dumps:"
   ]
  },
  {
   "cell_type": "code",
   "execution_count": null,
   "id": "05077b33-90e1-4416-8533-a71748048063",
   "metadata": {
    "editable": true,
    "slideshow": {
     "slide_type": ""
    },
    "tags": []
   },
   "outputs": [],
   "source": [
    "Sample(**s.model_dump())"
   ]
  },
  {
   "cell_type": "code",
   "execution_count": null,
   "id": "f1b716ec-a3bc-4dbc-a672-f0c3ecdc73b3",
   "metadata": {
    "editable": true,
    "slideshow": {
     "slide_type": ""
    },
    "tags": []
   },
   "outputs": [],
   "source": [
    "Sample.model_validate_json(s.model_dump_json())"
   ]
  },
  {
   "cell_type": "markdown",
   "id": "5f886ef3-dc46-4d36-8a2b-f2af5ca50bdf",
   "metadata": {
    "editable": true,
    "slideshow": {
     "slide_type": ""
    },
    "tags": []
   },
   "source": [
    "Such functionality is of key importance in the design of file formats and transmission protocols."
   ]
  },
  {
   "cell_type": "markdown",
   "id": "829ec5ca-bf24-43a4-8b3a-b21c8af99162",
   "metadata": {
    "editable": true,
    "slideshow": {
     "slide_type": "slide"
    },
    "tags": []
   },
   "source": [
    "## Summary and References"
   ]
  },
  {
   "cell_type": "markdown",
   "id": "2d292480-3ea5-4c55-922d-197f9ba31d5c",
   "metadata": {
    "editable": true,
    "slideshow": {
     "slide_type": ""
    },
    "tags": []
   },
   "source": [
    "`pydantic` gives you a \n",
    "* simple, yet very powerful toolbox\n",
    "* allows you to write safer code with less bugs\n",
    "* saves you from a lot of tedious work"
   ]
  },
  {
   "cell_type": "markdown",
   "id": "b4dcc47f-b950-44b0-9f24-3f79ec4b160d",
   "metadata": {
    "editable": true,
    "slideshow": {
     "slide_type": ""
    },
    "tags": []
   },
   "source": [
    "### References"
   ]
  },
  {
   "cell_type": "markdown",
   "id": "c470cd00-8d04-4c6e-b9cc-87667344b33b",
   "metadata": {
    "editable": true,
    "slideshow": {
     "slide_type": ""
    },
    "tags": []
   },
   "source": [
    "* https://docs.pydantic.dev/latest/\n",
    "* https://github.com/pydantic/pydantic"
   ]
  },
  {
   "cell_type": "code",
   "execution_count": null,
   "id": "661da733-3074-4389-bc77-8b20e11421a1",
   "metadata": {
    "editable": true,
    "slideshow": {
     "slide_type": ""
    },
    "tags": []
   },
   "outputs": [],
   "source": []
  }
 ],
 "metadata": {
  "kernelspec": {
   "display_name": "Python 3 (ipykernel)",
   "language": "python",
   "name": "python3"
  },
  "language_info": {
   "codemirror_mode": {
    "name": "ipython",
    "version": 3
   },
   "file_extension": ".py",
   "mimetype": "text/x-python",
   "name": "python",
   "nbconvert_exporter": "python",
   "pygments_lexer": "ipython3",
   "version": "3.12.3"
  }
 },
 "nbformat": 4,
 "nbformat_minor": 5
}
