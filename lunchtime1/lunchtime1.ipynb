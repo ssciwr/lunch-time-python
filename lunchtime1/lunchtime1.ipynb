{
 "cells": [
  {
   "cell_type": "markdown",
   "id": "0",
   "metadata": {},
   "source": [
    "# Lunch Time Python\n",
    "## Lunch 1: Requests\n",
    "*Scientific Software Center, Heidelberg University*  \n",
    "*October 2021*  \n",
    "*Visit on [GitHub](https://github.com/ssciwr/lunch-time-python)*  \n",
    "\n",
    "Welcome to Lunch Time Python! This is the notebook for [session 1](https://ssciwr.github.io/lunch-time-python/lunchtime1/) - the [requests](https://docs.python-requests.org/en/latest/) library.\n",
    "\n",
    "The requests library provides an elegant and simple way to send HTTP requests. Connect to the server of your choice, and download websites, stream data or upload content. Requests is [one of the most downloaded python packages](https://pypi.org/project/requests/) with about 14 Million downloads per week, and half a million of repositories that depend on requests as of October 2021."
   ]
  },
  {
   "cell_type": "markdown",
   "id": "1",
   "metadata": {},
   "source": [
    "# Requests: HTTP for humans\n",
    "\n",
    "Carry out HTTP/1.1 requests using python! An HTTP request is made by a client to a server. For example, when you open a web page in your browser, your device sends a GET request to the web server hosting the page.\n",
    "\n",
    "The HTTP request contains three elements in the start line: An HTTP method; the request target; and the HTTP version.\n",
    "\n",
    "For example, when you open the page [ssc.iwr.uni-heidelberg.de](https://ssc.iwr.uni-heidelberg.de/), this is the message that is sent from the client to the server:\n",
    "\n",
    "GET https://ssc.iwr.uni-heidelberg.de/ HTTP/1.1\n",
    "\n",
    "The above request contains the request method, GET, the URI of the target, https://ssc.iwr.uni-heidelberg.de/, and the protocol version, HTTP/1.1.\n",
    "\n",
    "**These are the [main methods](https://www.tutorialspoint.com/http/http_methods.htm) for HTTP/1.1:**\n",
    "1. GET  \n",
    "The GET method is used to retrieve information from the given server using a given URI. Requests using GET should only retrieve data and should have no other effect on the data.\n",
    "\n",
    "1. HEAD  \n",
    "Same as GET, but transfers the status line and header section only.\n",
    "\n",
    "1. POST  \n",
    "A POST request is used to send data to the server, for example, customer information, file upload, etc. using HTML forms.\n",
    "\n",
    "1. PUT  \n",
    "Replaces all current representations of the target resource with the uploaded content.\n",
    "\n",
    "1. DELETE  \n",
    "Removes all current representations of the target resource given by a URI.\n",
    "\n",
    "1. CONNECT  \n",
    "Establishes a tunnel to the server identified by a given URI.\n",
    "\n",
    "1. OPTIONS  \n",
    "Describes the communication options for the target resource.\n",
    "\n",
    "1. TRACE  \n",
    "Performs a message loop-back test along the path to the target resource.\n",
    "\n",
    "*Let's start requesting!  \n",
    "To install requests on your local machine, simply use* `python -m pip install requests`."
   ]
  },
  {
   "cell_type": "code",
   "execution_count": null,
   "id": "2",
   "metadata": {},
   "outputs": [],
   "source": [
    "import requests as rq\n",
    "import json  # to pretty-print JSON responses"
   ]
  },
  {
   "cell_type": "markdown",
   "id": "3",
   "metadata": {},
   "source": [
    "We will start with the above example -  \n",
    "GET https://ssc.iwr.uni-heidelberg.de/ HTTP/1.1"
   ]
  },
  {
   "cell_type": "code",
   "execution_count": null,
   "id": "4",
   "metadata": {},
   "outputs": [],
   "source": [
    "targetURI = \"https://ssc.iwr.uni-heidelberg.de/\"\n",
    "r = rq.get(url=targetURI)"
   ]
  },
  {
   "cell_type": "markdown",
   "id": "5",
   "metadata": {},
   "source": [
    "This did something! Let's check the object that we obtained."
   ]
  },
  {
   "cell_type": "code",
   "execution_count": null,
   "id": "6",
   "metadata": {},
   "outputs": [],
   "source": [
    "r.status_code"
   ]
  },
  {
   "cell_type": "markdown",
   "id": "7",
   "metadata": {},
   "source": [
    "There are a couple of status codes that are important. You are probably familiar with 404 Not Found; status codes starting with 2 stand for successful requests; status codes starting with 3 stand for redirections; codes starting with 4 stand for client-side errors."
   ]
  },
  {
   "cell_type": "raw",
   "id": "8",
   "metadata": {},
   "source": [
    "# Tell me some sites that you would like to GET!"
   ]
  },
  {
   "cell_type": "code",
   "execution_count": null,
   "id": "9",
   "metadata": {},
   "outputs": [],
   "source": []
  },
  {
   "cell_type": "code",
   "execution_count": null,
   "id": "10",
   "metadata": {},
   "outputs": [],
   "source": [
    "targetURI = \"https://en.wikipedia.org/wiki/Monty_Python\"\n",
    "r = rq.get(url=targetURI)"
   ]
  },
  {
   "cell_type": "code",
   "execution_count": null,
   "id": "11",
   "metadata": {},
   "outputs": [],
   "source": [
    "r.text"
   ]
  },
  {
   "cell_type": "markdown",
   "id": "12",
   "metadata": {},
   "source": [
    "## The HTTP response\n",
    "The response that you receive from the server contains the status line (as per `r.status_code`), the HTTP headers and a body. \n",
    "\n",
    "### The response header"
   ]
  },
  {
   "cell_type": "code",
   "execution_count": null,
   "id": "13",
   "metadata": {},
   "outputs": [],
   "source": [
    "r.headers"
   ]
  },
  {
   "cell_type": "code",
   "execution_count": null,
   "id": "14",
   "metadata": {},
   "outputs": [],
   "source": [
    "r.headers[\"content-type\"]  # the dictionary is case-insensitive!"
   ]
  },
  {
   "cell_type": "code",
   "execution_count": null,
   "id": "15",
   "metadata": {},
   "outputs": [],
   "source": [
    "r.encoding  # the type of compression that is used"
   ]
  },
  {
   "cell_type": "markdown",
   "id": "16",
   "metadata": {},
   "source": [
    "The headers contain information in the response headers (like host), the general headers (i.e. information about the connection), and representation headers (ie. content length).\n",
    "You can also see what cookies were sent back, and how much time elapsed for the processing of the request."
   ]
  },
  {
   "cell_type": "code",
   "execution_count": null,
   "id": "17",
   "metadata": {},
   "outputs": [],
   "source": [
    "r.cookies  # the cookies that the server sent back"
   ]
  },
  {
   "cell_type": "code",
   "execution_count": null,
   "id": "18",
   "metadata": {},
   "outputs": [],
   "source": [
    "r.elapsed  # time between request send and receiving the response"
   ]
  },
  {
   "cell_type": "markdown",
   "id": "19",
   "metadata": {},
   "source": [
    "### The response body\n",
    "Not all requests come with a body (the payload) - if for example you PUT data on a server, the response does not necessarily entail a body. You can look at the request's body using `r.text` (this one looks at textual data) or `r.content` (automatically detects the encoding also for non-text response content)."
   ]
  },
  {
   "cell_type": "code",
   "execution_count": null,
   "id": "20",
   "metadata": {},
   "outputs": [],
   "source": [
    "r.text"
   ]
  },
  {
   "cell_type": "code",
   "execution_count": null,
   "id": "21",
   "metadata": {},
   "outputs": [],
   "source": [
    "r.content"
   ]
  },
  {
   "cell_type": "markdown",
   "id": "22",
   "metadata": {},
   "source": [
    "### Side note\n",
    "This doesn't look too pretty - you can use BeautifulSoup (`pip install beautifulsoup4`) to improve it's appearance, but that library can fill up a whole other lunch time."
   ]
  },
  {
   "cell_type": "code",
   "execution_count": null,
   "id": "23",
   "metadata": {},
   "outputs": [],
   "source": [
    "from bs4 import BeautifulSoup"
   ]
  },
  {
   "cell_type": "code",
   "execution_count": null,
   "id": "24",
   "metadata": {},
   "outputs": [],
   "source": [
    "soup = BeautifulSoup(r.content, \"html.parser\")\n",
    "print(soup.prettify())"
   ]
  },
  {
   "cell_type": "code",
   "execution_count": null,
   "id": "25",
   "metadata": {},
   "outputs": [],
   "source": [
    "print(soup.text)"
   ]
  },
  {
   "cell_type": "markdown",
   "id": "26",
   "metadata": {},
   "source": [
    "### Back to requests\n",
    "Requests also has a built-in JSON decoder."
   ]
  },
  {
   "cell_type": "code",
   "execution_count": null,
   "id": "27",
   "metadata": {},
   "outputs": [],
   "source": [
    "r = rq.get(\"https://api.github.com/events\")\n",
    "r.json()"
   ]
  },
  {
   "cell_type": "markdown",
   "id": "28",
   "metadata": {},
   "source": [
    "# GET request with parameters\n",
    "Now let's try to get something useful using requests (apart from that you can use it to crawl the web and download pages!). Let's find out the geographic position of Heidelberg University using [google's geocoding API](https://developers.google.com/maps/documentation/geocoding/overview?_gl=1*oagjnc*_ga*MTk0NjcwNTg2Ni4xNjM1MTUzNjc5*_ga_NRWSTWS78N*MTYzNTE1MzY3OC4xLjAuMTYzNTE1MzY3OC4w). For this, you can generate a trial account on google's website to obtain an API key."
   ]
  },
  {
   "cell_type": "code",
   "execution_count": null,
   "id": "29",
   "metadata": {},
   "outputs": [],
   "source": [
    "# api-endpoint\n",
    "URI = \"https://maps.googleapis.com/maps/api/geocode/json\"\n",
    "# API key\n",
    "key = \"XXXXXXXXXXXXXXXXXXX\""
   ]
  },
  {
   "cell_type": "markdown",
   "id": "30",
   "metadata": {},
   "source": [
    "The better practice is to store the key securely outside of the notebook (and adding the configuration file to .gitignore)."
   ]
  },
  {
   "cell_type": "code",
   "execution_count": null,
   "id": "31",
   "metadata": {},
   "outputs": [],
   "source": [
    "import yaml\n",
    "\n",
    "with open(\"config.yml\", \"r\") as ymlfile:\n",
    "    cfg = yaml.safe_load(ymlfile)\n",
    "key = cfg[\"google_api\"][\"secret_code\"]"
   ]
  },
  {
   "cell_type": "code",
   "execution_count": null,
   "id": "32",
   "metadata": {},
   "outputs": [],
   "source": [
    "# location to geocode\n",
    "location = \"university of heidelberg\"\n",
    "country = \"germany\"\n",
    "# defining a params dict for the parameters to be sent to the API\n",
    "parameters = {\"key\": key, \"address\": location, \"country\": country}\n",
    "# sending get request and saving the response as response object\n",
    "r = rq.get(url=URI, params=parameters)"
   ]
  },
  {
   "cell_type": "code",
   "execution_count": null,
   "id": "33",
   "metadata": {},
   "outputs": [],
   "source": [
    "r.status_code"
   ]
  },
  {
   "cell_type": "code",
   "execution_count": null,
   "id": "34",
   "metadata": {},
   "outputs": [],
   "source": [
    "# extracting data in json format\n",
    "data = r.json()"
   ]
  },
  {
   "cell_type": "code",
   "execution_count": null,
   "id": "35",
   "metadata": {},
   "outputs": [],
   "source": [
    "print(data)"
   ]
  },
  {
   "cell_type": "code",
   "execution_count": null,
   "id": "36",
   "metadata": {},
   "outputs": [],
   "source": [
    "# print this a little prettier\n",
    "print(json.dumps(data, indent=4, sort_keys=True))"
   ]
  },
  {
   "cell_type": "code",
   "execution_count": null,
   "id": "37",
   "metadata": {},
   "outputs": [],
   "source": [
    "address_out = data[\"results\"][0][\"formatted_address\"]\n",
    "# printing the output\n",
    "print(\"Address is {}.\".format(address_out))"
   ]
  },
  {
   "cell_type": "code",
   "execution_count": null,
   "id": "38",
   "metadata": {},
   "outputs": [],
   "source": [
    "latitude = data[\"results\"][0][\"geometry\"][\"location\"][\"lat\"]\n",
    "longitude = data[\"results\"][0][\"geometry\"][\"location\"][\"lng\"]\n",
    "# printing the output\n",
    "print(\"Latitude is {} and longitude {}.\".format(latitude, longitude))"
   ]
  },
  {
   "cell_type": "markdown",
   "id": "39",
   "metadata": {},
   "source": [
    "# Making a POST request\n",
    "Again we need an account for this example. This time, we are using the service [pastebin](https://pastebin.com/). You can send text to this address and it will be publicly visible. It serves as a storage for textual data."
   ]
  },
  {
   "cell_type": "code",
   "execution_count": null,
   "id": "40",
   "metadata": {},
   "outputs": [],
   "source": [
    "# defining the api-endpoint\n",
    "api_endpoint = \"https://pastebin.com/api/api_post.php\"\n",
    "# API key\n",
    "key = \"XXXXXXXXXXXXXXXXXXXXXXXXXXXX\""
   ]
  },
  {
   "cell_type": "code",
   "execution_count": null,
   "id": "41",
   "metadata": {},
   "outputs": [],
   "source": [
    "key = cfg[\"pastebin_api\"][\"secret_code\"]"
   ]
  },
  {
   "cell_type": "code",
   "execution_count": null,
   "id": "42",
   "metadata": {},
   "outputs": [],
   "source": [
    "# the API option\n",
    "option = \"paste\"\n",
    "# name/title of your paste\n",
    "api_paste_name = \"lunch time python\"\n",
    "# syntax highlighting\n",
    "api_format = \"python\"\n",
    "# this makes a paste public, unlisted or private, public = 0, unlisted = 1, private = 2\n",
    "private = 0\n",
    "# the text you want to paste, for example, a code snippet in python\n",
    "text = \"\"\"\n",
    "print(\"Hello, lunch time!\")\n",
    "x = 'my lunch'\n",
    "y = 'your lunch'\n",
    "print('{} {}'.format(x, y))\n",
    "\"\"\"\n",
    "# data dictionary, to be sent to api\n",
    "data = {\n",
    "    \"api_dev_key\": key,\n",
    "    \"api_option\": option,\n",
    "    \"api_paste_code\": text,\n",
    "    \"api_paste_format\": api_format,\n",
    "    \"api_paste_private\": private,\n",
    "}\n",
    "\n",
    "# sending post request and saving response as response object\n",
    "r = rq.post(url=api_endpoint, data=data)"
   ]
  },
  {
   "cell_type": "code",
   "execution_count": null,
   "id": "43",
   "metadata": {},
   "outputs": [],
   "source": [
    "r.status_code"
   ]
  },
  {
   "cell_type": "code",
   "execution_count": null,
   "id": "44",
   "metadata": {},
   "outputs": [],
   "source": [
    "# extracting response text\n",
    "pastebin_url = r.text\n",
    "print(\"The pastebin URL is {}\".format(pastebin_url))"
   ]
  },
  {
   "cell_type": "markdown",
   "id": "45",
   "metadata": {},
   "source": [
    "# Making a PUT request\n",
    "A PUT request is similar to a POST request, but it is *idempotent*. This means, that in a PUT request the target is replaced. In a POST request, the target appears multiple times. In the above example from pastebin, a POST request generates a new paste, while a PUT request would replace/alter a paste. For the differences between HTTP methods, see [here](https://www.w3schools.com/tags/ref_httpmethods.asp).\n",
    "\n",
    "For the PUT example, we will use [httpbin](https://httpbin.org/). This is an open service that allows you to test API calls and authetication methods."
   ]
  },
  {
   "cell_type": "code",
   "execution_count": null,
   "id": "46",
   "metadata": {},
   "outputs": [],
   "source": [
    "# the api-endpoint\n",
    "api_endpoint = \"https://httpbin.org/put\"\n",
    "# the data to send - we want to receive a JSON response\n",
    "data_type = \"application/json\"\n",
    "# storing in a dictionary\n",
    "data = {\"accept\": data_type}\n",
    "# Making a PUT request\n",
    "r = rq.put(url=api_endpoint, data=data)"
   ]
  },
  {
   "cell_type": "code",
   "execution_count": null,
   "id": "47",
   "metadata": {},
   "outputs": [],
   "source": [
    "# check status code for response received\n",
    "print(r)\n",
    "print(\"*************************\")\n",
    "print(r.status_code)\n",
    "print(\"*************************\")\n",
    "# print content of request\n",
    "print(r.content)\n",
    "print(\"*************************\")\n",
    "# print recognizing the json response of the request\n",
    "print(r.json())\n",
    "print(\"*************************\")\n",
    "# print this a little prettier\n",
    "print(json.dumps(r.json(), indent=4, sort_keys=True))"
   ]
  },
  {
   "cell_type": "markdown",
   "id": "48",
   "metadata": {},
   "source": [
    "# Advanced topics\n",
    "There is so much more you can do with requests - for example:\n",
    "- [sessioning](https://docs.python-requests.org/en/latest/user/advanced/#session-objects) which allows you to re-use the connection to the server (through session pooling, leading to faster requests); \n",
    "- [SSL certificate verification](https://docs.python-requests.org/en/latest/user/advanced/#ssl-cert-verification) which allows you to validate the requests;\n",
    "- [streaming](https://docs.python-requests.org/en/latest/user/advanced/#streaming-requests); \n",
    "- and [much more](https://docs.python-requests.org/en/latest/user/advanced/)!"
   ]
  },
  {
   "cell_type": "code",
   "execution_count": null,
   "id": "49",
   "metadata": {},
   "outputs": [],
   "source": []
  }
 ],
 "metadata": {
  "kernelspec": {
   "display_name": "Python 3",
   "language": "python",
   "name": "python3"
  },
  "language_info": {
   "codemirror_mode": {
    "name": "ipython",
    "version": 3
   },
   "file_extension": ".py",
   "mimetype": "text/x-python",
   "name": "python",
   "nbconvert_exporter": "python",
   "pygments_lexer": "ipython3",
   "version": "3.8.10"
  }
 },
 "nbformat": 4,
 "nbformat_minor": 5
}
