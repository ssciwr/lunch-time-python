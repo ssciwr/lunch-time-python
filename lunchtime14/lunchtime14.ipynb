{
 "cells": [
  {
   "cell_type": "markdown",
   "id": "0",
   "metadata": {
    "editable": true,
    "slideshow": {
     "slide_type": "slide"
    },
    "tags": []
   },
   "source": [
    "# Lunch Time Python\n",
    "\n",
    "## Lunch 14: FastAPI\n",
    "<img style=\"height: 100px;\" src=\"https://fastapi.tiangolo.com/img/logo-margin/logo-teal.png\">\n",
    "\n",
    "[FastAPI](https://fastapi.tiangolo.com/) is a web framework that combines the [starlette](https://www.starlette.io/) ASGI framework with [pydantic](https://docs.pydantic.dev/latest/) data validation.\n",
    "Similarly, [SQLModel](https://sqlmodel.tiangolo.com/) combines the [SQLAlchemy](https://www.sqlalchemy.org/) database toolkit with pydantic.\n",
    "Together they allow you to write expressive web backends with data validation using Python type hints.\n",
    "\n",
    "*Press `Spacebar` to go to the next slide (or `?` to see all navigation shortcuts)*\n",
    "\n",
    "[Lunch Time Python](https://ssciwr.github.io/lunch-time-python/), [Scientific Software Center](https://ssc.iwr.uni-heidelberg.de), [Heidelberg University](https://www.uni-heidelberg.de/)"
   ]
  },
  {
   "cell_type": "markdown",
   "id": "1",
   "metadata": {
    "editable": true,
    "slideshow": {
     "slide_type": "subslide"
    },
    "tags": []
   },
   "source": [
    "<img style=\"height: 400px;\" src=\"https://miro.medium.com/v2/resize:fit:2000/format:webp/0*RfvInMt7Z1TSCa8N\">\n",
    "https://medium.com/@adityagaba1322/streamlining-backend-frontend-integration-a-quick-guide-145eca3cca05"
   ]
  },
  {
   "cell_type": "markdown",
   "id": "2",
   "metadata": {
    "editable": true,
    "slideshow": {
     "slide_type": "slide"
    },
    "tags": []
   },
   "source": [
    "# Motivation\n",
    "\n",
    "### Sending / recieving data\n",
    "- A key part of a web development is receiving/validating/sending data, e.g.\n",
    "  - Frontend sends json data to the backend\n",
    "  - Backend parses and validates json\n",
    "  - Backend creates database object from data\n",
    "  - Backend returns database object as json to frontend"
   ]
  },
  {
   "cell_type": "markdown",
   "id": "3",
   "metadata": {
    "editable": true,
    "slideshow": {
     "slide_type": "subslide"
    },
    "tags": []
   },
   "source": [
    "### Parsing / validation data\n",
    "\n",
    "- Need validation logic\n",
    "  - Check that required fields are present\n",
    "  - Check that the field has the right type\n",
    "- Needs to be done with every send / receive of data\n",
    "  - Ideally on both sides\n",
    "- This involves a lot of boilerplate code\n",
    "- Also often involves duplicating types and validation logic between frontend and backend"
   ]
  },
  {
   "cell_type": "markdown",
   "id": "4",
   "metadata": {
    "editable": true,
    "slideshow": {
     "slide_type": "subslide"
    },
    "tags": []
   },
   "source": [
    "### Making changes\n",
    "What happens when you modify a data structure?\n",
    "\n",
    "- You need to update the logic that uses this data structure\n",
    "- You need to update all the associated validation logic"
   ]
  },
  {
   "cell_type": "markdown",
   "id": "5",
   "metadata": {
    "editable": true,
    "slideshow": {
     "slide_type": "fragment"
    },
    "tags": []
   },
   "source": [
    "Prerequisite\n",
    "- You first need to find all the places it is used\n",
    "- For a common variable name like a \"name\" field, even this may not be straightforward!"
   ]
  },
  {
   "cell_type": "markdown",
   "id": "6",
   "metadata": {
    "editable": true,
    "slideshow": {
     "slide_type": "subslide"
    },
    "tags": []
   },
   "source": [
    "### Writing code\n",
    "What happens when you make a coding mistake or typo, e.g.\n",
    "\n",
    "- Use the wrong endpoint: `/userss/` (or even `/users` instead of `/users/`!)\n",
    "- Use the wrong key: `email: ...` instead of `username: ...`\n",
    "- Use a key that doesn't exist in the data\n",
    "- etc\n",
    "\n",
    "All these are perfectly fine from the IDE / code point of view - so if you're lucky you'll find the error when you run your testsuite, if not only with manual testing or worst case in production."
   ]
  },
  {
   "cell_type": "markdown",
   "id": "7",
   "metadata": {
    "editable": true,
    "slideshow": {
     "slide_type": "subslide"
    },
    "tags": []
   },
   "source": [
    "# In a better world...\n",
    "\n",
    "- data schema would be defined as **types** in a **single place** in your code\n",
    "- all backend endpoints would **automatically** validate inputs and outputs according to their types\n",
    "- frontend code would have automatically generated **type definitions** for data and endpoints\n",
    "\n",
    "### Benefits\n",
    "\n",
    "- many errors are now **type errors** instead of **runtime errors**\n",
    "- this means your IDE can catch them as you write them\n",
    "- your IDE can also be much more helpful with auto-complete / types / API function lookup"
   ]
  },
  {
   "cell_type": "markdown",
   "id": "8",
   "metadata": {
    "editable": true,
    "slideshow": {
     "slide_type": "slide"
    },
    "tags": []
   },
   "source": [
    "# FastAPI + SQLModel\n",
    "\n",
    "- FastAPI\n",
    "  - starlette (ASGI framework)\n",
    "  - pydantic (data validation)\n",
    "- SQLModel\n",
    "  - sqlalchemy (database toolkit)\n",
    "  - pydantic (data validation)"
   ]
  },
  {
   "cell_type": "markdown",
   "id": "9",
   "metadata": {
    "editable": true,
    "slideshow": {
     "slide_type": "subslide"
    },
    "tags": []
   },
   "source": [
    "# Comparison with Flask\n",
    "\n",
    "| Layer | Typical Flask stack | This talk | \n",
    "| ----- | ------------------- | --------- |\n",
    "| *Interface* | WSGI | ASGI |\n",
    "| *Server* | Gunicorn | Uvicorn |\n",
    "| *Framework* | flask / werkzeug | starlette |\n",
    "| *Framework data validation* | flask-pydantic | fastAPI / pydantic |\n",
    "| *Database* | sqlalchemy | sqlalchemy |\n",
    "| *Database data validation* | ? | SQLModel / pydantic |"
   ]
  },
  {
   "cell_type": "markdown",
   "id": "10",
   "metadata": {
    "editable": true,
    "slideshow": {
     "slide_type": "slide"
    },
    "tags": []
   },
   "source": [
    "# FastAPI app"
   ]
  },
  {
   "cell_type": "code",
   "execution_count": null,
   "id": "11",
   "metadata": {
    "editable": true,
    "slideshow": {
     "slide_type": "subslide"
    },
    "tags": []
   },
   "outputs": [],
   "source": [
    "from fastapi import FastAPI\n",
    "\n",
    "app = FastAPI()"
   ]
  },
  {
   "cell_type": "code",
   "execution_count": null,
   "id": "12",
   "metadata": {
    "editable": true,
    "slideshow": {
     "slide_type": "subslide"
    },
    "tags": []
   },
   "outputs": [],
   "source": [
    "# database boilerplate\n",
    "from typing import Annotated\n",
    "from fastapi import Depends\n",
    "from sqlmodel import Session, create_engine\n",
    "\n",
    "engine = create_engine(\"sqlite:///tmp.db\")\n",
    "\n",
    "\n",
    "def get_session():\n",
    "    with Session(engine) as session:\n",
    "        yield session\n",
    "\n",
    "\n",
    "SessionDep = Annotated[Session, Depends(get_session)]"
   ]
  },
  {
   "cell_type": "markdown",
   "id": "13",
   "metadata": {
    "editable": true,
    "slideshow": {
     "slide_type": "slide"
    },
    "tags": []
   },
   "source": [
    "# SQLModel data models"
   ]
  },
  {
   "cell_type": "code",
   "execution_count": null,
   "id": "14",
   "metadata": {
    "editable": true,
    "slideshow": {
     "slide_type": "subslide"
    },
    "tags": []
   },
   "outputs": [],
   "source": [
    "from sqlmodel import Field, SQLModel\n",
    "\n",
    "\n",
    "class User(SQLModel, table=True):\n",
    "    id: int | None = Field(default=None, primary_key=True)\n",
    "    name: str\n",
    "    password_hash: str\n",
    "\n",
    "\n",
    "class UserRead(SQLModel):\n",
    "    id: int\n",
    "    name: str\n",
    "\n",
    "\n",
    "class UserCreate(SQLModel):\n",
    "    name: str\n",
    "    password: str\n",
    "\n",
    "\n",
    "class UserUpdate(SQLModel):\n",
    "    name: str | None = None\n",
    "    password: str | None = None\n",
    "\n",
    "\n",
    "SQLModel.metadata.create_all(engine)"
   ]
  },
  {
   "cell_type": "markdown",
   "id": "15",
   "metadata": {
    "editable": true,
    "slideshow": {
     "slide_type": "slide"
    },
    "tags": []
   },
   "source": [
    "# FastAPI /users route"
   ]
  },
  {
   "cell_type": "markdown",
   "id": "16",
   "metadata": {
    "editable": true,
    "slideshow": {
     "slide_type": "subslide"
    },
    "tags": []
   },
   "source": [
    "### /users-v1/\n",
    "Returns some data"
   ]
  },
  {
   "cell_type": "code",
   "execution_count": null,
   "id": "17",
   "metadata": {
    "editable": true,
    "slideshow": {
     "slide_type": "fragment"
    },
    "tags": []
   },
   "outputs": [],
   "source": [
    "from sqlmodel import select\n",
    "\n",
    "\n",
    "@app.get(\"/users-v1/\")\n",
    "def read_users_v1(session: SessionDep):\n",
    "    users = session.exec(select(User)).all()\n",
    "    return users"
   ]
  },
  {
   "cell_type": "markdown",
   "id": "18",
   "metadata": {
    "editable": true,
    "slideshow": {
     "slide_type": "fragment"
    },
    "tags": []
   },
   "source": [
    "...but we don't specify what data!"
   ]
  },
  {
   "cell_type": "markdown",
   "id": "19",
   "metadata": {
    "editable": true,
    "slideshow": {
     "slide_type": "subslide"
    },
    "tags": []
   },
   "source": [
    "### /users-v2/\n",
    "Returns a list of `User` objects"
   ]
  },
  {
   "cell_type": "code",
   "execution_count": null,
   "id": "20",
   "metadata": {
    "editable": true,
    "slideshow": {
     "slide_type": "fragment"
    },
    "tags": []
   },
   "outputs": [],
   "source": [
    "from sqlmodel import select\n",
    "\n",
    "\n",
    "@app.get(\"/users-v2/\", response_model=list[User])\n",
    "def read_users_v2(session: SessionDep):\n",
    "    users = session.exec(select(User)).all()\n",
    "    return users"
   ]
  },
  {
   "cell_type": "markdown",
   "id": "21",
   "metadata": {
    "editable": true,
    "slideshow": {
     "slide_type": "fragment"
    },
    "tags": []
   },
   "source": [
    "...but we don't want to include the password hash!"
   ]
  },
  {
   "cell_type": "markdown",
   "id": "22",
   "metadata": {
    "editable": true,
    "slideshow": {
     "slide_type": "subslide"
    },
    "tags": []
   },
   "source": [
    "### /users-v3/\n",
    "Returns a list of `UserRead`"
   ]
  },
  {
   "cell_type": "code",
   "execution_count": null,
   "id": "23",
   "metadata": {
    "editable": true,
    "slideshow": {
     "slide_type": "fragment"
    },
    "tags": []
   },
   "outputs": [],
   "source": [
    "from sqlmodel import select\n",
    "\n",
    "\n",
    "@app.get(\"/users-v3/\", response_model=list[UserRead])\n",
    "def read_users_v3(session: SessionDep):\n",
    "    users = session.exec(select(User)).all()\n",
    "    return users"
   ]
  },
  {
   "cell_type": "markdown",
   "id": "24",
   "metadata": {
    "editable": true,
    "slideshow": {
     "slide_type": "fragment"
    },
    "tags": []
   },
   "source": [
    "...but what if we have a million users in our database?"
   ]
  },
  {
   "cell_type": "markdown",
   "id": "25",
   "metadata": {
    "editable": true,
    "slideshow": {
     "slide_type": "subslide"
    },
    "tags": []
   },
   "source": [
    "### /users/\n",
    "Returns a list of `UserRead`, with an offset and a limit"
   ]
  },
  {
   "cell_type": "code",
   "execution_count": null,
   "id": "26",
   "metadata": {
    "editable": true,
    "slideshow": {
     "slide_type": "fragment"
    },
    "tags": []
   },
   "outputs": [],
   "source": [
    "from fastapi import Query\n",
    "from sqlmodel import select\n",
    "\n",
    "\n",
    "@app.get(\"/users/\", response_model=list[UserRead])\n",
    "def read_users(\n",
    "    session: SessionDep,\n",
    "    offset: int = 0,\n",
    "    limit: int = Query(default=100, le=100),\n",
    "):\n",
    "    users = session.exec(select(User).offset(offset).limit(limit)).all()\n",
    "    return users"
   ]
  },
  {
   "cell_type": "markdown",
   "id": "27",
   "metadata": {
    "editable": true,
    "slideshow": {
     "slide_type": "slide"
    },
    "tags": []
   },
   "source": [
    "# More FastAPI routes"
   ]
  },
  {
   "cell_type": "code",
   "execution_count": null,
   "id": "28",
   "metadata": {
    "editable": true,
    "slideshow": {
     "slide_type": "subslide"
    },
    "tags": []
   },
   "outputs": [],
   "source": [
    "from fastapi import HTTPException\n",
    "\n",
    "\n",
    "@app.get(\"/users/{user_id}\", response_model=UserRead)\n",
    "def read_user(session: SessionDep, user_id: int):\n",
    "    user = session.get(User, user_id)\n",
    "    if user is None:\n",
    "        raise HTTPException(404)\n",
    "    return user"
   ]
  },
  {
   "cell_type": "code",
   "execution_count": null,
   "id": "29",
   "metadata": {
    "editable": true,
    "slideshow": {
     "slide_type": "subslide"
    },
    "tags": []
   },
   "outputs": [],
   "source": [
    "from argon2 import PasswordHasher\n",
    "\n",
    "\n",
    "@app.post(\"/users/\", response_model=UserRead)\n",
    "def create_user(session: SessionDep, user: UserCreate):\n",
    "    password_hash = PasswordHasher().hash(user.password)\n",
    "    extra_data = {\"password_hash\": password_hash}\n",
    "    user_db = User.model_validate(user, update=extra_data)\n",
    "    session.add(user_db)\n",
    "    session.commit()\n",
    "    session.refresh(user_db)\n",
    "    return user_db"
   ]
  },
  {
   "cell_type": "code",
   "execution_count": null,
   "id": "30",
   "metadata": {
    "editable": true,
    "slideshow": {
     "slide_type": "subslide"
    },
    "tags": []
   },
   "outputs": [],
   "source": [
    "@app.patch(\"/users/{user_id}\", response_model=UserRead)\n",
    "def update_user(session: SessionDep, user: UserUpdate, user_id: int):\n",
    "    user_db = read_user(session, user_id)\n",
    "    user_data = user.model_dump(exclude_unset=True)\n",
    "    if user.password:\n",
    "        password_hash = PasswordHasher().hash(user.password)\n",
    "        user_data[\"password_hash\"] = password_hash\n",
    "    user_db.sqlmodel_update(user_data)\n",
    "    session.add(user_db)\n",
    "    session.commit()\n",
    "    session.refresh(user_db)\n",
    "    return user_db"
   ]
  },
  {
   "cell_type": "markdown",
   "id": "31",
   "metadata": {
    "editable": true,
    "slideshow": {
     "slide_type": "slide"
    },
    "tags": []
   },
   "source": [
    "# Run the API"
   ]
  },
  {
   "cell_type": "code",
   "execution_count": null,
   "id": "32",
   "metadata": {
    "editable": true,
    "slideshow": {
     "slide_type": "fragment"
    },
    "tags": []
   },
   "outputs": [],
   "source": [
    "import uvicorn\n",
    "\n",
    "# uncomment to run the app in this cell:\n",
    "# await uvicorn.Server(uvicorn.Config(app)).serve()"
   ]
  },
  {
   "cell_type": "markdown",
   "id": "33",
   "metadata": {
    "editable": true,
    "slideshow": {
     "slide_type": "slide"
    },
    "tags": []
   },
   "source": [
    "# ReDoc API documentation\n",
    "\n",
    "From the openapi schema ReDoc API docs are generated:\n",
    "\n",
    "http://localhost:8000/redoc"
   ]
  },
  {
   "cell_type": "markdown",
   "id": "34",
   "metadata": {
    "editable": true,
    "slideshow": {
     "slide_type": "slide"
    },
    "tags": []
   },
   "source": [
    "# Swagger API UI\n",
    "\n",
    "A swagger UI is also generated, which allows you to interact with the API from the browser:\n",
    "\n",
    "http://localhost:8000/docs"
   ]
  },
  {
   "cell_type": "markdown",
   "id": "35",
   "metadata": {
    "editable": true,
    "slideshow": {
     "slide_type": "slide"
    },
    "tags": []
   },
   "source": [
    "# Typescript types and client\n",
    "\n",
    "There are a variety of tools that can autogenerate both types and clients in typescript for your backend.\n",
    "\n",
    "For example:\n",
    "\n",
    "`pnpx @hey-api/openapi-ts -i http://localhost:8000/openapi.json -o src/client -c @hey-api/client-fetch`"
   ]
  },
  {
   "cell_type": "markdown",
   "id": "36",
   "metadata": {
    "editable": true,
    "slideshow": {
     "slide_type": "subslide"
    },
    "tags": []
   },
   "source": [
    "This generates the types for our API:\n",
    "```js\n",
    "export type UserRead = {\n",
    "    id: number;\n",
    "    name: string;\n",
    "};\n",
    "\n",
    "export type ReadUsersUsersGetResponse = (Array<UserRead>);\n",
    "```"
   ]
  },
  {
   "cell_type": "markdown",
   "id": "37",
   "metadata": {
    "editable": true,
    "slideshow": {
     "slide_type": "subslide"
    },
    "tags": []
   },
   "source": [
    "```js\n",
    "export type ValidationError = {\n",
    "    loc: Array<(string | number)>;\n",
    "    msg: string;\n",
    "    type: string;\n",
    "};\n",
    "\n",
    "export type HTTPValidationError = {\n",
    "    detail?: Array<ValidationError>;\n",
    "};\n",
    "\n",
    "export type ReadUsersUsersGetError = (HTTPValidationError);\n",
    "```"
   ]
  },
  {
   "cell_type": "markdown",
   "id": "38",
   "metadata": {
    "editable": true,
    "slideshow": {
     "slide_type": "subslide"
    },
    "tags": []
   },
   "source": [
    "As well as a client for interacting with it:\n",
    "```js\n",
    "/**\n",
    " * Read Users\n",
    " */\n",
    "export const readUsersUsersGet = <ThrowOnError extends boolean = false>(options?: Options<unknown, ThrowOnError>) => {\n",
    "    return (options?.client ?? client).get<ReadUsersUsersGetResponse, ReadUsersUsersGetError, ThrowOnError>({\n",
    "        ...options,\n",
    "        url: '/users/'\n",
    "    });\n",
    "};\n",
    "```"
   ]
  },
  {
   "cell_type": "markdown",
   "id": "39",
   "metadata": {
    "editable": true,
    "slideshow": {
     "slide_type": "slide"
    },
    "tags": []
   },
   "source": [
    "# Summary\n",
    "\n",
    "With FastAPI + SQLModel\n",
    "\n",
    "- Data schema is defined in a single place for the backend / frontend / database\n",
    "- Automatic validation of data in backend and frontend\n",
    "- Auto-generated API docs / UI\n",
    "- Auto-generated API client typescript code"
   ]
  },
  {
   "cell_type": "markdown",
   "id": "40",
   "metadata": {
    "editable": true,
    "slideshow": {
     "slide_type": "subslide"
    },
    "tags": []
   },
   "source": [
    "# More information\n",
    "\n",
    "- FastAPI tutorial\n",
    "  - https://fastapi.tiangolo.com/tutorial/\n",
    "- SQLModel+FastAPI tutorial\n",
    "  - https://sqlmodel.tiangolo.com/tutorial/fastapi/\n",
    "- Litestar (alternative to FastAPI)\n",
    "  - https://litestar.dev/\n",
    "- Hey API getting started\n",
    "  - https://heyapi.dev/openapi-ts/get-started.html\n",
    "- Example project\n",
    "  - https://github.com/ssciwr/mondey"
   ]
  }
 ],
 "metadata": {
  "celltoolbar": "Slideshow",
  "kernelspec": {
   "display_name": "Python 3 (ipykernel)",
   "language": "python",
   "name": "python3"
  },
  "language_info": {
   "codemirror_mode": {
    "name": "ipython",
    "version": 3
   },
   "file_extension": ".py",
   "mimetype": "text/x-python",
   "name": "python",
   "nbconvert_exporter": "python",
   "pygments_lexer": "ipython3",
   "version": "3.11.10"
  }
 },
 "nbformat": 4,
 "nbformat_minor": 5
}
